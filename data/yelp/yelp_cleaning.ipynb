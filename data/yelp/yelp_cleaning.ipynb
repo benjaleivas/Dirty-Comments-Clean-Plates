{
 "cells": [
  {
   "cell_type": "code",
   "execution_count": 3,
   "metadata": {},
   "outputs": [],
   "source": [
    "import pandas as pd\n",
    "import tarfile\n",
    "import json\n",
    "import polars as pl"
   ]
  },
  {
   "cell_type": "code",
   "execution_count": 2,
   "metadata": {},
   "outputs": [
    {
     "name": "stdout",
     "output_type": "stream",
     "text": [
      "Collecting polars\n",
      "  Downloading polars-0.20.13-cp38-abi3-macosx_10_12_x86_64.whl.metadata (15 kB)\n",
      "Downloading polars-0.20.13-cp38-abi3-macosx_10_12_x86_64.whl (24.8 MB)\n",
      "\u001b[2K   \u001b[90m━━━━━━━━━━━━━━━━━━━━━━━━━━━━━━━━━━━━━━━━\u001b[0m \u001b[32m24.8/24.8 MB\u001b[0m \u001b[31m3.4 MB/s\u001b[0m eta \u001b[36m0:00:00\u001b[0m00:01\u001b[0m00:01\u001b[0m\n",
      "\u001b[?25hInstalling collected packages: polars\n",
      "Successfully installed polars-0.20.13\n",
      "Note: you may need to restart the kernel to use updated packages.\n"
     ]
    }
   ],
   "source": [
    "pip install polars"
   ]
  },
  {
   "cell_type": "code",
   "execution_count": 4,
   "metadata": {},
   "outputs": [],
   "source": [
    "#Buisness\n",
    "\n",
    "# Define the JSON file path\n",
    "json_file_path = \"yelp_academic_dataset_business.json\"\n",
    "\n",
    "# Read the JSON file in batches\n",
    "buinsess = pl.scan_ndjson(json_file_path)\n",
    "\n",
    "# Select only the 'user_id' and 'text' columns\n",
    "buinsess_subset = buinsess.select(['business_id', 'name']).collect(streaming = True)"
   ]
  },
  {
   "cell_type": "code",
   "execution_count": 5,
   "metadata": {},
   "outputs": [],
   "source": [
    "#Users\n",
    "\n",
    "# Define the JSON file path\n",
    "json_file_path = \"yelp_academic_dataset_user.json\"\n",
    "\n",
    "# Read the JSON file in batches\n",
    "users = pl.scan_ndjson(json_file_path)\n",
    "\n",
    "# Select only the 'user_id' and 'text' columns\n",
    "users_subset = users.select(['user_id', 'elite']).collect(streaming = True)"
   ]
  },
  {
   "cell_type": "code",
   "execution_count": 6,
   "metadata": {},
   "outputs": [],
   "source": [
    "#Reviews\n",
    "\n",
    "# Define the JSON file path\n",
    "json_file_path = \"yelp_academic_dataset_review.json\"\n",
    "\n",
    "# Read the JSON file in batches\n",
    "reviews = pl.scan_ndjson(json_file_path)\n",
    "\n",
    "# Select only the 'user_id' and 'text' columns\n",
    "reviews_subset = reviews.select(['user_id', 'text', 'date', 'business_id', 'stars', 'useful', 'funny', 'cool']).collect(streaming = True)\n"
   ]
  },
  {
   "cell_type": "code",
   "execution_count": 84,
   "metadata": {},
   "outputs": [],
   "source": [
    "stars_counts = reviews_subset['stars'].value_counts()"
   ]
  },
  {
   "cell_type": "code",
   "execution_count": 85,
   "metadata": {},
   "outputs": [
    {
     "data": {
      "text/html": [
       "<div><style>\n",
       ".dataframe > thead > tr > th,\n",
       ".dataframe > tbody > tr > td {\n",
       "  text-align: right;\n",
       "}\n",
       "</style>\n",
       "<small>shape: (5, 2)</small><table border=\"1\" class=\"dataframe\"><thead><tr><th>stars</th><th>counts</th></tr><tr><td>f64</td><td>u32</td></tr></thead><tbody><tr><td>1.0</td><td>1069561</td></tr><tr><td>2.0</td><td>544240</td></tr><tr><td>3.0</td><td>691934</td></tr><tr><td>4.0</td><td>1452918</td></tr><tr><td>5.0</td><td>3231627</td></tr></tbody></table></div>"
      ],
      "text/plain": [
       "shape: (5, 2)\n",
       "┌───────┬─────────┐\n",
       "│ stars ┆ counts  │\n",
       "│ ---   ┆ ---     │\n",
       "│ f64   ┆ u32     │\n",
       "╞═══════╪═════════╡\n",
       "│ 1.0   ┆ 1069561 │\n",
       "│ 2.0   ┆ 544240  │\n",
       "│ 3.0   ┆ 691934  │\n",
       "│ 4.0   ┆ 1452918 │\n",
       "│ 5.0   ┆ 3231627 │\n",
       "└───────┴─────────┘"
      ]
     },
     "execution_count": 85,
     "metadata": {},
     "output_type": "execute_result"
    }
   ],
   "source": [
    "stars_counts"
   ]
  },
  {
   "cell_type": "code",
   "execution_count": 7,
   "metadata": {},
   "outputs": [
    {
     "name": "stderr",
     "output_type": "stream",
     "text": [
      "/var/folders/qz/c0nnbl790814q7f1jrtp6v1w0000gn/T/ipykernel_57109/3437540205.py:8: DeprecationWarning: `groupby` is deprecated. It has been renamed to `group_by`.\n",
      "  grouped_df = reviews_subset.groupby(control_columns)\n"
     ]
    },
    {
     "ename": "KeyboardInterrupt",
     "evalue": "",
     "output_type": "error",
     "traceback": [
      "\u001b[0;31m---------------------------------------------------------------------------\u001b[0m",
      "\u001b[0;31mKeyboardInterrupt\u001b[0m                         Traceback (most recent call last)",
      "Cell \u001b[0;32mIn[7], line 11\u001b[0m\n\u001b[1;32m      8\u001b[0m grouped_df \u001b[38;5;241m=\u001b[39m reviews_subset\u001b[38;5;241m.\u001b[39mgroupby(control_columns)\n\u001b[1;32m     10\u001b[0m \u001b[38;5;66;03m# Convert grouped DataFrame to a list of DataFrames\u001b[39;00m\n\u001b[0;32m---> 11\u001b[0m grouped_dfs \u001b[38;5;241m=\u001b[39m [group \u001b[38;5;28;01mfor\u001b[39;00m group \u001b[38;5;129;01min\u001b[39;00m grouped_df]\n\u001b[1;32m     13\u001b[0m \u001b[38;5;66;03m# Sample each DataFrame individually\u001b[39;00m\n\u001b[1;32m     14\u001b[0m sampled_dfs \u001b[38;5;241m=\u001b[39m [group\u001b[38;5;241m.\u001b[39msample(fraction\u001b[38;5;241m=\u001b[39mfrac) \u001b[38;5;28;01mfor\u001b[39;00m group \u001b[38;5;129;01min\u001b[39;00m grouped_dfs]\n",
      "Cell \u001b[0;32mIn[7], line 11\u001b[0m, in \u001b[0;36m<listcomp>\u001b[0;34m(.0)\u001b[0m\n\u001b[1;32m      8\u001b[0m grouped_df \u001b[38;5;241m=\u001b[39m reviews_subset\u001b[38;5;241m.\u001b[39mgroupby(control_columns)\n\u001b[1;32m     10\u001b[0m \u001b[38;5;66;03m# Convert grouped DataFrame to a list of DataFrames\u001b[39;00m\n\u001b[0;32m---> 11\u001b[0m grouped_dfs \u001b[38;5;241m=\u001b[39m [group \u001b[38;5;28;01mfor\u001b[39;00m group \u001b[38;5;129;01min\u001b[39;00m grouped_df]\n\u001b[1;32m     13\u001b[0m \u001b[38;5;66;03m# Sample each DataFrame individually\u001b[39;00m\n\u001b[1;32m     14\u001b[0m sampled_dfs \u001b[38;5;241m=\u001b[39m [group\u001b[38;5;241m.\u001b[39msample(fraction\u001b[38;5;241m=\u001b[39mfrac) \u001b[38;5;28;01mfor\u001b[39;00m group \u001b[38;5;129;01min\u001b[39;00m grouped_dfs]\n",
      "File \u001b[0;32m/Library/Frameworks/Python.framework/Versions/3.8/lib/python3.8/site-packages/polars/dataframe/group_by.py:136\u001b[0m, in \u001b[0;36mGroupBy.__next__\u001b[0;34m(self)\u001b[0m\n\u001b[1;32m    133\u001b[0m     \u001b[38;5;28;01mraise\u001b[39;00m \u001b[38;5;167;01mStopIteration\u001b[39;00m\n\u001b[1;32m    135\u001b[0m group_name \u001b[38;5;241m=\u001b[39m \u001b[38;5;28mnext\u001b[39m(\u001b[38;5;28mself\u001b[39m\u001b[38;5;241m.\u001b[39m_group_names)\n\u001b[0;32m--> 136\u001b[0m group_data \u001b[38;5;241m=\u001b[39m \u001b[38;5;28;43mself\u001b[39;49m\u001b[38;5;241;43m.\u001b[39;49m\u001b[43mdf\u001b[49m\u001b[43m[\u001b[49m\u001b[38;5;28;43mself\u001b[39;49m\u001b[38;5;241;43m.\u001b[39;49m\u001b[43m_group_indices\u001b[49m\u001b[43m[\u001b[49m\u001b[38;5;28;43mself\u001b[39;49m\u001b[38;5;241;43m.\u001b[39;49m\u001b[43m_current_index\u001b[49m\u001b[43m]\u001b[49m\u001b[43m]\u001b[49m\n\u001b[1;32m    137\u001b[0m \u001b[38;5;28mself\u001b[39m\u001b[38;5;241m.\u001b[39m_current_index \u001b[38;5;241m+\u001b[39m\u001b[38;5;241m=\u001b[39m \u001b[38;5;241m1\u001b[39m\n\u001b[1;32m    139\u001b[0m \u001b[38;5;28;01mreturn\u001b[39;00m group_name, group_data\n",
      "File \u001b[0;32m/Library/Frameworks/Python.framework/Versions/3.8/lib/python3.8/site-packages/polars/dataframe/frame.py:1720\u001b[0m, in \u001b[0;36mDataFrame.__getitem__\u001b[0;34m(self, item)\u001b[0m\n\u001b[1;32m   1718\u001b[0m         \u001b[38;5;28;01mreturn\u001b[39;00m \u001b[38;5;28mself\u001b[39m\u001b[38;5;241m.\u001b[39m_from_pydf(\u001b[38;5;28mself\u001b[39m\u001b[38;5;241m.\u001b[39m_df\u001b[38;5;241m.\u001b[39mselect(item))\n\u001b[1;32m   1719\u001b[0m     \u001b[38;5;28;01melif\u001b[39;00m dtype\u001b[38;5;241m.\u001b[39mis_integer():\n\u001b[0;32m-> 1720\u001b[0m         \u001b[38;5;28;01mreturn\u001b[39;00m \u001b[38;5;28;43mself\u001b[39;49m\u001b[38;5;241;43m.\u001b[39;49m\u001b[43m_take_with_series\u001b[49m\u001b[43m(\u001b[49m\u001b[43mitem\u001b[49m\u001b[38;5;241;43m.\u001b[39;49m\u001b[43m_pos_idxs\u001b[49m\u001b[43m(\u001b[49m\u001b[38;5;28;43mself\u001b[39;49m\u001b[38;5;241;43m.\u001b[39;49m\u001b[43mshape\u001b[49m\u001b[43m[\u001b[49m\u001b[38;5;241;43m0\u001b[39;49m\u001b[43m]\u001b[49m\u001b[43m)\u001b[49m\u001b[43m)\u001b[49m\n\u001b[1;32m   1722\u001b[0m \u001b[38;5;66;03m# if no data has been returned, the operation is not supported\u001b[39;00m\n\u001b[1;32m   1723\u001b[0m msg \u001b[38;5;241m=\u001b[39m (\n\u001b[1;32m   1724\u001b[0m     \u001b[38;5;124mf\u001b[39m\u001b[38;5;124m\"\u001b[39m\u001b[38;5;124mcannot use `__getitem__` on DataFrame with item \u001b[39m\u001b[38;5;132;01m{\u001b[39;00mitem\u001b[38;5;132;01m!r}\u001b[39;00m\u001b[38;5;124m\"\u001b[39m\n\u001b[1;32m   1725\u001b[0m     \u001b[38;5;124mf\u001b[39m\u001b[38;5;124m\"\u001b[39m\u001b[38;5;124m of type \u001b[39m\u001b[38;5;132;01m{\u001b[39;00m\u001b[38;5;28mtype\u001b[39m(item)\u001b[38;5;241m.\u001b[39m\u001b[38;5;18m__name__\u001b[39m\u001b[38;5;132;01m!r}\u001b[39;00m\u001b[38;5;124m\"\u001b[39m\n\u001b[1;32m   1726\u001b[0m )\n",
      "File \u001b[0;32m/Library/Frameworks/Python.framework/Versions/3.8/lib/python3.8/site-packages/polars/dataframe/frame.py:1538\u001b[0m, in \u001b[0;36mDataFrame._take_with_series\u001b[0;34m(self, s)\u001b[0m\n\u001b[1;32m   1537\u001b[0m \u001b[38;5;28;01mdef\u001b[39;00m \u001b[38;5;21m_take_with_series\u001b[39m(\u001b[38;5;28mself\u001b[39m, s: Series) \u001b[38;5;241m-\u001b[39m\u001b[38;5;241m>\u001b[39m DataFrame:\n\u001b[0;32m-> 1538\u001b[0m     \u001b[38;5;28;01mreturn\u001b[39;00m \u001b[38;5;28mself\u001b[39m\u001b[38;5;241m.\u001b[39m_from_pydf(\u001b[38;5;28;43mself\u001b[39;49m\u001b[38;5;241;43m.\u001b[39;49m\u001b[43m_df\u001b[49m\u001b[38;5;241;43m.\u001b[39;49m\u001b[43mtake_with_series\u001b[49m\u001b[43m(\u001b[49m\u001b[43ms\u001b[49m\u001b[38;5;241;43m.\u001b[39;49m\u001b[43m_s\u001b[49m\u001b[43m)\u001b[49m)\n",
      "\u001b[0;31mKeyboardInterrupt\u001b[0m: "
     ]
    }
   ],
   "source": [
    "# Define the fraction of rows to sample\n",
    "frac = 0.005  # For example, to sample 10% of the rows\n",
    "\n",
    "# Define the column(s) to control the sample\n",
    "control_columns = [\"stars\", \"useful\", \"funny\", \"cool\"]  # Replace with your desired columns\n",
    "\n",
    "# Group by the control columns\n",
    "grouped_df = reviews_subset.groupby(control_columns)\n",
    "\n",
    "# Convert grouped DataFrame to a list of DataFrames\n",
    "grouped_dfs = [group for group in grouped_df]\n",
    "\n",
    "# Sample each DataFrame individually\n",
    "sampled_dfs = [group.sample(fraction=frac) for group in grouped_dfs]\n",
    "\n",
    "# Concatenate the sampled DataFrames back together\n",
    "sampled_df = pl.concat(sampled_dfs, axis=0)"
   ]
  },
  {
   "cell_type": "code",
   "execution_count": 8,
   "metadata": {},
   "outputs": [],
   "source": [
    "reviews_users_df = reviews_subset.join(users_subset, on='user_id', how='inner')"
   ]
  },
  {
   "cell_type": "code",
   "execution_count": 9,
   "metadata": {},
   "outputs": [],
   "source": [
    "elite_users_df = reviews_users_df.filter(pl.col('elite') != \"\")"
   ]
  },
  {
   "cell_type": "code",
   "execution_count": 52,
   "metadata": {},
   "outputs": [
    {
     "data": {
      "text/html": [
       "<div><style>\n",
       ".dataframe > thead > tr > th,\n",
       ".dataframe > tbody > tr > td {\n",
       "  text-align: right;\n",
       "}\n",
       "</style>\n",
       "<small>shape: (5, 5)</small><table border=\"1\" class=\"dataframe\"><thead><tr><th>user_id</th><th>text</th><th>date</th><th>business_id</th><th>elite</th></tr><tr><td>str</td><td>str</td><td>str</td><td>str</td><td>str</td></tr></thead><tbody><tr><td>&quot;8g_iMtfSiwikVn…</td><td>&quot;Family diner. …</td><td>&quot;2014-02-05 20:…</td><td>&quot;YjUWPpI6HXG530…</td><td>&quot;2014,2015,2016…</td></tr><tr><td>&quot;9OAtfnWag-ajVx…</td><td>&quot;Love going her…</td><td>&quot;2014-06-27 22:…</td><td>&quot;lj-E32x9_FA7Gm…</td><td>&quot;2014,2015,2016…</td></tr><tr><td>&quot;4Uh27DgGzsp6Pq…</td><td>&quot;The bun makes …</td><td>&quot;2011-10-27 17:…</td><td>&quot;otQS34_MymijPT…</td><td>&quot;2011,2012&quot;</td></tr><tr><td>&quot;j2wlzrntrbKwyO…</td><td>&quot;The hubby and …</td><td>&quot;2014-08-10 19:…</td><td>&quot;rBdG_23USc7Dle…</td><td>&quot;2011,2012,2013…</td></tr><tr><td>&quot;IQsF3Rc6IgCzjV…</td><td>&quot;My absolute fa…</td><td>&quot;2014-11-12 15:…</td><td>&quot;eFvzHawVJofxSn…</td><td>&quot;2018&quot;</td></tr></tbody></table></div>"
      ],
      "text/plain": [
       "shape: (5, 5)\n",
       "┌───────────────┬───────────────┬───────────────┬───────────────┬──────────────┐\n",
       "│ user_id       ┆ text          ┆ date          ┆ business_id   ┆ elite        │\n",
       "│ ---           ┆ ---           ┆ ---           ┆ ---           ┆ ---          │\n",
       "│ str           ┆ str           ┆ str           ┆ str           ┆ str          │\n",
       "╞═══════════════╪═══════════════╪═══════════════╪═══════════════╪══════════════╡\n",
       "│ 8g_iMtfSiwikV ┆ Family diner. ┆ 2014-02-05    ┆ YjUWPpI6HXG53 ┆ 2014,2015,20 │\n",
       "│ nbP2etR0A     ┆ Had the       ┆ 20:30:30      ┆ 0lwP-fb2A     ┆ 16,2017,2018 │\n",
       "│               ┆ buffet. Ec…   ┆               ┆               ┆ ,2019,20…    │\n",
       "│ 9OAtfnWag-ajV ┆ Love going    ┆ 2014-06-27    ┆ lj-E32x9_FA7G ┆ 2014,2015,20 │\n",
       "│ xRbUTGIyg     ┆ here for      ┆ 22:44:01      ┆ mUrBGBEWg     ┆ 16           │\n",
       "│               ┆ happy hour o… ┆               ┆               ┆              │\n",
       "│ 4Uh27DgGzsp6P ┆ The bun makes ┆ 2011-10-27    ┆ otQS34_MymijP ┆ 2011,2012    │\n",
       "│ qrH913giQ     ┆ the Sonoran   ┆ 17:12:05      ┆ TdNBoBdCw     ┆              │\n",
       "│               ┆ Dog. I…       ┆               ┆               ┆              │\n",
       "│ j2wlzrntrbKwy ┆ The hubby and ┆ 2014-08-10    ┆ rBdG_23USc7Dl ┆ 2011,2012,20 │\n",
       "│ OcOiB3l3w     ┆ I have been   ┆ 19:41:43      ┆ etfZ11xGA     ┆ 13,2014      │\n",
       "│               ┆ here o…       ┆               ┆               ┆              │\n",
       "│ IQsF3Rc6IgCzj ┆ My absolute   ┆ 2014-11-12    ┆ eFvzHawVJofxS ┆ 2018         │\n",
       "│ VV9DE8KXg     ┆ favorite cafe ┆ 15:30:27      ┆ nD7TgbZtg     ┆              │\n",
       "│               ┆ in the…       ┆               ┆               ┆              │\n",
       "└───────────────┴───────────────┴───────────────┴───────────────┴──────────────┘"
      ]
     },
     "execution_count": 52,
     "metadata": {},
     "output_type": "execute_result"
    }
   ],
   "source": [
    "elite_users_df.head()"
   ]
  },
  {
   "cell_type": "code",
   "execution_count": 10,
   "metadata": {},
   "outputs": [
    {
     "name": "stderr",
     "output_type": "stream",
     "text": [
      "/var/folders/qz/c0nnbl790814q7f1jrtp6v1w0000gn/T/ipykernel_57109/1015227033.py:3: DeprecationWarning: `apply` is deprecated. It has been renamed to `map_elements`.\n",
      "  pl.col(\"date\").apply(lambda date: date.split(\"-\")[0]).alias(\"comment_year\")\n"
     ]
    }
   ],
   "source": [
    "elite_users_df = elite_users_df.select(\n",
    "    \"*\",\n",
    "    pl.col(\"date\").apply(lambda date: date.split(\"-\")[0]).alias(\"comment_year\")\n",
    ")"
   ]
  },
  {
   "cell_type": "code",
   "execution_count": 56,
   "metadata": {},
   "outputs": [],
   "source": [
    "filtered_data = elite_users_df.filter(\n",
    "    pl.col(\"comment_year\").is_in(pl.col(\"elite\"))\n",
    ")"
   ]
  },
  {
   "cell_type": "code",
   "execution_count": 60,
   "metadata": {},
   "outputs": [],
   "source": [
    "filtered_data = filtered_data.filter(\n",
    "    pl.col(\"comment_year\").is_in(pl.col(\"elite\").str.split(\",\").explode())\n",
    ")"
   ]
  },
  {
   "cell_type": "code",
   "execution_count": 11,
   "metadata": {},
   "outputs": [],
   "source": [
    "filtered_data = elite_users_df.filter(\n",
    "    pl.col(\"elite\").str.contains(pl.col(\"comment_year\").cast(pl.Utf8()))\n",
    ")"
   ]
  },
  {
   "cell_type": "code",
   "execution_count": 12,
   "metadata": {},
   "outputs": [],
   "source": [
    "reviews_buisness = filtered_data.join(buinsess_subset, on='business_id', how='inner')"
   ]
  },
  {
   "cell_type": "code",
   "execution_count": 13,
   "metadata": {},
   "outputs": [
    {
     "name": "stderr",
     "output_type": "stream",
     "text": [
      "/var/folders/qz/c0nnbl790814q7f1jrtp6v1w0000gn/T/ipykernel_57109/1454544245.py:3: DeprecationWarning: `lengths` is deprecated. It has been renamed to `len_bytes`.\n",
      "  pl.col('text').str.lengths().alias('text_length')\n"
     ]
    }
   ],
   "source": [
    "reviews_buisness = reviews_buisness.select(\n",
    "    \"*\", \n",
    "    pl.col('text').str.lengths().alias('text_length')\n",
    ")\n"
   ]
  },
  {
   "cell_type": "code",
   "execution_count": 15,
   "metadata": {},
   "outputs": [
    {
     "data": {
      "text/plain": [
       "(1252228, 12)"
      ]
     },
     "execution_count": 15,
     "metadata": {},
     "output_type": "execute_result"
    }
   ],
   "source": [
    "reviews_buisness.shape"
   ]
  },
  {
   "cell_type": "code",
   "execution_count": 42,
   "metadata": {},
   "outputs": [
    {
     "name": "stderr",
     "output_type": "stream",
     "text": [
      "/var/folders/qz/c0nnbl790814q7f1jrtp6v1w0000gn/T/ipykernel_57109/3966149111.py:8: DeprecationWarning: `groupby` is deprecated. It has been renamed to `group_by`.\n",
      "  grouped_df = reviews_buisness.groupby(control_columns)\n"
     ]
    }
   ],
   "source": [
    "# Define the fraction of rows to sample\n",
    "frac = 0.01  # For example, to sample 0.5% of the rows\n",
    "\n",
    "# Define the column(s) to control the sample\n",
    "control_columns = [\"stars\", \"useful\", \"funny\", \"cool\"]  # Replace with your desired columns\n",
    "\n",
    "# Group by the control columns\n",
    "grouped_df = reviews_buisness.groupby(control_columns)\n",
    "\n",
    "# Sample each group individually and concatenate them back together\n",
    "sampled_df = pl.concat([\n",
    "    group[1].sample(fraction=frac) for group in grouped_df\n",
    "])"
   ]
  },
  {
   "cell_type": "code",
   "execution_count": 35,
   "metadata": {},
   "outputs": [
    {
     "data": {
      "text/html": [
       "<div><style>\n",
       ".dataframe > thead > tr,\n",
       ".dataframe > tbody > tr {\n",
       "  text-align: right;\n",
       "  white-space: pre-wrap;\n",
       "}\n",
       "</style>\n",
       "<small>shape: (5, 12)</small><table border=\"1\" class=\"dataframe\"><thead><tr><th>user_id</th><th>text</th><th>date</th><th>business_id</th><th>stars</th><th>useful</th><th>funny</th><th>cool</th><th>elite</th><th>comment_year</th><th>name</th><th>text_length</th></tr><tr><td>str</td><td>str</td><td>str</td><td>str</td><td>f64</td><td>i64</td><td>i64</td><td>i64</td><td>str</td><td>str</td><td>str</td><td>u32</td></tr></thead><tbody><tr><td>&quot;DImCfo-rwcpkof…</td><td>&quot;Super yummy  f…</td><td>&quot;2018-08-30 19:…</td><td>&quot;tbnajfmD2VlxDQ…</td><td>4.0</td><td>0</td><td>0</td><td>0</td><td>&quot;2017,2018,2019…</td><td>&quot;2018&quot;</td><td>&quot;Choolaah&quot;</td><td>220</td></tr><tr><td>&quot;wlZDmZvRFXSSSu…</td><td>&quot;Amazing new co…</td><td>&quot;2013-06-25 12:…</td><td>&quot;Qlmusk0BBY0kMO…</td><td>4.0</td><td>0</td><td>0</td><td>0</td><td>&quot;2013,2014&quot;</td><td>&quot;2013&quot;</td><td>&quot;Kingfish&quot;</td><td>383</td></tr><tr><td>&quot;aIl6bcdpch8spq…</td><td>&quot;This was a nic…</td><td>&quot;2011-08-07 19:…</td><td>&quot;CBygzH3_5D_W23…</td><td>4.0</td><td>0</td><td>0</td><td>0</td><td>&quot;2011&quot;</td><td>&quot;2011&quot;</td><td>&quot;Independence N…</td><td>474</td></tr><tr><td>&quot;wfi0T-xq_P5sKQ…</td><td>&quot;This Second Cu…</td><td>&quot;2013-08-05 15:…</td><td>&quot;J3v9wfVtxcQ2DZ…</td><td>4.0</td><td>0</td><td>0</td><td>0</td><td>&quot;2011,2012,2013…</td><td>&quot;2013&quot;</td><td>&quot;Second Cup Cof…</td><td>796</td></tr><tr><td>&quot;ecHwvfy3wOAih_…</td><td>&quot;Better than th…</td><td>&quot;2014-05-19 03:…</td><td>&quot;_W68O1txBhPTng…</td><td>4.0</td><td>0</td><td>0</td><td>0</td><td>&quot;2014,2015,2016…</td><td>&quot;2014&quot;</td><td>&quot;Village Inn&quot;</td><td>326</td></tr></tbody></table></div>"
      ],
      "text/plain": [
       "shape: (5, 12)\n",
       "┌───────────┬───────────┬───────────┬───────────┬───┬───────────┬───────────┬───────────┬──────────┐\n",
       "│ user_id   ┆ text      ┆ date      ┆ business_ ┆ … ┆ elite     ┆ comment_y ┆ name      ┆ text_len │\n",
       "│ ---       ┆ ---       ┆ ---       ┆ id        ┆   ┆ ---       ┆ ear       ┆ ---       ┆ gth      │\n",
       "│ str       ┆ str       ┆ str       ┆ ---       ┆   ┆ str       ┆ ---       ┆ str       ┆ ---      │\n",
       "│           ┆           ┆           ┆ str       ┆   ┆           ┆ str       ┆           ┆ u32      │\n",
       "╞═══════════╪═══════════╪═══════════╪═══════════╪═══╪═══════════╪═══════════╪═══════════╪══════════╡\n",
       "│ DImCfo-rw ┆ Super     ┆ 2018-08-3 ┆ tbnajfmD2 ┆ … ┆ 2017,2018 ┆ 2018      ┆ Choolaah  ┆ 220      │\n",
       "│ cpkofQf_7 ┆ yummy     ┆ 0         ┆ VlxDQ2Rma ┆   ┆ ,2019     ┆           ┆           ┆          │\n",
       "│ 7Lfw      ┆ food is   ┆ 19:38:59  ┆ C7yQ      ┆   ┆           ┆           ┆           ┆          │\n",
       "│           ┆ really    ┆           ┆           ┆   ┆           ┆           ┆           ┆          │\n",
       "│           ┆ good…     ┆           ┆           ┆   ┆           ┆           ┆           ┆          │\n",
       "│ wlZDmZvRF ┆ Amazing   ┆ 2013-06-2 ┆ Qlmusk0BB ┆ … ┆ 2013,2014 ┆ 2013      ┆ Kingfish  ┆ 383      │\n",
       "│ XSSSuMlKz ┆ new       ┆ 5         ┆ Y0kMOd8Y9 ┆   ┆           ┆           ┆           ┆          │\n",
       "│ LXng      ┆ cocktail  ┆ 12:57:57  ┆ 6H4A      ┆   ┆           ┆           ┆           ┆          │\n",
       "│           ┆ bar! Sit  ┆           ┆           ┆   ┆           ┆           ┆           ┆          │\n",
       "│           ┆ at…       ┆           ┆           ┆   ┆           ┆           ┆           ┆          │\n",
       "│ aIl6bcdpc ┆ This was  ┆ 2011-08-0 ┆ CBygzH3_5 ┆ … ┆ 2011      ┆ 2011      ┆ Independe ┆ 474      │\n",
       "│ h8spq9fE9 ┆ a nice    ┆ 7         ┆ D_W23q9M7 ┆   ┆           ┆           ┆ nce       ┆          │\n",
       "│ iRFA      ┆ place to  ┆ 19:53:21  ┆ FaNg      ┆   ┆           ┆           ┆ National  ┆          │\n",
       "│           ┆ walk ar…  ┆           ┆           ┆   ┆           ┆           ┆ Historica ┆          │\n",
       "│           ┆           ┆           ┆           ┆   ┆           ┆           ┆ l…        ┆          │\n",
       "│ wfi0T-xq_ ┆ This      ┆ 2013-08-0 ┆ J3v9wfVtx ┆ … ┆ 2011,2012 ┆ 2013      ┆ Second    ┆ 796      │\n",
       "│ P5sKQvwQi ┆ Second    ┆ 5         ┆ cQ2DZPXgE ┆   ┆ ,2013,201 ┆           ┆ Cup       ┆          │\n",
       "│ tlYg      ┆ Cup is a  ┆ 15:38:05  ┆ 8ksA      ┆   ┆ 4,2015,20 ┆           ┆ Coffee    ┆          │\n",
       "│           ┆ busy      ┆           ┆           ┆   ┆ 16,20…    ┆           ┆ Company   ┆          │\n",
       "│           ┆ place …   ┆           ┆           ┆   ┆           ┆           ┆           ┆          │\n",
       "│ ecHwvfy3w ┆ Better    ┆ 2014-05-1 ┆ _W68O1txB ┆ … ┆ 2014,2015 ┆ 2014      ┆ Village   ┆ 326      │\n",
       "│ OAih_RQHU ┆ than the  ┆ 9         ┆ hPTngnM0x ┆   ┆ ,2016,201 ┆           ┆ Inn       ┆          │\n",
       "│ QiEA      ┆ village   ┆ 03:42:01  ┆ qw9A      ┆   ┆ 7         ┆           ┆           ┆          │\n",
       "│           ┆ inn in s… ┆           ┆           ┆   ┆           ┆           ┆           ┆          │\n",
       "└───────────┴───────────┴───────────┴───────────┴───┴───────────┴───────────┴───────────┴──────────┘"
      ]
     },
     "execution_count": 35,
     "metadata": {},
     "output_type": "execute_result"
    }
   ],
   "source": []
  },
  {
   "cell_type": "code",
   "execution_count": 43,
   "metadata": {},
   "outputs": [],
   "source": [
    "yelp_verified = sampled_df.select(pl.col([\"text\",\"date\", \"name\", \"text_length\"]))"
   ]
  },
  {
   "cell_type": "code",
   "execution_count": 47,
   "metadata": {},
   "outputs": [],
   "source": [
    "yelp_verified = sampled_df.rename({\"name\": \"business_name\"})"
   ]
  },
  {
   "cell_type": "code",
   "execution_count": 48,
   "metadata": {},
   "outputs": [
    {
     "data": {
      "text/html": [
       "<div><style>\n",
       ".dataframe > thead > tr,\n",
       ".dataframe > tbody > tr {\n",
       "  text-align: right;\n",
       "  white-space: pre-wrap;\n",
       "}\n",
       "</style>\n",
       "<small>shape: (5, 12)</small><table border=\"1\" class=\"dataframe\"><thead><tr><th>user_id</th><th>text</th><th>date</th><th>business_id</th><th>stars</th><th>useful</th><th>funny</th><th>cool</th><th>elite</th><th>comment_year</th><th>business_name</th><th>text_length</th></tr><tr><td>str</td><td>str</td><td>str</td><td>str</td><td>f64</td><td>i64</td><td>i64</td><td>i64</td><td>str</td><td>str</td><td>str</td><td>u32</td></tr></thead><tbody><tr><td>&quot;UlPCp6kFGGUSKy…</td><td>&quot;PSA: CASH ONLY…</td><td>&quot;2019-11-13 14:…</td><td>&quot;d48Xrx8MhGtdaL…</td><td>5.0</td><td>0</td><td>0</td><td>0</td><td>&quot;2019,20,20,202…</td><td>&quot;2019&quot;</td><td>&quot;Cafe Diem&quot;</td><td>622</td></tr><tr><td>&quot;t2ZKf-CjGthLam…</td><td>&quot;When you&#x27;re cr…</td><td>&quot;2019-11-09 19:…</td><td>&quot;ngU4740twiB222…</td><td>5.0</td><td>0</td><td>0</td><td>0</td><td>&quot;2019,20,20,202…</td><td>&quot;2019&quot;</td><td>&quot;Cocina Latina&quot;</td><td>235</td></tr><tr><td>&quot;9fOezqmM4pYOHC…</td><td>&quot;Loved our chee…</td><td>&quot;2019-12-03 17:…</td><td>&quot;8xTHtLoNIwdpf0…</td><td>5.0</td><td>0</td><td>0</td><td>0</td><td>&quot;2015,2016,2017…</td><td>&quot;2019&quot;</td><td>&quot;By George! Piz…</td><td>261</td></tr><tr><td>&quot;UHuNFy-CDLj_SV…</td><td>&quot;Such fun! Grea…</td><td>&quot;2021-09-25 14:…</td><td>&quot;29sZgoR7VN_3ck…</td><td>5.0</td><td>0</td><td>0</td><td>0</td><td>&quot;20,20,2021&quot;</td><td>&quot;2021&quot;</td><td>&quot;Izakaya Japane…</td><td>265</td></tr><tr><td>&quot;DbiZXAui0L2LGH…</td><td>&quot;Really cool sp…</td><td>&quot;2018-08-24 16:…</td><td>&quot;JUlsvVAvZvGHWF…</td><td>5.0</td><td>0</td><td>0</td><td>0</td><td>&quot;2018,2019&quot;</td><td>&quot;2018&quot;</td><td>&quot;El Camino Real…</td><td>975</td></tr></tbody></table></div>"
      ],
      "text/plain": [
       "shape: (5, 12)\n",
       "┌───────────┬───────────┬───────────┬───────────┬───┬───────────┬───────────┬───────────┬──────────┐\n",
       "│ user_id   ┆ text      ┆ date      ┆ business_ ┆ … ┆ elite     ┆ comment_y ┆ business_ ┆ text_len │\n",
       "│ ---       ┆ ---       ┆ ---       ┆ id        ┆   ┆ ---       ┆ ear       ┆ name      ┆ gth      │\n",
       "│ str       ┆ str       ┆ str       ┆ ---       ┆   ┆ str       ┆ ---       ┆ ---       ┆ ---      │\n",
       "│           ┆           ┆           ┆ str       ┆   ┆           ┆ str       ┆ str       ┆ u32      │\n",
       "╞═══════════╪═══════════╪═══════════╪═══════════╪═══╪═══════════╪═══════════╪═══════════╪══════════╡\n",
       "│ UlPCp6kFG ┆ PSA: CASH ┆ 2019-11-1 ┆ d48Xrx8Mh ┆ … ┆ 2019,20,2 ┆ 2019      ┆ Cafe Diem ┆ 622      │\n",
       "│ GUSKycc5k ┆ ONLY!!    ┆ 3         ┆ GtdaLvhcY ┆   ┆ 0,2021    ┆           ┆           ┆          │\n",
       "│ NiJg      ┆           ┆ 14:25:16  ┆ zNWQ      ┆   ┆           ┆           ┆           ┆          │\n",
       "│           ┆ A hole in ┆           ┆           ┆   ┆           ┆           ┆           ┆          │\n",
       "│           ┆ the…      ┆           ┆           ┆   ┆           ┆           ┆           ┆          │\n",
       "│ t2ZKf-CjG ┆ When      ┆ 2019-11-0 ┆ ngU4740tw ┆ … ┆ 2019,20,2 ┆ 2019      ┆ Cocina    ┆ 235      │\n",
       "│ thLamYKNA ┆ you're    ┆ 9         ┆ iB222g4ti ┆   ┆ 0,2021    ┆           ┆ Latina    ┆          │\n",
       "│ cbJw      ┆ craving   ┆ 19:40:02  ┆ 0_eQ      ┆   ┆           ┆           ┆           ┆          │\n",
       "│           ┆ empanadas ┆           ┆           ┆   ┆           ┆           ┆           ┆          │\n",
       "│           ┆ , c…      ┆           ┆           ┆   ┆           ┆           ┆           ┆          │\n",
       "│ 9fOezqmM4 ┆ Loved our ┆ 2019-12-0 ┆ 8xTHtLoNI ┆ … ┆ 2015,2016 ┆ 2019      ┆ By        ┆ 261      │\n",
       "│ pYOHCcPD1 ┆ cheeseste ┆ 3         ┆ wdpf0FEvI ┆   ┆ ,2017,201 ┆           ┆ George!   ┆          │\n",
       "│ C0aA      ┆ aks. By   ┆ 17:15:01  ┆ pQIw      ┆   ┆ 8,2019,20 ┆           ┆ Pizza     ┆          │\n",
       "│           ┆ the l…    ┆           ┆           ┆   ┆ ,20,2…    ┆           ┆ Pasta &   ┆          │\n",
       "│           ┆           ┆           ┆           ┆   ┆           ┆           ┆ Cheeses…  ┆          │\n",
       "│ UHuNFy-CD ┆ Such fun! ┆ 2021-09-2 ┆ 29sZgoR7V ┆ … ┆ 20,20,202 ┆ 2021      ┆ Izakaya   ┆ 265      │\n",
       "│ Lj_SVMOQB ┆ Great exp ┆ 5         ┆ N_3ck3NF5 ┆   ┆ 1         ┆           ┆ Japanese  ┆          │\n",
       "│ Hryw      ┆ erience.  ┆ 14:35:27  ┆ easg      ┆   ┆           ┆           ┆ Bar &     ┆          │\n",
       "│           ┆ Chef…     ┆           ┆           ┆   ┆           ┆           ┆ Grill     ┆          │\n",
       "│ DbiZXAui0 ┆ Really    ┆ 2018-08-2 ┆ JUlsvVAvZ ┆ … ┆ 2018,2019 ┆ 2018      ┆ El Camino ┆ 975      │\n",
       "│ L2LGHB5E0 ┆ cool spot ┆ 4         ┆ vGHWFfkKm ┆   ┆           ┆           ┆ Real      ┆          │\n",
       "│ blrw      ┆ in        ┆ 16:36:13  ┆ 0nlg      ┆   ┆           ┆           ┆           ┆          │\n",
       "│           ┆ Northern  ┆           ┆           ┆   ┆           ┆           ┆           ┆          │\n",
       "│           ┆ Lib…      ┆           ┆           ┆   ┆           ┆           ┆           ┆          │\n",
       "└───────────┴───────────┴───────────┴───────────┴───┴───────────┴───────────┴───────────┴──────────┘"
      ]
     },
     "execution_count": 48,
     "metadata": {},
     "output_type": "execute_result"
    }
   ],
   "source": [
    "yelp_verified.head()"
   ]
  },
  {
   "cell_type": "code",
   "execution_count": 49,
   "metadata": {},
   "outputs": [],
   "source": [
    "# Define the file path\n",
    "path = \"./yelp_verified_slim.csv\"\n",
    "\n",
    "# Write the DataFrame to a CSV file\n",
    "yelp_verified.write_csv(path, separator=\",\")"
   ]
  },
  {
   "cell_type": "code",
   "execution_count": 50,
   "metadata": {},
   "outputs": [
    {
     "data": {
      "text/plain": [
       "(11106, 12)"
      ]
     },
     "execution_count": 50,
     "metadata": {},
     "output_type": "execute_result"
    }
   ],
   "source": [
    "yelp_verified.shape"
   ]
  }
 ],
 "metadata": {
  "kernelspec": {
   "display_name": "Python 3",
   "language": "python",
   "name": "python3"
  },
  "language_info": {
   "codemirror_mode": {
    "name": "ipython",
    "version": 3
   },
   "file_extension": ".py",
   "mimetype": "text/x-python",
   "name": "python",
   "nbconvert_exporter": "python",
   "pygments_lexer": "ipython3",
   "version": "3.8.2"
  }
 },
 "nbformat": 4,
 "nbformat_minor": 4
}
