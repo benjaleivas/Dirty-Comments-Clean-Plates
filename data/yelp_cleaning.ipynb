{
 "cells": [
  {
   "cell_type": "code",
   "execution_count": 1,
   "metadata": {},
   "outputs": [],
   "source": [
    "import pandas as pd\n",
    "import tarfile\n",
    "import json\n",
    "import polars as pl"
   ]
  },
  {
   "cell_type": "code",
   "execution_count": 11,
   "metadata": {},
   "outputs": [
    {
     "data": {
      "text/plain": [
       "(150346, 2)"
      ]
     },
     "execution_count": 11,
     "metadata": {},
     "output_type": "execute_result"
    }
   ],
   "source": [
    "#Buisness\n",
    "\n",
    "# Define the JSON file path\n",
    "json_file_path = \"yelp_academic_dataset_business.json\"\n",
    "\n",
    "# Read the JSON file in batches\n",
    "buinsess = pl.scan_ndjson(json_file_path)\n",
    "\n",
    "# Select only the 'user_id' and 'text' columns\n",
    "buinsess_subset = buinsess.select(['business_id', 'name']).collect(streaming = True)"
   ]
  },
  {
   "cell_type": "code",
   "execution_count": 12,
   "metadata": {},
   "outputs": [],
   "source": [
    "#Users\n",
    "\n",
    "# Define the JSON file path\n",
    "json_file_path = \"yelp_academic_dataset_user.json\"\n",
    "\n",
    "# Read the JSON file in batches\n",
    "users = pl.scan_ndjson(json_file_path)\n",
    "\n",
    "# Select only the 'user_id' and 'text' columns\n",
    "users_subset = users.select(['user_id', 'elite']).collect(streaming = True)"
   ]
  },
  {
   "cell_type": "code",
   "execution_count": 81,
   "metadata": {},
   "outputs": [],
   "source": [
    "#Reviews\n",
    "\n",
    "# Define the JSON file path\n",
    "json_file_path = \"yelp_academic_dataset_review.json\"\n",
    "\n",
    "# Read the JSON file in batches\n",
    "reviews = pl.scan_ndjson(json_file_path)\n",
    "\n",
    "# Select only the 'user_id' and 'text' columns\n",
    "reviews_subset = reviews.select(['user_id', 'text', 'date', 'business_id', 'stars', 'useful', 'funny', 'cool']).collect(streaming = True)\n"
   ]
  },
  {
   "cell_type": "code",
   "execution_count": 84,
   "metadata": {},
   "outputs": [],
   "source": [
    "stars_counts = reviews_subset['stars'].value_counts()"
   ]
  },
  {
   "cell_type": "code",
   "execution_count": 85,
   "metadata": {},
   "outputs": [
    {
     "data": {
      "text/html": [
       "<div><style>\n",
       ".dataframe > thead > tr > th,\n",
       ".dataframe > tbody > tr > td {\n",
       "  text-align: right;\n",
       "}\n",
       "</style>\n",
       "<small>shape: (5, 2)</small><table border=\"1\" class=\"dataframe\"><thead><tr><th>stars</th><th>counts</th></tr><tr><td>f64</td><td>u32</td></tr></thead><tbody><tr><td>1.0</td><td>1069561</td></tr><tr><td>2.0</td><td>544240</td></tr><tr><td>3.0</td><td>691934</td></tr><tr><td>4.0</td><td>1452918</td></tr><tr><td>5.0</td><td>3231627</td></tr></tbody></table></div>"
      ],
      "text/plain": [
       "shape: (5, 2)\n",
       "┌───────┬─────────┐\n",
       "│ stars ┆ counts  │\n",
       "│ ---   ┆ ---     │\n",
       "│ f64   ┆ u32     │\n",
       "╞═══════╪═════════╡\n",
       "│ 1.0   ┆ 1069561 │\n",
       "│ 2.0   ┆ 544240  │\n",
       "│ 3.0   ┆ 691934  │\n",
       "│ 4.0   ┆ 1452918 │\n",
       "│ 5.0   ┆ 3231627 │\n",
       "└───────┴─────────┘"
      ]
     },
     "execution_count": 85,
     "metadata": {},
     "output_type": "execute_result"
    }
   ],
   "source": [
    "stars_counts"
   ]
  },
  {
   "cell_type": "code",
   "execution_count": null,
   "metadata": {},
   "outputs": [],
   "source": [
    "# Define the fraction of rows to sample\n",
    "frac = 0.005  # For example, to sample 10% of the rows\n",
    "\n",
    "# Define the column(s) to control the sample\n",
    "control_columns = [\"stars\", \"useful\", \"funny\", \"cool\"]  # Replace with your desired columns\n",
    "\n",
    "# Group by the control columns\n",
    "grouped_df = reviews_subset.groupby(control_columns)\n",
    "\n",
    "# Convert grouped DataFrame to a list of DataFrames\n",
    "grouped_dfs = [group for group in grouped_df]\n",
    "\n",
    "# Sample each DataFrame individually\n",
    "sampled_dfs = [group.sample(fraction=frac) for group in grouped_dfs]\n",
    "\n",
    "# Concatenate the sampled DataFrames back together\n",
    "sampled_df = pl.concat(sampled_dfs, axis=0)"
   ]
  },
  {
   "cell_type": "code",
   "execution_count": 14,
   "metadata": {},
   "outputs": [],
   "source": [
    "reviews_users_df = reviews_subset.join(users_subset, on='user_id', how='inner')"
   ]
  },
  {
   "cell_type": "code",
   "execution_count": 20,
   "metadata": {},
   "outputs": [],
   "source": [
    "elite_users_df = reviews_users_df.filter(pl.col('elite') != \"\")"
   ]
  },
  {
   "cell_type": "code",
   "execution_count": 52,
   "metadata": {},
   "outputs": [
    {
     "data": {
      "text/html": [
       "<div><style>\n",
       ".dataframe > thead > tr > th,\n",
       ".dataframe > tbody > tr > td {\n",
       "  text-align: right;\n",
       "}\n",
       "</style>\n",
       "<small>shape: (5, 5)</small><table border=\"1\" class=\"dataframe\"><thead><tr><th>user_id</th><th>text</th><th>date</th><th>business_id</th><th>elite</th></tr><tr><td>str</td><td>str</td><td>str</td><td>str</td><td>str</td></tr></thead><tbody><tr><td>&quot;8g_iMtfSiwikVn…</td><td>&quot;Family diner. …</td><td>&quot;2014-02-05 20:…</td><td>&quot;YjUWPpI6HXG530…</td><td>&quot;2014,2015,2016…</td></tr><tr><td>&quot;9OAtfnWag-ajVx…</td><td>&quot;Love going her…</td><td>&quot;2014-06-27 22:…</td><td>&quot;lj-E32x9_FA7Gm…</td><td>&quot;2014,2015,2016…</td></tr><tr><td>&quot;4Uh27DgGzsp6Pq…</td><td>&quot;The bun makes …</td><td>&quot;2011-10-27 17:…</td><td>&quot;otQS34_MymijPT…</td><td>&quot;2011,2012&quot;</td></tr><tr><td>&quot;j2wlzrntrbKwyO…</td><td>&quot;The hubby and …</td><td>&quot;2014-08-10 19:…</td><td>&quot;rBdG_23USc7Dle…</td><td>&quot;2011,2012,2013…</td></tr><tr><td>&quot;IQsF3Rc6IgCzjV…</td><td>&quot;My absolute fa…</td><td>&quot;2014-11-12 15:…</td><td>&quot;eFvzHawVJofxSn…</td><td>&quot;2018&quot;</td></tr></tbody></table></div>"
      ],
      "text/plain": [
       "shape: (5, 5)\n",
       "┌───────────────┬───────────────┬───────────────┬───────────────┬──────────────┐\n",
       "│ user_id       ┆ text          ┆ date          ┆ business_id   ┆ elite        │\n",
       "│ ---           ┆ ---           ┆ ---           ┆ ---           ┆ ---          │\n",
       "│ str           ┆ str           ┆ str           ┆ str           ┆ str          │\n",
       "╞═══════════════╪═══════════════╪═══════════════╪═══════════════╪══════════════╡\n",
       "│ 8g_iMtfSiwikV ┆ Family diner. ┆ 2014-02-05    ┆ YjUWPpI6HXG53 ┆ 2014,2015,20 │\n",
       "│ nbP2etR0A     ┆ Had the       ┆ 20:30:30      ┆ 0lwP-fb2A     ┆ 16,2017,2018 │\n",
       "│               ┆ buffet. Ec…   ┆               ┆               ┆ ,2019,20…    │\n",
       "│ 9OAtfnWag-ajV ┆ Love going    ┆ 2014-06-27    ┆ lj-E32x9_FA7G ┆ 2014,2015,20 │\n",
       "│ xRbUTGIyg     ┆ here for      ┆ 22:44:01      ┆ mUrBGBEWg     ┆ 16           │\n",
       "│               ┆ happy hour o… ┆               ┆               ┆              │\n",
       "│ 4Uh27DgGzsp6P ┆ The bun makes ┆ 2011-10-27    ┆ otQS34_MymijP ┆ 2011,2012    │\n",
       "│ qrH913giQ     ┆ the Sonoran   ┆ 17:12:05      ┆ TdNBoBdCw     ┆              │\n",
       "│               ┆ Dog. I…       ┆               ┆               ┆              │\n",
       "│ j2wlzrntrbKwy ┆ The hubby and ┆ 2014-08-10    ┆ rBdG_23USc7Dl ┆ 2011,2012,20 │\n",
       "│ OcOiB3l3w     ┆ I have been   ┆ 19:41:43      ┆ etfZ11xGA     ┆ 13,2014      │\n",
       "│               ┆ here o…       ┆               ┆               ┆              │\n",
       "│ IQsF3Rc6IgCzj ┆ My absolute   ┆ 2014-11-12    ┆ eFvzHawVJofxS ┆ 2018         │\n",
       "│ VV9DE8KXg     ┆ favorite cafe ┆ 15:30:27      ┆ nD7TgbZtg     ┆              │\n",
       "│               ┆ in the…       ┆               ┆               ┆              │\n",
       "└───────────────┴───────────────┴───────────────┴───────────────┴──────────────┘"
      ]
     },
     "execution_count": 52,
     "metadata": {},
     "output_type": "execute_result"
    }
   ],
   "source": [
    "elite_users_df.head()"
   ]
  },
  {
   "cell_type": "code",
   "execution_count": 54,
   "metadata": {},
   "outputs": [],
   "source": [
    "elite_users_df = elite_users_df.select(\n",
    "    \"*\",\n",
    "    pl.col(\"date\").apply(lambda date: date.split(\"-\")[0]).alias(\"comment_year\")\n",
    ")"
   ]
  },
  {
   "cell_type": "code",
   "execution_count": 56,
   "metadata": {},
   "outputs": [],
   "source": [
    "filtered_data = elite_users_df.filter(\n",
    "    pl.col(\"comment_year\").is_in(pl.col(\"elite\"))\n",
    ")"
   ]
  },
  {
   "cell_type": "code",
   "execution_count": 60,
   "metadata": {},
   "outputs": [],
   "source": [
    "filtered_data = filtered_data.filter(\n",
    "    pl.col(\"comment_year\").is_in(pl.col(\"elite\").str.split(\",\").explode())\n",
    ")"
   ]
  },
  {
   "cell_type": "code",
   "execution_count": 63,
   "metadata": {},
   "outputs": [],
   "source": [
    "filtered_data = elite_users_df.filter(\n",
    "    pl.col(\"elite\").str.contains(pl.col(\"comment_year\").cast(pl.Utf8()))\n",
    ")"
   ]
  },
  {
   "cell_type": "code",
   "execution_count": 67,
   "metadata": {},
   "outputs": [],
   "source": [
    "reviews_buisness = filtered_data.join(buinsess_subset, on='business_id', how='inner')"
   ]
  },
  {
   "cell_type": "code",
   "execution_count": 73,
   "metadata": {},
   "outputs": [],
   "source": [
    "reviews_buisness = reviews_buisness.select(\n",
    "    \"*\", \n",
    "    pl.col('text').str.lengths().alias('text_length')\n",
    ")\n"
   ]
  },
  {
   "cell_type": "code",
   "execution_count": 76,
   "metadata": {},
   "outputs": [],
   "source": [
    "yelp_verified = reviews_buisness.select(pl.col([\"text\",\"date\", \"name\", \"text_length\"]))"
   ]
  },
  {
   "cell_type": "code",
   "execution_count": 78,
   "metadata": {},
   "outputs": [],
   "source": [
    "yelp_verified = yelp_verified.rename({\"name\": \"business_name\"})"
   ]
  },
  {
   "cell_type": "code",
   "execution_count": 80,
   "metadata": {},
   "outputs": [],
   "source": [
    "# Define the file path\n",
    "path = \"./yelp_verified.csv\"\n",
    "\n",
    "# Write the DataFrame to a CSV file\n",
    "yelp_verified.write_csv(path, separator=\",\")"
   ]
  },
  {
   "cell_type": "code",
   "execution_count": null,
   "metadata": {},
   "outputs": [],
   "source": []
  }
 ],
 "metadata": {
  "kernelspec": {
   "display_name": "Python 3",
   "language": "python",
   "name": "python3"
  },
  "language_info": {
   "codemirror_mode": {
    "name": "ipython",
    "version": 3
   },
   "file_extension": ".py",
   "mimetype": "text/x-python",
   "name": "python",
   "nbconvert_exporter": "python",
   "pygments_lexer": "ipython3",
   "version": "3.7.6"
  }
 },
 "nbformat": 4,
 "nbformat_minor": 4
}
