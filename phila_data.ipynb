{
 "cells": [
  {
   "cell_type": "code",
   "execution_count": null,
   "metadata": {},
   "outputs": [],
   "source": [
    "import pandas as pd\n",
    "import json"
   ]
  },
  {
   "cell_type": "code",
   "execution_count": null,
   "metadata": {},
   "outputs": [],
   "source": [
    "# read in bussiness json, subset to only PA\n",
    "rest_data = []\n",
    "with open(\"data/yelp_dataset/yelp_academic_dataset_business.json\", 'r') as data_file:\n",
    "    for line in data_file:\n",
    "        rest_data.append(json.loads(line))\n",
    "\n",
    "rest_df = pd.DataFrame(rest_data)\n",
    "rest_df\n",
    "pa_rests = rest_df[rest_df['state'] == 'PA']"
   ]
  },
  {
   "cell_type": "code",
   "execution_count": null,
   "metadata": {},
   "outputs": [],
   "source": [
    "# inspections data\n",
    "phila_inspecs = pd.read_csv('data/phila/phila_inspections.csv')\n",
    "phila_inspecs"
   ]
  },
  {
   "cell_type": "code",
   "execution_count": null,
   "metadata": {},
   "outputs": [],
   "source": [
    "# drop rows with missing labels\n",
    "clean_phila = phila_inspecs.dropna(subset=['Overall Compliance'])"
   ]
  },
  {
   "cell_type": "code",
   "execution_count": null,
   "metadata": {},
   "outputs": [],
   "source": [
    "# pre-merge cleaning\n",
    "clean_phila['Address'] = clean_phila['Address'].astype(str)\n",
    "clean_phila['Address'] = clean_phila['Address'].str.strip()\n",
    "clean_phila['Address'] = clean_phila['Address'].str.upper()\n",
    "\n",
    "pa_rests['address'] = pa_rests['address'].astype(str)\n",
    "pa_rests['address'] = pa_rests['address'].str.strip()\n",
    "pa_rests['address'] = pa_rests['address'].str.upper()"
   ]
  },
  {
   "cell_type": "code",
   "execution_count": null,
   "metadata": {},
   "outputs": [],
   "source": [
    "labeled = pd.merge(clean_phila, pa_rests, how='left', left_on='Address', right_on='address').dropna()\n",
    "labeled['Overall Compliance'].value_counts()"
   ]
  },
  {
   "cell_type": "code",
   "execution_count": null,
   "metadata": {},
   "outputs": [],
   "source": [
    "# get lists of labled resturant ids\n",
    "labeled_ids = list(labeled['business_id'])"
   ]
  },
  {
   "cell_type": "code",
   "execution_count": null,
   "metadata": {},
   "outputs": [],
   "source": [
    "# read in review text data\n",
    "review_data = []\n",
    "with open(\"data/yelp_dataset/yelp_academic_dataset_review.json\", 'r') as data_file:\n",
    "    for line in data_file:\n",
    "        review_data.append(json.loads(line))\n",
    "review_df = pd.DataFrame(review_data)"
   ]
  },
  {
   "cell_type": "code",
   "execution_count": null,
   "metadata": {},
   "outputs": [],
   "source": [
    "#collect reviews in inspection period\n",
    "labeled_reviews = review_df[review_df['business_id'].isin(labeled_ids)]\n",
    "labeled_reviews['date'] = pd.to_datetime(labeled_reviews['date'])\n",
    "labeled_reviews = labeled_reviews[(labeled_reviews['date']  >= '2018-01-01') & (labeled_reviews['date'] < '2020-12-31')]"
   ]
  }
 ],
 "metadata": {
  "kernelspec": {
   "display_name": "Python 3.12.2 ('.venv': poetry)",
   "language": "python",
   "name": "python3"
  },
  "language_info": {
   "name": "python",
   "version": "3.12.2"
  },
  "orig_nbformat": 4,
  "vscode": {
   "interpreter": {
    "hash": "85ea4b3f8f8bbee1e23da4c155a93a1e9f6833b5217ca791a452f768bdc9cb7b"
   }
  }
 },
 "nbformat": 4,
 "nbformat_minor": 2
}
