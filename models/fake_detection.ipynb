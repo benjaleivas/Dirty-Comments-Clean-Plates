{
 "cells": [
  {
   "cell_type": "code",
   "execution_count": 1,
   "metadata": {},
   "outputs": [],
   "source": [
    "import pandas as pd\n",
    "from features import categorize_population, encode_categories\n",
    "from ast import literal_eval\n",
    "import re\n",
    "import torch"
   ]
  },
  {
   "cell_type": "code",
   "execution_count": 2,
   "metadata": {},
   "outputs": [
    {
     "name": "stderr",
     "output_type": "stream",
     "text": [
      "/Users/jackgibson/Documents/advanced_ml/how_the_bear_got_a_C/.venv/lib/python3.12/site-packages/tqdm/auto.py:21: TqdmWarning: IProgress not found. Please update jupyter and ipywidgets. See https://ipywidgets.readthedocs.io/en/stable/user_install.html\n",
      "  from .autonotebook import tqdm as notebook_tqdm\n"
     ]
    }
   ],
   "source": [
    "from transformers import AutoTokenizer, AutoModelForSequenceClassification\n",
    "\n",
    "tokenizer = AutoTokenizer.from_pretrained(\"astrosbd/fake-reviews-distilbert\")\n",
    "model = AutoModelForSequenceClassification.from_pretrained(\"astrosbd/fake-reviews-distilbert\")"
   ]
  },
  {
   "cell_type": "code",
   "execution_count": 3,
   "metadata": {},
   "outputs": [],
   "source": [
    "phila = pd.read_csv('../data/phila/test_features.csv', usecols=['reviews'])\n",
    "phila['reviews'] = phila['reviews'].apply(literal_eval)\n",
    "phila = phila.reset_index().rename(columns={'index':'uuid'})"
   ]
  },
  {
   "cell_type": "code",
   "execution_count": 246,
   "metadata": {},
   "outputs": [],
   "source": [
    "test = tokenizer(phila['reviews'][13], padding=True, truncation=True)\n",
    "with torch.no_grad():\n",
    "    logits = model(torch.tensor(test['input_ids']), attention_mask=torch.tensor(test['attention_mask'])).logits"
   ]
  },
  {
   "cell_type": "code",
   "execution_count": 258,
   "metadata": {},
   "outputs": [
    {
     "data": {
      "text/plain": [
       "tensor(3)"
      ]
     },
     "execution_count": 258,
     "metadata": {},
     "output_type": "execute_result"
    }
   ],
   "source": [
    "42 - torch.argmax(logits, dim=1).sum()\n"
   ]
  },
  {
   "cell_type": "code",
   "execution_count": 4,
   "metadata": {},
   "outputs": [],
   "source": [
    "def clean_reviews(reviews):\n",
    "    cleaned = []\n",
    "    for review in reviews:\n",
    "        cleaned.append(re.sub(r'\\n.*?(?=\\s)', '', review.strip())) #may need to find a better way to do so\n",
    "\n",
    "    return cleaned\n",
    "\n",
    "def check_fake(row):\n",
    "    tokens = tokenizer(row['reviews'], padding=True, truncation=True)\n",
    "    \n",
    "    with torch.no_grad():\n",
    "        logits = model(torch.tensor(tokens['input_ids']), attention_mask=torch.tensor(tokens['attention_mask'])).logits\n",
    "\n",
    "    predicted = torch.argmax(logits, dim=1)\n",
    "\n",
    "    num_reivews = len(row['reviews'])\n",
    "    fake_count = num_reivews - predicted.sum()\n",
    "    real_count = predicted.sum()\n",
    "    \n",
    "    return row['reviews'], predicted, fake_count.item(), real_count.item(), num_reivews\n",
    "\n",
    "def count_reviews(reviews):\n",
    "    return len(reviews)"
   ]
  },
  {
   "cell_type": "code",
   "execution_count": 5,
   "metadata": {},
   "outputs": [],
   "source": [
    "phila['reviews'] = phila['reviews'].apply(clean_reviews)\n",
    "phila= phila.apply(check_fake, axis=1, result_type='expand').rename(columns={0:\"reviews\", 1 : \"scores\", 2 : \"num_fake\", 3 : \"num_real\", 4 : \"num_reviews\"})"
   ]
  },
  {
   "cell_type": "code",
   "execution_count": 6,
   "metadata": {},
   "outputs": [
    {
     "data": {
      "text/plain": [
       "0.03112978635260697"
      ]
     },
     "execution_count": 6,
     "metadata": {},
     "output_type": "execute_result"
    }
   ],
   "source": [
    "# percentage of 'fake' reviews\n",
    "phila['num_fake'].sum()/phila['num_reviews'].sum() "
   ]
  },
  {
   "cell_type": "code",
   "execution_count": 8,
   "metadata": {},
   "outputs": [
    {
     "data": {
      "text/html": [
       "<div>\n",
       "<style scoped>\n",
       "    .dataframe tbody tr th:only-of-type {\n",
       "        vertical-align: middle;\n",
       "    }\n",
       "\n",
       "    .dataframe tbody tr th {\n",
       "        vertical-align: top;\n",
       "    }\n",
       "\n",
       "    .dataframe thead th {\n",
       "        text-align: right;\n",
       "    }\n",
       "</style>\n",
       "<table border=\"1\" class=\"dataframe\">\n",
       "  <thead>\n",
       "    <tr style=\"text-align: right;\">\n",
       "      <th></th>\n",
       "      <th>reviews</th>\n",
       "      <th>scores</th>\n",
       "      <th>num_fake</th>\n",
       "      <th>num_real</th>\n",
       "      <th>num_reviews</th>\n",
       "    </tr>\n",
       "  </thead>\n",
       "  <tbody>\n",
       "    <tr>\n",
       "      <th>2</th>\n",
       "      <td>[Six of us went here for an early Saturday lun...</td>\n",
       "      <td>[tensor(1), tensor(1), tensor(1), tensor(1), t...</td>\n",
       "      <td>1</td>\n",
       "      <td>6</td>\n",
       "      <td>7</td>\n",
       "    </tr>\n",
       "    <tr>\n",
       "      <th>13</th>\n",
       "      <td>[If you are looking for a healthy breakfast an...</td>\n",
       "      <td>[tensor(1), tensor(1), tensor(0), tensor(1), t...</td>\n",
       "      <td>3</td>\n",
       "      <td>39</td>\n",
       "      <td>42</td>\n",
       "    </tr>\n",
       "    <tr>\n",
       "      <th>37</th>\n",
       "      <td>[I'd give Agave a 2.5 bc it was really a littl...</td>\n",
       "      <td>[tensor(1), tensor(1), tensor(1), tensor(1), t...</td>\n",
       "      <td>1</td>\n",
       "      <td>21</td>\n",
       "      <td>22</td>\n",
       "    </tr>\n",
       "    <tr>\n",
       "      <th>41</th>\n",
       "      <td>[Awesome creamy crab soup. Overall the food wa...</td>\n",
       "      <td>[tensor(1), tensor(1), tensor(1), tensor(0), t...</td>\n",
       "      <td>1</td>\n",
       "      <td>6</td>\n",
       "      <td>7</td>\n",
       "    </tr>\n",
       "    <tr>\n",
       "      <th>48</th>\n",
       "      <td>[DONT EAT THERE !!! Food taste awful and over ...</td>\n",
       "      <td>[tensor(1), tensor(0), tensor(1), tensor(1), t...</td>\n",
       "      <td>1</td>\n",
       "      <td>13</td>\n",
       "      <td>14</td>\n",
       "    </tr>\n",
       "    <tr>\n",
       "      <th>...</th>\n",
       "      <td>...</td>\n",
       "      <td>...</td>\n",
       "      <td>...</td>\n",
       "      <td>...</td>\n",
       "      <td>...</td>\n",
       "    </tr>\n",
       "    <tr>\n",
       "      <th>2129</th>\n",
       "      <td>[Amazing food and amazing drinks!! Highly reco...</td>\n",
       "      <td>[tensor(1), tensor(1), tensor(1), tensor(1), t...</td>\n",
       "      <td>1</td>\n",
       "      <td>57</td>\n",
       "      <td>58</td>\n",
       "    </tr>\n",
       "    <tr>\n",
       "      <th>2132</th>\n",
       "      <td>[Amazing food and amazing drinks!! Highly reco...</td>\n",
       "      <td>[tensor(1), tensor(1), tensor(1), tensor(1), t...</td>\n",
       "      <td>1</td>\n",
       "      <td>60</td>\n",
       "      <td>61</td>\n",
       "    </tr>\n",
       "    <tr>\n",
       "      <th>2134</th>\n",
       "      <td>[Amazing food and amazing drinks!! Highly reco...</td>\n",
       "      <td>[tensor(1), tensor(1), tensor(1), tensor(1), t...</td>\n",
       "      <td>1</td>\n",
       "      <td>60</td>\n",
       "      <td>61</td>\n",
       "    </tr>\n",
       "    <tr>\n",
       "      <th>2136</th>\n",
       "      <td>[Amazing food and amazing drinks!! Highly reco...</td>\n",
       "      <td>[tensor(1), tensor(1), tensor(1), tensor(1), t...</td>\n",
       "      <td>1</td>\n",
       "      <td>60</td>\n",
       "      <td>61</td>\n",
       "    </tr>\n",
       "    <tr>\n",
       "      <th>2138</th>\n",
       "      <td>[Amazing food and amazing drinks!! Highly reco...</td>\n",
       "      <td>[tensor(1), tensor(1), tensor(1), tensor(1), t...</td>\n",
       "      <td>1</td>\n",
       "      <td>60</td>\n",
       "      <td>61</td>\n",
       "    </tr>\n",
       "  </tbody>\n",
       "</table>\n",
       "<p>387 rows × 5 columns</p>\n",
       "</div>"
      ],
      "text/plain": [
       "                                                reviews  \\\n",
       "2     [Six of us went here for an early Saturday lun...   \n",
       "13    [If you are looking for a healthy breakfast an...   \n",
       "37    [I'd give Agave a 2.5 bc it was really a littl...   \n",
       "41    [Awesome creamy crab soup. Overall the food wa...   \n",
       "48    [DONT EAT THERE !!! Food taste awful and over ...   \n",
       "...                                                 ...   \n",
       "2129  [Amazing food and amazing drinks!! Highly reco...   \n",
       "2132  [Amazing food and amazing drinks!! Highly reco...   \n",
       "2134  [Amazing food and amazing drinks!! Highly reco...   \n",
       "2136  [Amazing food and amazing drinks!! Highly reco...   \n",
       "2138  [Amazing food and amazing drinks!! Highly reco...   \n",
       "\n",
       "                                                 scores  num_fake  num_real  \\\n",
       "2     [tensor(1), tensor(1), tensor(1), tensor(1), t...         1         6   \n",
       "13    [tensor(1), tensor(1), tensor(0), tensor(1), t...         3        39   \n",
       "37    [tensor(1), tensor(1), tensor(1), tensor(1), t...         1        21   \n",
       "41    [tensor(1), tensor(1), tensor(1), tensor(0), t...         1         6   \n",
       "48    [tensor(1), tensor(0), tensor(1), tensor(1), t...         1        13   \n",
       "...                                                 ...       ...       ...   \n",
       "2129  [tensor(1), tensor(1), tensor(1), tensor(1), t...         1        57   \n",
       "2132  [tensor(1), tensor(1), tensor(1), tensor(1), t...         1        60   \n",
       "2134  [tensor(1), tensor(1), tensor(1), tensor(1), t...         1        60   \n",
       "2136  [tensor(1), tensor(1), tensor(1), tensor(1), t...         1        60   \n",
       "2138  [tensor(1), tensor(1), tensor(1), tensor(1), t...         1        60   \n",
       "\n",
       "      num_reviews  \n",
       "2               7  \n",
       "13             42  \n",
       "37             22  \n",
       "41              7  \n",
       "48             14  \n",
       "...           ...  \n",
       "2129           58  \n",
       "2132           61  \n",
       "2134           61  \n",
       "2136           61  \n",
       "2138           61  \n",
       "\n",
       "[387 rows x 5 columns]"
      ]
     },
     "execution_count": 8,
     "metadata": {},
     "output_type": "execute_result"
    }
   ],
   "source": [
    "phila[phila['num_fake'] > 0]"
   ]
  }
 ],
 "metadata": {
  "kernelspec": {
   "display_name": "Python 3.12.2 ('.venv': poetry)",
   "language": "python",
   "name": "python3"
  },
  "language_info": {
   "codemirror_mode": {
    "name": "ipython",
    "version": 3
   },
   "file_extension": ".py",
   "mimetype": "text/x-python",
   "name": "python",
   "nbconvert_exporter": "python",
   "pygments_lexer": "ipython3",
   "version": "3.9.13"
  },
  "orig_nbformat": 4,
  "vscode": {
   "interpreter": {
    "hash": "85ea4b3f8f8bbee1e23da4c155a93a1e9f6833b5217ca791a452f768bdc9cb7b"
   }
  }
 },
 "nbformat": 4,
 "nbformat_minor": 2
}
