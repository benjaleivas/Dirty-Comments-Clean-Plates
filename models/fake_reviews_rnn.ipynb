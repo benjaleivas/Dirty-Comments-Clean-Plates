{
 "cells": [
  {
   "cell_type": "code",
   "execution_count": null,
   "metadata": {},
   "outputs": [],
   "source": [
    "from dataloaders import FakeReviewData\n",
    "from torch.utils.data import DataLoader\n",
    "from shared_models import RNNLM\n",
    "import pandas as pd\n",
    "import torch\n",
    "from sklearn import metrics\n",
    "from torchtext.vocab import GloVe\n",
    "import json"
   ]
  },
  {
   "cell_type": "code",
   "execution_count": null,
   "metadata": {},
   "outputs": [],
   "source": [
    "#training hyperparameters\n",
    "MAX_TOKENS = 150\n",
    "EMBEDDING_SIZE = 300\n",
    "TRAIN_BATCH_SIZE = 64\n",
    "VALID_BATCH_SIZE = 32\n",
    "EPOCHS = 10\n",
    "GRAD_CLIP = 1.\n",
    "LEARNING_RATE = 1e-05\n",
    "VECTOR_CACHE_DIR = 'ADD FILE PATH HERE'\n",
    "\n",
    "save_dir = 'fake_reviews_rnn'"
   ]
  },
  {
   "cell_type": "code",
   "execution_count": null,
   "metadata": {},
   "outputs": [],
   "source": [
    "from torch import cuda\n",
    "device = 'cuda' if cuda.is_available() else 'cpu'"
   ]
  },
  {
   "cell_type": "code",
   "execution_count": null,
   "metadata": {},
   "outputs": [],
   "source": [
    "# import review data\n",
    "train_data = pd.read_csv('../data/fake_reviews/train.csv')\n",
    "val_data = pd.read_csv('../data/fake_reviews/val.csv') # update these!!\n",
    "test_data = pd.read_csv('../data/fake_reviews/test.csv')\n",
    "\n",
    "label_dict = {0: \"FAKE\", 1 : \"HUMAN\"}\n",
    "\n",
    "glove = GloVe('6B', cache=VECTOR_CACHE_DIR)\n",
    "\n",
    "train_dataset = FakeReviewData(train_data, embedding=glove, max_tokens=MAX_TOKENS, labels=label_dict)\n",
    "test_dataset = FakeReviewData(test_data, embedding=glove, max_tokens=MAX_TOKENS, labels=label_dict)\n",
    "val_dataset = FakeReviewData(val_data, embedding=glove, max_tokens=MAX_TOKENS, labels=label_dict)"
   ]
  },
  {
   "cell_type": "code",
   "execution_count": null,
   "metadata": {},
   "outputs": [],
   "source": [
    "#load dataloaders\n",
    "train_params = {'batch_size': TRAIN_BATCH_SIZE,\n",
    "                'shuffle': True,\n",
    "                }\n",
    "\n",
    "test_val_params = {'batch_size': VALID_BATCH_SIZE,\n",
    "                'shuffle': True,\n",
    "                }\n",
    "\n",
    "train_loader = DataLoader(train_dataset, **train_params, drop_last=True)\n",
    "test_loader = DataLoader(test_dataset, **test_val_params, drop_last=True)\n",
    "val_loader = DataLoader(val_dataset, **test_val_params, drop_last=True)"
   ]
  },
  {
   "cell_type": "code",
   "execution_count": null,
   "metadata": {},
   "outputs": [],
   "source": [
    "def validate(model, data_loader):\n",
    "    \"\"\"\n",
    "    Evaluate model during trainging.\n",
    "    \"\"\"\n",
    "    model.eval()\n",
    "    fin_targets=[]\n",
    "    fin_outputs=[]\n",
    "\n",
    "    with torch.no_grad():\n",
    "\n",
    "        hidden = None\n",
    "        for _, data in enumerate(data_loader, 0):\n",
    "            text = data['text'].to(device, dtype = torch.float)\n",
    "            labels = data['label'].to(device, dtype = torch.float)\n",
    "        \n",
    "\n",
    "            outputs, hidden = model(text, hidden)\n",
    "\n",
    "            #compute argmax\n",
    "            _, preds = torch.max(outputs, 1)\n",
    "            _, labels = torch.max(labels, 1)\n",
    "\n",
    "            fin_targets.extend(labels.cpu().numpy().tolist())\n",
    "            fin_outputs.extend(preds.cpu().detach().numpy().tolist())\n",
    "\n",
    "    return fin_outputs, fin_targets"
   ]
  },
  {
   "cell_type": "code",
   "execution_count": null,
   "metadata": {},
   "outputs": [],
   "source": [
    "def repackage_hidden(h):\n",
    "    \"\"\"Wraps hidden states in new Tensors, to detach them from their history.\"\"\"\n",
    "    if h is None:\n",
    "        return None\n",
    "    elif isinstance(h, torch.Tensor):\n",
    "        return h.detach()\n",
    "    else:\n",
    "        return tuple(repackage_hidden(v) for v in h)"
   ]
  },
  {
   "cell_type": "code",
   "execution_count": null,
   "metadata": {},
   "outputs": [],
   "source": [
    "model = RNNLM(embedding_dim=EMBEDDING_SIZE, hidden_dim=256, num_layers=2, num_labels=2, dropout=0.5)\n",
    "model.to(device)\n",
    "\n",
    "optimizer = torch.optim.Adam(model.parameters(), lr=LEARNING_RATE)\n",
    "loss_fn = torch.nn.BCELoss()\n",
    "train_results = {}\n",
    "\n",
    "for epoch in range(EPOCHS):\n",
    "    results = {}\n",
    "    losses = []\n",
    "\n",
    "    model.train()\n",
    "    hidden = None\n",
    "    for idx, data in enumerate(train_loader):\n",
    "        labels = data['label'].to(device, dtype = torch.float)\n",
    "        text = data['text'].to(device, dtype = torch.float)\n",
    "\n",
    "        hidden = repackage_hidden(hidden)\n",
    "        model.zero_grad()\n",
    "\n",
    "        output, hidden = model(text, hidden)\n",
    "        \n",
    "        loss = loss_fn(output, labels)\n",
    "        losses.append(loss.item())\n",
    "        loss.backward()\n",
    "\n",
    "        torch.nn.utils.clip_grad_norm_(model.parameters(), GRAD_CLIP)\n",
    "        optimizer.step()\n",
    "\n",
    "        if idx % 1000 == 0:\n",
    "            print(\"epoch\", epoch, \"iter\", idx, \"loss\", loss.item())\n",
    "    \n",
    "    # evaluate at every step\n",
    "    preds, labels = validate(model, val_loader)\n",
    "    results['preds'] = preds\n",
    "    results['labels'] = labels\n",
    "    results['losses'] = losses\n",
    "    train_results[epoch] = results\n",
    "\n",
    "    print(f'epoch {epoch}: accuracy {metrics.accuracy_score(labels, preds)}')"
   ]
  },
  {
   "cell_type": "code",
   "execution_count": null,
   "metadata": {},
   "outputs": [],
   "source": [
    "# save training data\n",
    "with open(f\"{save_dir}/train_data.json\", \"w\") as out:\n",
    "    json.dump(train_results, out)"
   ]
  },
  {
   "cell_type": "code",
   "execution_count": null,
   "metadata": {},
   "outputs": [],
   "source": [
    "# test model\n",
    "test_results = {}\n",
    "preds, targets = validate(test_loader)\n",
    "\n",
    "accuracy = metrics.accuracy_score(targets, preds)\n",
    "print(f\"Validation Acc = {accuracy}\")\n",
    "\n",
    "test_results['preds'] = preds\n",
    "test_results['labels'] = targets"
   ]
  },
  {
   "cell_type": "code",
   "execution_count": null,
   "metadata": {},
   "outputs": [],
   "source": [
    "# save val data\n",
    "with open(f\"{save_dir}/evaluate_data.json\", \"w\") as out:\n",
    "    json.dump(test_results, out)"
   ]
  }
 ],
 "metadata": {
  "kernelspec": {
   "display_name": "Python 3.10.13 ('capp30255')",
   "language": "python",
   "name": "python3"
  },
  "language_info": {
   "codemirror_mode": {
    "name": "ipython",
    "version": 3
   },
   "file_extension": ".py",
   "mimetype": "text/x-python",
   "name": "python",
   "nbconvert_exporter": "python",
   "pygments_lexer": "ipython3",
   "version": "3.10.13"
  },
  "orig_nbformat": 4,
  "vscode": {
   "interpreter": {
    "hash": "90fef5f8eb5f449d0283ec7c1f668647364f701a4ef3d77b853642be2461037c"
   }
  }
 },
 "nbformat": 4,
 "nbformat_minor": 2
}
