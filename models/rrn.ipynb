{
 "cells": [
  {
   "cell_type": "code",
<<<<<<< HEAD
   "execution_count": 22,
=======
   "execution_count": null,
>>>>>>> 50b71338c6b0bd771e09a44afdf730a55265107f
   "metadata": {},
   "outputs": [],
   "source": [
    "import torch\n",
    "from torchtext.data import get_tokenizer\n",
    "from torchtext.vocab import build_vocab_from_iterator\n",
    "import torchtext.functional as tf\n",
    "from torch.utils.data import Dataset, DataLoader\n",
    "import torch.optim as optim\n",
    "import pandas as pd\n",
    "from torch.nn.utils.rnn import pad_sequence\n",
    "from torchtext.vocab import GloVe\n",
    "import re\n",
    "from ast import literal_eval\n",
    "from sklearn import metrics"
   ]
  },
  {
   "cell_type": "code",
<<<<<<< HEAD
   "execution_count": 56,
=======
   "execution_count": null,
>>>>>>> 50b71338c6b0bd771e09a44afdf730a55265107f
   "metadata": {},
   "outputs": [],
   "source": [
    "#training hyperparameters\n",
    "MAX_TOKENS = 150\n",
    "EMBEDDING_SIZE = 300\n",
    "TRAIN_BATCH_SIZE = 64\n",
    "VALID_BATCH_SIZE = 32\n",
    "EPOCHS = 10\n",
    "GRAD_CLIP = 1.\n",
    "LEARNING_RATE = 1e-05\n",
    "VECTOR_CACHE_DIR = '/Users/jackgibson/Documents/advanced_ml/how_the_bear_got_a_C/glove/'"
   ]
  },
  {
   "cell_type": "code",
<<<<<<< HEAD
   "execution_count": 24,
=======
   "execution_count": null,
>>>>>>> 50b71338c6b0bd771e09a44afdf730a55265107f
   "metadata": {},
   "outputs": [],
   "source": [
    "# constants\n",
    "from torch import cuda\n",
    "device = 'cuda' if cuda.is_available() else 'cpu'"
   ]
  },
  {
   "cell_type": "code",
<<<<<<< HEAD
   "execution_count": 46,
   "metadata": {},
   "outputs": [],
   "source": [
    "review_df = pd.read_csv('../data/phila/split/train.csv')\n",
    "test_df = pd.read_csv('../data/phila/split/val.csv')\n",
    "# review_df['reviews'] = review_df['reviews'].apply(literal_eval)\n",
    "# test_df['reviews'] = test_df['reviews'].apply(literal_eval)\n",
=======
   "execution_count": null,
   "metadata": {},
   "outputs": [],
   "source": [
    "review_df = pd.read_csv('../data/split/train.csv')\n",
    "val_df = pd.read_csv('../data/split/val.csv')\n",
    "review_df['reviews'] = review_df['reviews'].apply(literal_eval)\n",
    "val_df['reviews'] = val_df['reviews'].apply(literal_eval)\n",
    "\n",
>>>>>>> 50b71338c6b0bd771e09a44afdf730a55265107f
    "\n",
    "# # test classifying at reivew level then resturant level\n",
    "# review_df = review_df.explode('reviews')\n",
    "# review_df = review_df.reset_index().drop(columns=['index'])\n",
    "\n",
<<<<<<< HEAD
    "# test_df = test_df.explode('reviews')\n",
    "# test_df = test_df.reset_index().drop(columns=['index'])\n",
=======
    "val_df = val_df.explode('reviews')\n",
    "val_df = val_df.reset_index().drop(columns=['index'])\n",
>>>>>>> 50b71338c6b0bd771e09a44afdf730a55265107f
    "    \n",
    "review_df = review_df.rename(columns={'reviews' : 'text'})\n",
    "val_df = val_df.rename(columns={'reviews' : 'text'})"
   ]
  },
  {
   "cell_type": "code",
<<<<<<< HEAD
   "execution_count": 30,
=======
   "execution_count": null,
>>>>>>> 50b71338c6b0bd771e09a44afdf730a55265107f
   "metadata": {},
   "outputs": [],
   "source": [
    "# It is best to save GloVe data in a cache to reuse across projects.\n",
    "VECTOR_CACHE_DIR = '//Users/claireboyd/Documents/advanced_ml/how_the_bear_got_a_C'\n",
    "\n",
    "glove = GloVe(name='6B', cache=VECTOR_CACHE_DIR)"
   ]
  },
  {
   "cell_type": "code",
   "execution_count": 32,
   "metadata": {},
   "outputs": [],
   "source": [
    "# sample_text = 'The dog is black and likes to chase tennis balls.'\n",
    "# tokenize = get_tokenizer('basic_english')\n",
    "# test = glove.get_vecs_by_tokens(tokenize(sample_text)).size()\n",
    "# tf.to_tensor(test, padding_value=30)"
   ]
  },
  {
   "cell_type": "code",
<<<<<<< HEAD
   "execution_count": 31,
=======
   "execution_count": null,
>>>>>>> 50b71338c6b0bd771e09a44afdf730a55265107f
   "metadata": {},
   "outputs": [],
   "source": [
    "class FakeReviewData(Dataset):\n",
    "\n",
    "    def __init__(self, df: pd.DataFrame, max_tokens: int):\n",
    "        self.embedding = GloVe(name='6B', cache=VECTOR_CACHE_DIR, dim=EMBEDDING_SIZE)\n",
    "        self.tokenizer = get_tokenizer('basic_english')\n",
    "        self.df = df\n",
    "        self.max_tokens = max_tokens\n",
    "        self.review_text = self.clean_text(self.df)\n",
    "        self.target_cat = self.df['Overall Compliance']\n",
    "    \n",
    "    def clean_text(self, df: pd.DataFrame) -> pd.Series:\n",
    "\n",
    "        df['text'] = df['text'].str.strip()\n",
    "        df['text'] = df['text'].str.replace('\\n', ' ')\n",
    "        df['text'] = df['text'].str.replace(r'[^a-zA-Z0-9\\s]', '', regex=True)\n",
    "        \n",
    "        return df['text']\n",
    "\n",
    "    def __len__(self):\n",
    "        return len(self.review_text)\n",
    "\n",
    "    def __getitem__(self, index):\n",
    "        review_text = str(self.review_text[index])\n",
    "        tokens = self.tokenizer(review_text)[:self.max_tokens]\n",
    "        target_cat = self.target_cat[index]\n",
    "        inputs = self.embedding.get_vecs_by_tokens(tokens)\n",
    "    \n",
    "        # [0, 1] = real, [1, 0] = gpt\n",
    "        target = []\n",
    "        if target_cat == 'Yes':\n",
    "            target = [1, 0]\n",
    "        else:\n",
    "            target = [0, 1]\n",
    "        \n",
    "        padding = torch.nn.ZeroPad2d((0, 0, 0, self.max_tokens-len(inputs)))\n",
    "\n",
    "        return {\n",
    "            'text': padding(inputs),\n",
    "            'label': torch.tensor(target, dtype=torch.float),\n",
    "        }"
   ]
  },
  {
   "cell_type": "code",
<<<<<<< HEAD
   "execution_count": 47,
=======
   "execution_count": null,
>>>>>>> 50b71338c6b0bd771e09a44afdf730a55265107f
   "metadata": {},
   "outputs": [],
   "source": [
    "train_dataset = FakeReviewData(df=review_df, max_tokens=MAX_TOKENS)\n",
    "val_dataset = FakeReviewData(df=val_df, max_tokens=MAX_TOKENS)"
   ]
  },
  {
   "cell_type": "code",
<<<<<<< HEAD
   "execution_count": 48,
=======
   "execution_count": null,
>>>>>>> 50b71338c6b0bd771e09a44afdf730a55265107f
   "metadata": {},
   "outputs": [],
   "source": [
    "#load dataloaders\n",
    "train_params = {'batch_size': TRAIN_BATCH_SIZE,\n",
    "                'shuffle': True,\n",
    "                }\n",
    "\n",
    "test_params = {'batch_size': VALID_BATCH_SIZE,\n",
    "                'shuffle': True,\n",
    "                }\n",
    "\n",
    "training_loader = DataLoader(train_dataset, **train_params, drop_last=True)\n",
    "val_loader = DataLoader(val_dataset, **test_params, drop_last=True)"
   ]
  },
  {
   "cell_type": "code",
<<<<<<< HEAD
   "execution_count": 49,
=======
   "execution_count": null,
>>>>>>> 50b71338c6b0bd771e09a44afdf730a55265107f
   "metadata": {},
   "outputs": [],
   "source": [
    "## RNN-LSTM\n",
    "\n",
    "class RNNLM(torch.nn.Module):\n",
    "    \"\"\" Container module with an embedding module, an LSTM module,\n",
    "        and a final linear layer to map the LSTM output to the\n",
    "        vocabulary.\n",
    "    \"\"\"\n",
    "\n",
    "    def __init__(self, max_token, embedding_dim, hidden_dim, num_layers, num_labels,\n",
    "                 dropout=0.5):\n",
    "        super(RNNLM, self).__init__()\n",
    "        self.dropout = torch.nn.Dropout(dropout)\n",
    "        self.lstm = torch.nn.LSTM(embedding_dim, hidden_dim, num_layers=num_layers, batch_first=True)\n",
    "        self.llayer = torch.nn.Linear(hidden_dim, num_labels)\n",
    "        self.activation = torch.nn.Sigmoid()\n",
    "\n",
    "    def forward(self, input, hidden0):\n",
    "        '''\n",
    "        Run forward propagation for a given minibatch of inputs using\n",
    "        hidden0 as the initial hidden state\"\n",
    "        '''\n",
    "        embeds = self.dropout(input)\n",
    "        lstm_out, hiddenn = self.lstm(embeds, hidden0)\n",
    "        l_out = self.dropout(lstm_out)\n",
    "        output = self.llayer(l_out[:,-1,:])\n",
    "\n",
    "        return self.activation(output), hiddenn"
   ]
  },
  {
   "cell_type": "code",
<<<<<<< HEAD
   "execution_count": 50,
=======
   "execution_count": null,
>>>>>>> 50b71338c6b0bd771e09a44afdf730a55265107f
   "metadata": {},
   "outputs": [],
   "source": [
    "def validate(model, data_loader):\n",
    "    \"\"\"\n",
    "    Evaluate model during trainging.\n",
    "    \"\"\"\n",
    "    model.eval()\n",
    "    fin_targets=[]\n",
    "    fin_outputs=[]\n",
    "\n",
    "    with torch.no_grad():\n",
    "\n",
    "        hidden = None\n",
    "        for _, data in enumerate(data_loader, 0):\n",
    "            text = data['text'].to(device, dtype = torch.float)\n",
    "            labels = data['label'].to(device, dtype = torch.float)\n",
    "        \n",
    "\n",
    "            outputs, hidden = model(text, hidden)\n",
    "\n",
    "            #compute argmax\n",
    "            _, preds = torch.max(outputs, 1)\n",
    "            _, labels = torch.max(labels, 1)\n",
    "\n",
    "            fin_targets.extend(labels.cpu().numpy().tolist())\n",
    "            fin_outputs.extend(preds.cpu().detach().numpy().tolist())\n",
    "\n",
    "    return fin_outputs, fin_targets"
   ]
  },
  {
   "cell_type": "code",
<<<<<<< HEAD
   "execution_count": 51,
=======
   "execution_count": null,
>>>>>>> 50b71338c6b0bd771e09a44afdf730a55265107f
   "metadata": {},
   "outputs": [],
   "source": [
    "def repackage_hidden(h):\n",
    "    \"\"\"Wraps hidden states in new Tensors, to detach them from their history.\"\"\"\n",
    "    if h is None:\n",
    "        return None\n",
    "    elif isinstance(h, torch.Tensor):\n",
    "        return h.detach()\n",
    "    else:\n",
    "        return tuple(repackage_hidden(v) for v in h)"
   ]
  },
  {
   "cell_type": "code",
<<<<<<< HEAD
   "execution_count": 52,
   "metadata": {},
   "outputs": [],
   "source": [
    "import sklearn"
   ]
  },
  {
   "cell_type": "code",
   "execution_count": 57,
   "metadata": {},
   "outputs": [
    {
     "name": "stdout",
     "output_type": "stream",
     "text": [
      "epoch 0 iter 0 loss 0.6910113096237183\n",
      "epoch 1 iter 0 loss 0.6915732026100159\n",
      "epoch 2 iter 0 loss 0.6871384978294373\n",
      "epoch 3 iter 0 loss 0.6897776126861572\n",
      "epoch 4 iter 0 loss 0.6890031099319458\n",
      "epoch 5 iter 0 loss 0.686519205570221\n",
      "epoch 6 iter 0 loss 0.6857203245162964\n",
      "epoch 7 iter 0 loss 0.6883591413497925\n",
      "epoch 8 iter 0 loss 0.6856735348701477\n",
      "epoch 9 iter 0 loss 0.6882417798042297\n"
     ]
    }
   ],
=======
   "execution_count": null,
   "metadata": {},
   "outputs": [],
>>>>>>> 50b71338c6b0bd771e09a44afdf730a55265107f
   "source": [
    "model = RNNLM(max_token=MAX_TOKENS, embedding_dim=EMBEDDING_SIZE, hidden_dim=256, num_layers=2, num_labels=2, dropout=0.5)\n",
    "model.to(device)\n",
    "\n",
    "optimizer = torch.optim.Adam(model.parameters(), lr=LEARNING_RATE)\n",
    "loss_fn = torch.nn.BCELoss()\n",
    "losses = []\n",
    "accuracies = []\n",
    "f1s = []\n",
    "recalls = []\n",
    "\n",
    "for epoch in range(EPOCHS):\n",
    "    model.train()\n",
    "    hidden = None\n",
    "    for idx, data in enumerate(training_loader):\n",
    "        labels = data['label'].to(device, dtype = torch.float)\n",
    "        text = data['text'].to(device, dtype = torch.float)\n",
    "\n",
    "        hidden = repackage_hidden(hidden)\n",
    "        model.zero_grad()\n",
    "\n",
    "        output, hidden = model(text, hidden)\n",
    "        \n",
    "        loss = loss_fn(output, labels)\n",
    "        loss.backward()\n",
    "\n",
    "        torch.nn.utils.clip_grad_norm_(model.parameters(), GRAD_CLIP)\n",
    "        optimizer.step()\n",
    "\n",
    "        if idx % 1000 == 0:\n",
    "            print(\"epoch\", epoch, \"iter\", idx, \"loss\", loss.item())\n",
    "    \n",
    "    # evaluate at every step\n",
<<<<<<< HEAD
    "    preds, labels = validate(model, test_loader)\n",
    "    accuracies.append(sklearn.metrics.accuracy_score(y_true=labels, y_pred=preds))\n",
    "    f1s.append(sklearn.metrics.f1_score(y_true=labels, y_pred=preds))\n",
    "    recalls.append(sklearn.metrics.recall_score(y_true=labels, y_pred=preds))"
=======
    "    preds, labels = validate(model, val_loader)\n",
    "    print(f'epoch {epoch}: accuracy {metrics.accuracy_score(labels, preds)}')"
>>>>>>> 50b71338c6b0bd771e09a44afdf730a55265107f
   ]
  },
  {
   "cell_type": "code",
<<<<<<< HEAD
   "execution_count": 58,
   "metadata": {},
   "outputs": [],
   "source": [
    "import matplotlib.pyplot as plt\n",
    "\n",
    "def plot_metrics(metrics):\n",
    "    f1s, accuracies, recalls = metrics\n",
    "    plt.plot(range(1, len(accuracies)+1), f1s, label='f1')\n",
    "    plt.plot(range(1, len(accuracies)+1), accuracies, label='accuracy')\n",
    "    plt.plot(range(1, len(accuracies)+1), recalls, label='recall')\n",
    "    plt.legend()\n",
    "\n",
    "    print(f\"Final values: f1 {f1s[-1]:.3f}, accuracy {accuracies[-1]:.3f}, recall {recalls[-1]:.3f}\")"
   ]
  },
  {
   "cell_type": "code",
   "execution_count": 59,
   "metadata": {},
   "outputs": [
    {
     "name": "stdout",
     "output_type": "stream",
     "text": [
      "Final values: f1 0.000, accuracy 0.734, recall 0.000\n"
     ]
    },
    {
     "data": {
      "image/png": "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",
      "text/plain": [
       "<Figure size 640x480 with 1 Axes>"
      ]
     },
     "metadata": {},
     "output_type": "display_data"
    }
   ],
   "source": [
    "metrics = (f1s, accuracies, recalls)\n",
    "plot_metrics(metrics)"
=======
   "execution_count": null,
   "metadata": {},
   "outputs": [],
   "source": [
    "accuracy = metrics.accuracy_score(labels, preds)\n",
    "accuracy"
>>>>>>> 50b71338c6b0bd771e09a44afdf730a55265107f
   ]
  }
 ],
 "metadata": {
  "kernelspec": {
   "display_name": "Python 3.10.13 ('capp30255')",
   "language": "python",
   "name": "python3"
  },
  "language_info": {
   "codemirror_mode": {
    "name": "ipython",
    "version": 3
   },
   "file_extension": ".py",
   "mimetype": "text/x-python",
   "name": "python",
   "nbconvert_exporter": "python",
   "pygments_lexer": "ipython3",
   "version": "3.10.13"
  },
  "orig_nbformat": 4,
  "vscode": {
   "interpreter": {
    "hash": "90fef5f8eb5f449d0283ec7c1f668647364f701a4ef3d77b853642be2461037c"
   }
  }
 },
 "nbformat": 4,
 "nbformat_minor": 2
}
