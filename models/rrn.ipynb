{
 "cells": [
  {
   "cell_type": "code",
   "execution_count": null,
   "metadata": {},
   "outputs": [],
   "source": [
    "import torch\n",
    "from torchtext.data import get_tokenizer\n",
    "from torchtext.vocab import build_vocab_from_iterator, GloVe\n",
    "from torch.utils.data import Dataset, DataLoader\n",
    "import torch.optim as optim\n",
    "import pandas as pd\n",
    "import re\n",
    "from ast import literal_eval\n",
    "from sklearn import metrics"
   ]
  },
  {
   "cell_type": "code",
   "execution_count": null,
   "metadata": {},
   "outputs": [],
   "source": [
    "#training hyperparameters\n",
    "MAX_TOKENS = 150\n",
    "EMBEDDING_SIZE = 300\n",
    "TRAIN_BATCH_SIZE = 64\n",
    "VALID_BATCH_SIZE = 32\n",
    "EPOCHS = 10\n",
    "GRAD_CLIP = 1.\n",
    "LEARNING_RATE = 1e-05\n",
    "VECTOR_CACHE_DIR = '/Users/jackgibson/Documents/advanced_ml/how_the_bear_got_a_C/glove/'"
   ]
  },
  {
   "cell_type": "code",
   "execution_count": null,
   "metadata": {},
   "outputs": [],
   "source": [
    "# constants\n",
    "from torch import cuda\n",
    "device = 'cuda' if cuda.is_available() else 'cpu'"
   ]
  },
  {
   "cell_type": "code",
   "execution_count": null,
   "metadata": {},
   "outputs": [],
   "source": [
    "review_df = pd.read_csv('../data/split/train.csv')\n",
    "val_df = pd.read_csv('../data/split/val.csv')\n",
    "review_df['reviews'] = review_df['reviews'].apply(literal_eval)\n",
    "val_df['reviews'] = val_df['reviews'].apply(literal_eval)\n",
    "\n",
    "\n",
    "# test classifying at reivew level then resturant level\n",
    "review_df = review_df.explode('reviews')\n",
    "review_df = review_df.reset_index().drop(columns=['index'])\n",
    "\n",
    "val_df = val_df.explode('reviews')\n",
    "val_df = val_df.reset_index().drop(columns=['index'])\n",
    "    \n",
    "review_df = review_df.rename(columns={'reviews' : 'text'})\n",
    "val_df = val_df.rename(columns={'reviews' : 'text'})"
   ]
  },
  {
   "cell_type": "code",
   "execution_count": null,
   "metadata": {},
   "outputs": [],
   "source": [
    "# It is best to save GloVe data in a cache to reuse across projects.\n",
    "VECTOR_CACHE_DIR = '//Users/jackgibson/Documents/advanced_ml/how_the_bear_got_a_C'\n",
    "\n",
    "glove = GloVe(name='6B', cache=VECTOR_CACHE_DIR)"
   ]
  },
  {
   "cell_type": "code",
   "execution_count": null,
   "metadata": {},
   "outputs": [],
   "source": [
    "class FakeReviewData(Dataset):\n",
    "\n",
    "    def __init__(self, df: pd.DataFrame, max_tokens: int):\n",
    "        self.embedding = GloVe(name='6B', cache=VECTOR_CACHE_DIR, dim=EMBEDDING_SIZE)\n",
    "        self.tokenizer = get_tokenizer('basic_english')\n",
    "        self.df = df\n",
    "        self.max_tokens = max_tokens\n",
    "        self.review_text = self.clean_text(self.df)\n",
    "        self.target_cat = self.df['Overall Compliance']\n",
    "\n",
    "\n",
    "    \n",
    "    def clean_text(self, df: pd.DataFrame) -> pd.Series:\n",
    "\n",
    "        df['text'] = df['text'].str.strip()\n",
    "        df['text'] = df['text'].str.replace('\\n', ' ')\n",
    "        df['text'] = df['text'].str.replace(r'[^a-zA-Z0-9\\s]', '', regex=True)\n",
    "        \n",
    "        return df['text']\n",
    "\n",
    "    def __len__(self):\n",
    "        return len(self.review_text)\n",
    "\n",
    "    def __getitem__(self, index):\n",
    "        review_text = str(self.review_text[index])\n",
    "        tokens = self.tokenizer(review_text)[:self.max_tokens]\n",
    "        target_cat = self.target_cat[index]\n",
    "        inputs = self.embedding.get_vecs_by_tokens(tokens)\n",
    "    \n",
    "        # [0, 1] = real, [1, 0] = gpt\n",
    "        target = []\n",
    "        if target_cat == 'Yes':\n",
    "            target = [1, 0]\n",
    "        else:\n",
    "            target = [0, 1]\n",
    "        \n",
    "        padding = torch.nn.ZeroPad2d((0, 0, 0, self.max_tokens-len(inputs)))\n",
    "\n",
    "        return {\n",
    "            'text': padding(inputs),\n",
    "            'label': torch.tensor(target, dtype=torch.float),\n",
    "        }"
   ]
  },
  {
   "cell_type": "code",
   "execution_count": null,
   "metadata": {},
   "outputs": [],
   "source": [
    "train_dataset = FakeReviewData(df=review_df, max_tokens=MAX_TOKENS)\n",
    "val_dataset = FakeReviewData(df=val_df, max_tokens=MAX_TOKENS)"
   ]
  },
  {
   "cell_type": "code",
   "execution_count": null,
   "metadata": {},
   "outputs": [],
   "source": [
    "#load dataloaders\n",
    "train_params = {'batch_size': TRAIN_BATCH_SIZE,\n",
    "                'shuffle': True,\n",
    "                }\n",
    "\n",
    "test_params = {'batch_size': VALID_BATCH_SIZE,\n",
    "                'shuffle': True,\n",
    "                }\n",
    "\n",
    "training_loader = DataLoader(train_dataset, **train_params, drop_last=True)\n",
    "val_loader = DataLoader(val_dataset, **test_params, drop_last=True)"
   ]
  },
  {
   "cell_type": "code",
   "execution_count": null,
   "metadata": {},
   "outputs": [],
   "source": [
    "## RNN-LSTM\n",
    "\n",
    "class RNNLM(torch.nn.Module):\n",
    "    \"\"\" Container module with an embedding module, an LSTM module,\n",
    "        and a final linear layer to map the LSTM output to the\n",
    "        vocabulary.\n",
    "    \"\"\"\n",
    "\n",
    "    def __init__(self, max_token, embedding_dim, hidden_dim, num_layers, num_labels,\n",
    "                 dropout=0.5):\n",
    "        super(RNNLM, self).__init__()\n",
    " \n",
    "        self.dropout = torch.nn.Dropout(dropout)\n",
    "        self.lstm = torch.nn.LSTM(embedding_dim, hidden_dim, num_layers=num_layers, batch_first=True)\n",
    "        self.llayer = torch.nn.Linear(hidden_dim, num_labels)\n",
    "        self.activation = torch.nn.Sigmoid()\n",
    "      \n",
    "\n",
    "\n",
    "    def forward(self, input, hidden0):\n",
    "        '''\n",
    "        Run forward propagation for a given minibatch of inputs using\n",
    "        hidden0 as the initial hidden state\"\n",
    "        '''\n",
    "        embeds = self.dropout(input)\n",
    "        lstm_out, hiddenn = self.lstm(embeds, hidden0)\n",
    "        l_out = self.dropout(lstm_out)\n",
    "        output = self.llayer(l_out[:,-1,:])\n",
    "\n",
    "        return self.activation(output), hiddenn"
   ]
  },
  {
   "cell_type": "code",
   "execution_count": null,
   "metadata": {},
   "outputs": [],
   "source": [
    "def validate(model, data_loader):\n",
    "    \"\"\"\n",
    "    Evaluate model during trainging.\n",
    "    \"\"\"\n",
    "    model.eval()\n",
    "    fin_targets=[]\n",
    "    fin_outputs=[]\n",
    "\n",
    "    with torch.no_grad():\n",
    "\n",
    "        hidden = None\n",
    "        for _, data in enumerate(data_loader, 0):\n",
    "            text = data['text'].to(device, dtype = torch.float)\n",
    "            labels = data['label'].to(device, dtype = torch.float)\n",
    "        \n",
    "\n",
    "            outputs, hidden = model(text, hidden)\n",
    "\n",
    "            #compute argmax\n",
    "            _, preds = torch.max(outputs, 1)\n",
    "            _, labels = torch.max(labels, 1)\n",
    "\n",
    "            fin_targets.extend(labels.cpu().numpy().tolist())\n",
    "            fin_outputs.extend(preds.cpu().detach().numpy().tolist())\n",
    "\n",
    "    return fin_outputs, fin_targets"
   ]
  },
  {
   "cell_type": "code",
   "execution_count": null,
   "metadata": {},
   "outputs": [],
   "source": [
    "def repackage_hidden(h):\n",
    "    \"\"\"Wraps hidden states in new Tensors, to detach them from their history.\"\"\"\n",
    "    if h is None:\n",
    "        return None\n",
    "    elif isinstance(h, torch.Tensor):\n",
    "        return h.detach()\n",
    "    else:\n",
    "        return tuple(repackage_hidden(v) for v in h)"
   ]
  },
  {
   "cell_type": "code",
   "execution_count": null,
   "metadata": {},
   "outputs": [],
   "source": [
    "model = RNNLM(max_token=MAX_TOKENS, embedding_dim=EMBEDDING_SIZE, hidden_dim=256, num_layers=2, num_labels=2, dropout=0.5)\n",
    "model.to(device)\n",
    "\n",
    "optimizer = torch.optim.Adam(model.parameters(), lr=LEARNING_RATE)\n",
    "loss_fn = torch.nn.BCELoss()\n",
    "losses = []\n",
    "\n",
    "for epoch in range(EPOCHS):\n",
    "    model.train()\n",
    "    hidden = None\n",
    "    for idx, data in enumerate(training_loader):\n",
    "        labels = data['label'].to(device, dtype = torch.float)\n",
    "        text = data['text'].to(device, dtype = torch.float)\n",
    "\n",
    "        hidden = repackage_hidden(hidden)\n",
    "        model.zero_grad()\n",
    "\n",
    "        output, hidden = model(text, hidden)\n",
    "        \n",
    "        loss = loss_fn(output, labels)\n",
    "        losses.append(loss.item())\n",
    "        loss.backward()\n",
    "\n",
    "        torch.nn.utils.clip_grad_norm_(model.parameters(), GRAD_CLIP)\n",
    "        optimizer.step()\n",
    "\n",
    "        if idx % 1000 == 0:\n",
    "            print(\"epoch\", epoch, \"iter\", idx, \"loss\", loss.item())\n",
    "    \n",
    "    # evaluate at every step\n",
    "    preds, labels = validate(model, val_loader)\n",
    "    print(f'epoch {epoch}: accuracy {metrics.accuracy_score(labels, preds)}')"
   ]
  },
  {
   "cell_type": "code",
   "execution_count": null,
   "metadata": {},
   "outputs": [],
   "source": [
    "accuracy = metrics.accuracy_score(labels, preds)\n",
    "accuracy"
   ]
  }
 ],
 "metadata": {
  "kernelspec": {
   "display_name": "Python 3.10.13 ('capp30255')",
   "language": "python",
   "name": "python3"
  },
  "language_info": {
   "codemirror_mode": {
    "name": "ipython",
    "version": 3
   },
   "file_extension": ".py",
   "mimetype": "text/x-python",
   "name": "python",
   "nbconvert_exporter": "python",
   "pygments_lexer": "ipython3",
   "version": "3.10.13"
  },
  "orig_nbformat": 4,
  "vscode": {
   "interpreter": {
    "hash": "90fef5f8eb5f449d0283ec7c1f668647364f701a4ef3d77b853642be2461037c"
   }
  }
 },
 "nbformat": 4,
 "nbformat_minor": 2
}
