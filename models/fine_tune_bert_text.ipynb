{
 "cells": [
  {
   "cell_type": "code",
   "execution_count": null,
   "metadata": {},
   "outputs": [],
   "source": [
    "from dataloaders import BERTReviewData\n",
    "from transformers import DistilBertTokenizer\n",
    "from torch.utils.data import DataLoader\n",
    "from shared_models import TextBERT\n",
    "import pandas as pd\n",
    "import torch\n",
    "from sklearn import metrics\n",
    "import os"
   ]
  },
  {
   "cell_type": "code",
   "execution_count": 2,
   "metadata": {
    "id": "1dmrQ8Pzy9bc"
   },
   "outputs": [],
   "source": [
    "from torch import cuda\n",
    "device = 'cuda' if cuda.is_available() else 'cpu'"
   ]
  },
  {
   "cell_type": "code",
   "execution_count": 3,
   "metadata": {},
   "outputs": [],
   "source": [
    "#training hyperparameters\n",
    "MAX_TOKENS = 512\n",
    "TRAIN_BATCH_SIZE = 16\n",
    "VALID_BATCH_SIZE = 8\n",
    "EPOCHS = 4\n",
    "LEARNING_RATE = 1e-05\n",
    "\n",
    "# change to true to run per review\n",
    "EXPANDED = False\n",
    "\n",
    "save_dir = 'bert_compact_text_nosig'\n",
    "os.makedirs(save_dir, exist_ok=True)"
   ]
  },
  {
   "cell_type": "code",
   "execution_count": null,
   "metadata": {
    "colab": {
     "base_uri": "https://localhost:8080/",
     "height": 424
    },
    "id": "O1Zin1X0y9bc",
    "outputId": "1071bfd3-caf0-4df5-d5d2-c17130906256"
   },
   "outputs": [],
   "source": [
    "review_df = pd.read_csv('../data/split/train.csv')\n",
    "test_df = pd.read_csv('../data/split/test.csv')\n",
    "val_df = pd.read_csv('../data/split/val.csv')\n",
    "\n",
    "review_df['reviews'] = review_df['reviews'].apply(literal_eval)\n",
    "test_df['reviews'] = test_df['reviews'].apply(literal_eval)\n",
    "val_df['reviews'] = val_df['reviews'].apply(literal_eval)\n",
    "\n",
    "review_df = review_df.rename(columns={'reviews': 'text', 'Overall Compliance': 'label'})\n",
    "test_df = test_df.rename(columns={'reviews': 'text', 'Overall Compliance': 'label'})\n",
    "val_df = val_df.rename(columns={'reviews': 'text', 'Overall Compliance': 'label'})\n",
    "\n",
    "\n",
    "label_dict = {0 : 'Yes', 1 : 'No'}\n",
    "# test classifying at reivew level then resturant level\n",
    "if EXPANDED:\n",
    "    review_df = review_df.explode('reviews')\n",
    "    review_df = review_df.reset_index().drop(columns=['index'])\n",
    "\n",
    "    test_df = test_df.explode('reviews')\n",
    "    test_df = test_df.reset_index().drop(columns=['index'])\n",
    "    \n",
    "    val_df = val_df.explode('reviews')\n",
    "    val_df = val_df.reset_index().drop(columns=['index'])\n",
    "    \n",
    "\n",
    "tokenizer = DistilBertTokenizer.from_pretrained('distilbert-base-uncased', truncation=True, do_lower_case=False)\n",
    "train_data = BERTReviewData(review_df, tokenizer, max_tokens=MAX_TOKENS, expanded=EXPANDED, labels=label_dict)\n",
    "test_data = BERTReviewData(test_df, tokenizer, max_tokens=MAX_TOKENS, expanded=EXPANDED, labels=label_dict)\n",
    "val_data = BERTReviewData(val_df, tokenizer, max_tokens=MAX_TOKENS, expanded=EXPANDED, label=label_dict)"
   ]
  },
  {
   "cell_type": "code",
   "execution_count": 7,
   "metadata": {
    "id": "GZskTDOUy9bf"
   },
   "outputs": [],
   "source": [
    "#load dataloaders\n",
    "train_params = {'batch_size': TRAIN_BATCH_SIZE,\n",
    "                'shuffle': True,\n",
    "                }\n",
    "\n",
    "test_params = {'batch_size': VALID_BATCH_SIZE,\n",
    "                'shuffle': True,\n",
    "                }\n",
    "\n",
    "training_loader = DataLoader(train_data, **train_params)\n",
    "testing_loader = DataLoader(test_data, **test_params)\n",
    "val_loader = DataLoader(val_data, **test_params)"
   ]
  },
  {
   "cell_type": "code",
   "execution_count": 10,
   "metadata": {
    "id": "Qpc-ZXPiy9bj"
   },
   "outputs": [
    {
     "name": "stderr",
     "output_type": "stream",
     "text": [
      "Some weights of DistilBertForSequenceClassification were not initialized from the model checkpoint at distilbert-base-uncased and are newly initialized: ['classifier.weight', 'pre_classifier.bias', 'classifier.bias', 'pre_classifier.weight']\n",
      "You should probably TRAIN this model on a down-stream task to be able to use it for predictions and inference.\n"
     ]
    }
   ],
   "source": [
    "# initialize model and optimizing function\n",
    "model = TextBERT()\n",
    "model.to(device)\n",
    "\n",
    "loss_fn = torch.nn.BCEWithLogitsLoss()\n",
    "optimizer = torch.optim.Adam(params =  model.parameters(), lr=LEARNING_RATE)"
   ]
  },
  {
   "cell_type": "code",
   "execution_count": 11,
   "metadata": {
    "id": "HKL5o6eEy9bj"
   },
   "outputs": [],
   "source": [
    "def validate(data_loader):\n",
    "    \"\"\"\n",
    "    Evaluate model during trainging.\n",
    "    \"\"\"\n",
    "    model.eval()\n",
    "    fin_targets=[]\n",
    "    fin_outputs=[]\n",
    "\n",
    "    with torch.no_grad():\n",
    "\n",
    "        for _, data in enumerate(data_loader, 0):\n",
    "            ids = data['ids'].to(device, dtype = torch.long)\n",
    "            mask = data['mask'].to(device, dtype = torch.long)\n",
    "            targets = data['targets'].to(device, dtype = torch.float)\n",
    "            outputs = model(ids, mask)\n",
    "\n",
    "            #compute argmax\n",
    "            _, preds = torch.max(outputs, 1)\n",
    "            _, labels = torch.max(targets, 1)\n",
    "\n",
    "            fin_targets.extend(labels.cpu().numpy().tolist())\n",
    "            fin_outputs.extend(preds.cpu().detach().numpy().tolist())\n",
    "\n",
    "    return fin_outputs, fin_targets"
   ]
  },
  {
   "cell_type": "code",
   "execution_count": 12,
   "metadata": {
    "colab": {
     "base_uri": "https://localhost:8080/"
    },
    "id": "3ydAfJ17y9bj",
    "outputId": "14ae634e-0cd4-479d-a535-90f9bd8db3fa"
   },
   "outputs": [
    {
     "name": "stdout",
     "output_type": "stream",
     "text": [
      "Epoch: 0, Loss:  0.6662896275520325\n",
      "Epoch: 0, Loss:  0.4127616882324219\n",
      "Epoch 0: Accuracy Score = 0.8205128205128205\n",
      "Epoch: 1, Loss:  0.561906635761261\n",
      "Epoch: 1, Loss:  0.481205552816391\n",
      "Epoch 1: Accuracy Score = 0.8205128205128205\n",
      "Epoch: 2, Loss:  0.5565972328186035\n",
      "Epoch: 2, Loss:  0.40803948044776917\n",
      "Epoch 2: Accuracy Score = 0.8205128205128205\n",
      "Epoch: 3, Loss:  0.8382182121276855\n",
      "Epoch: 3, Loss:  0.261642187833786\n",
      "Epoch 3: Accuracy Score = 0.8205128205128205\n"
     ]
    }
   ],
   "source": [
    "# train the model\n",
    "train_results = {}\n",
    "\n",
    "for epoch in range(EPOCHS):\n",
    "    results = {}\n",
    "    losses = []\n",
    "    model.train()\n",
    "    for idx, data in enumerate(training_loader, 0):\n",
    "        ids = data['ids'].to(device, dtype = torch.long)\n",
    "        mask = data['mask'].to(device, dtype = torch.long)\n",
    "        targets = data['targets'].to(device, dtype = torch.float)\n",
    "\n",
    "        outputs = model(ids, mask)\n",
    "\n",
    "        optimizer.zero_grad()\n",
    "        loss = loss_fn(outputs, targets)\n",
    "        losses.append(loss.item())\n",
    "\n",
    "        if idx%100==0:\n",
    "            print(f'Epoch: {epoch}, Loss:  {loss.item()}')\n",
    "        \n",
    "        optimizer.zero_grad()\n",
    "        loss.backward()\n",
    "        optimizer.step()\n",
    "        \n",
    "    preds, targets = validate(testing_loader)\n",
    "    \n",
    "    results['preds'] = preds\n",
    "    results['labels'] = targets\n",
    "    results['losses'] = losses\n",
    "    train_results[epoch] = results\n",
    "\n",
    "    # play with a softmax activation function in the classifier\n",
    "    accuracy = metrics.accuracy_score(targets, preds)\n",
    "    print(f\"Epoch {epoch}: Accuracy Score = {accuracy}\")"
   ]
  },
  {
   "cell_type": "code",
   "execution_count": 14,
   "metadata": {},
   "outputs": [],
   "source": [
    "# save training data\n",
    "with open(f\"{save_dir}/train_data.json\", \"w\") as out:\n",
    "    json.dump(train_results, out)"
   ]
  },
  {
   "cell_type": "code",
   "execution_count": 13,
   "metadata": {},
   "outputs": [
    {
     "name": "stdout",
     "output_type": "stream",
     "text": [
      "Validation Acc = 0.8055555555555556\n"
     ]
    }
   ],
   "source": [
    "# evaluate model\n",
    "test_results = {}\n",
    "preds, targets = validate(val_loader)\n",
    "\n",
    "accuracy = metrics.accuracy_score(targets, preds)\n",
    "print(f\"Validation Acc = {accuracy}\")\n",
    "\n",
    "test_results['preds'] = preds\n",
    "test_results['labels'] = targets"
   ]
  },
  {
   "cell_type": "code",
   "execution_count": 15,
   "metadata": {},
   "outputs": [],
   "source": [
    "# save val data\n",
    "with open(f\"{save_dir}/evaluate_data.json\", \"w\") as out:\n",
    "    json.dump(test_results, out)"
   ]
  }
 ],
 "metadata": {
  "accelerator": "GPU",
  "colab": {
   "gpuType": "T4",
   "provenance": []
  },
  "kernelspec": {
   "display_name": "Python 3 (ipykernel)",
   "language": "python",
   "name": "python3"
  },
  "language_info": {
   "codemirror_mode": {
    "name": "ipython",
    "version": 3
   },
   "file_extension": ".py",
   "mimetype": "text/x-python",
   "name": "python",
   "nbconvert_exporter": "python",
   "pygments_lexer": "ipython3",
   "version": "3.9.13"
  },
  "vscode": {
   "interpreter": {
    "hash": "85ea4b3f8f8bbee1e23da4c155a93a1e9f6833b5217ca791a452f768bdc9cb7b"
   }
  }
 },
 "nbformat": 4,
 "nbformat_minor": 4
}
