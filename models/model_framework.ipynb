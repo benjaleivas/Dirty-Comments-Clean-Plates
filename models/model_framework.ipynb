{
 "cells": [
  {
   "cell_type": "code",
   "execution_count": 1,
   "metadata": {},
   "outputs": [],
   "source": [
    "import time\n",
    "import os\n",
    "import torch\n",
    "from torch import nn\n",
    "import torch.nn.functional as F\n",
    "\n",
    "from xgboost import XGBClassifier\n",
    "\n",
    "import matplotlib.pyplot as plt\n",
    "import pandas as pd\n",
    "import numpy as np\n",
    "%matplotlib inline"
   ]
  },
  {
   "cell_type": "code",
   "execution_count": 2,
   "metadata": {},
   "outputs": [
    {
     "data": {
      "text/plain": [
       "'/Users/jackgibson/Documents/advanced_ml/how_the_bear_got_a_C'"
      ]
     },
     "execution_count": 2,
     "metadata": {},
     "output_type": "execute_result"
    }
   ],
   "source": [
    "#ONLY RUN THIS ONCE\n",
    "os.chdir(\"..\")\n",
    "os.path.abspath(os.curdir)"
   ]
  },
  {
   "attachments": {},
   "cell_type": "markdown",
   "metadata": {},
   "source": [
    "#### Custom DataLoaders\n",
    "Use classes and functions created in model_framework.py to frame out 4 different models using pytorch dataloaders..."
   ]
  },
  {
   "cell_type": "code",
   "execution_count": 3,
   "metadata": {},
   "outputs": [],
   "source": [
    "import model_framework"
   ]
  },
  {
   "cell_type": "code",
   "execution_count": 4,
   "metadata": {},
   "outputs": [],
   "source": [
    "FEATURES = [\n",
    "    \"stars\",\n",
    "    \"review_count\",\n",
    "    \"is_open\",\n",
    "    \"n_reviews\",\n",
    "    \"avg_rating\",\n",
    "    \"IR_regular\",\n",
    "    \"IR_follow_up\",\n",
    "    \"IR_other\",\n",
    "    \"Chester\",\n",
    "    \"Bucks\",\n",
    "    \"Philadelphia\",\n",
    "    \"Delaware\",\n",
    "    \"Montgomery\",\n",
    "    \"Berks\",\n",
    "]"
   ]
  },
  {
   "cell_type": "code",
   "execution_count": 5,
   "metadata": {},
   "outputs": [],
   "source": [
    "train = pd.read_csv(\"data/phila/split/train.csv\")\n",
    "#subset for only features that are floats or ints\n",
    "# train = train.select_dtypes(include=[np.float64,np.int64])"
   ]
  },
  {
   "cell_type": "code",
   "execution_count": 73,
   "metadata": {},
   "outputs": [],
   "source": [
    "train_dataset = model_framework.ReviewsDataset(vectorizer=model_framework.Vectorizer,\n",
    "                              df_filepath=\"data/phila/split/train.csv\",\n",
    "                              features=FEATURES, max_features=7000)\n",
    "val_dataset = model_framework.ReviewsDataset(vectorizer=model_framework.Vectorizer,\n",
    "                              df_filepath=\"data/phila/split/val.csv\",\n",
    "                              features=FEATURES, max_features=7000)\n",
    "test_dataset = model_framework.ReviewsDataset(vectorizer=model_framework.Vectorizer,\n",
    "                              df_filepath=\"data/phila/split/test.csv\",\n",
    "                              features=FEATURES, max_features=7000)"
   ]
  },
  {
   "attachments": {},
   "cell_type": "markdown",
   "metadata": {},
   "source": [
    "#### Model Testing"
   ]
  },
  {
   "cell_type": "code",
   "execution_count": 74,
   "metadata": {},
   "outputs": [],
   "source": [
    "# wrap with any params here: https://pytorch.org/docs/stable/data.html#torch.utils.data.DataLoader\n",
    "BATCH_SIZE = 32\n",
    "\n",
    "train_dataloader = torch.utils.data.DataLoader(train_dataset,batch_size=BATCH_SIZE,shuffle=True)\n",
    "val_dataloader = torch.utils.data.DataLoader(val_dataset,batch_size=BATCH_SIZE,shuffle=True)\n",
    "test_dataloader = torch.utils.data.DataLoader(test_dataset,batch_size=BATCH_SIZE,shuffle=True)"
   ]
  },
  {
   "cell_type": "code",
   "execution_count": 63,
   "metadata": {},
   "outputs": [
    {
     "data": {
      "text/plain": [
       "{'text': tensor([[0.0000, 0.0000, 0.0000,  ..., 0.0000, 0.0000, 0.0000],\n",
       "         [0.0000, 0.0198, 0.0000,  ..., 0.0000, 0.0000, 0.0000],\n",
       "         [0.0000, 0.0896, 0.0000,  ..., 0.0000, 0.0000, 0.0000],\n",
       "         ...,\n",
       "         [0.0000, 0.0728, 0.0000,  ..., 0.0000, 0.0000, 0.0000],\n",
       "         [0.0084, 0.0224, 0.0082,  ..., 0.0078, 0.0000, 0.0000],\n",
       "         [0.0000, 0.0000, 0.0000,  ..., 0.0000, 0.0000, 0.0000]]),\n",
       " 'labels': tensor([0, 0, 0, 0, 1, 0, 0, 1, 0, 1, 0, 0, 0, 1, 1, 0, 0, 0, 0, 0, 1, 1, 0, 0,\n",
       "         0, 0, 0, 0, 0, 0, 0, 0]),\n",
       " 'features': tensor([[  4.5000, 308.0000,   1.0000,   3.0000,   4.3333,   0.0000,   0.0000,\n",
       "            0.0000,   1.0000,   0.0000,   0.0000,   0.0000,   0.0000,   0.0000],\n",
       "         [  4.5000,  98.0000,   1.0000,   8.0000,   4.7500,   1.0000,   0.0000,\n",
       "            0.0000,   0.0000,   0.0000,   1.0000,   0.0000,   0.0000,   0.0000],\n",
       "         [  4.5000,  56.0000,   1.0000,   3.0000,   4.0000,   0.0000,   0.0000,\n",
       "            0.0000,   0.0000,   0.0000,   0.0000,   1.0000,   0.0000,   0.0000],\n",
       "         [  3.5000,   7.0000,   1.0000,   1.0000,   1.0000,   1.0000,   0.0000,\n",
       "            0.0000,   1.0000,   0.0000,   0.0000,   0.0000,   0.0000,   0.0000],\n",
       "         [  4.5000,  51.0000,   1.0000,   4.0000,   4.2500,   1.0000,   0.0000,\n",
       "            0.0000,   1.0000,   0.0000,   0.0000,   0.0000,   0.0000,   0.0000],\n",
       "         [  4.5000,  40.0000,   1.0000,   3.0000,   4.6667,   1.0000,   0.0000,\n",
       "            0.0000,   1.0000,   0.0000,   0.0000,   0.0000,   0.0000,   0.0000],\n",
       "         [  3.5000, 390.0000,   1.0000,  51.0000,   3.9020,   1.0000,   0.0000,\n",
       "            0.0000,   0.0000,   0.0000,   1.0000,   0.0000,   0.0000,   0.0000],\n",
       "         [  3.5000,  32.0000,   1.0000,   1.0000,   1.0000,   1.0000,   0.0000,\n",
       "            0.0000,   1.0000,   0.0000,   0.0000,   0.0000,   0.0000,   0.0000],\n",
       "         [  3.0000, 164.0000,   1.0000,  16.0000,   4.4375,   1.0000,   0.0000,\n",
       "            0.0000,   1.0000,   0.0000,   0.0000,   0.0000,   0.0000,   0.0000],\n",
       "         [  2.5000,  31.0000,   1.0000,   6.0000,   1.6667,   1.0000,   0.0000,\n",
       "            0.0000,   1.0000,   0.0000,   0.0000,   0.0000,   0.0000,   0.0000],\n",
       "         [  2.5000,  65.0000,   1.0000,   6.0000,   1.8333,   1.0000,   0.0000,\n",
       "            0.0000,   1.0000,   0.0000,   0.0000,   0.0000,   0.0000,   0.0000],\n",
       "         [  4.5000,  14.0000,   0.0000,  11.0000,   5.0000,   1.0000,   0.0000,\n",
       "            0.0000,   0.0000,   0.0000,   0.0000,   1.0000,   0.0000,   0.0000],\n",
       "         [  3.5000, 268.0000,   1.0000,   3.0000,   5.0000,   0.0000,   0.0000,\n",
       "            0.0000,   1.0000,   0.0000,   0.0000,   0.0000,   0.0000,   0.0000],\n",
       "         [  3.5000,  22.0000,   1.0000,   9.0000,   4.0000,   1.0000,   0.0000,\n",
       "            0.0000,   1.0000,   0.0000,   0.0000,   0.0000,   0.0000,   0.0000],\n",
       "         [  4.0000,  18.0000,   0.0000,   1.0000,   5.0000,   0.0000,   0.0000,\n",
       "            0.0000,   0.0000,   0.0000,   0.0000,   1.0000,   0.0000,   0.0000],\n",
       "         [  3.5000,  78.0000,   1.0000,  17.0000,   3.1176,   1.0000,   0.0000,\n",
       "            0.0000,   1.0000,   0.0000,   0.0000,   0.0000,   0.0000,   0.0000],\n",
       "         [  5.0000,  54.0000,   1.0000,   1.0000,   5.0000,   0.0000,   0.0000,\n",
       "            0.0000,   1.0000,   0.0000,   0.0000,   0.0000,   0.0000,   0.0000],\n",
       "         [  3.0000,  31.0000,   1.0000,   1.0000,   4.0000,   0.0000,   0.0000,\n",
       "            0.0000,   1.0000,   0.0000,   0.0000,   0.0000,   0.0000,   0.0000],\n",
       "         [  4.5000,  31.0000,   1.0000,   2.0000,   5.0000,   1.0000,   0.0000,\n",
       "            0.0000,   0.0000,   0.0000,   0.0000,   0.0000,   0.0000,   1.0000],\n",
       "         [  5.0000,   5.0000,   1.0000,   1.0000,   5.0000,   1.0000,   0.0000,\n",
       "            0.0000,   1.0000,   0.0000,   0.0000,   0.0000,   0.0000,   0.0000],\n",
       "         [  1.5000,  29.0000,   1.0000,   3.0000,   1.0000,   0.0000,   0.0000,\n",
       "            0.0000,   1.0000,   0.0000,   0.0000,   0.0000,   0.0000,   0.0000],\n",
       "         [  4.0000,  59.0000,   1.0000,   1.0000,   5.0000,   0.0000,   0.0000,\n",
       "            0.0000,   1.0000,   0.0000,   0.0000,   0.0000,   0.0000,   0.0000],\n",
       "         [  2.0000,  13.0000,   1.0000,   2.0000,   3.5000,   1.0000,   0.0000,\n",
       "            0.0000,   1.0000,   0.0000,   0.0000,   0.0000,   0.0000,   0.0000],\n",
       "         [  3.5000, 150.0000,   1.0000,   3.0000,   2.6667,   0.0000,   0.0000,\n",
       "            0.0000,   1.0000,   0.0000,   0.0000,   0.0000,   0.0000,   0.0000],\n",
       "         [  2.5000,  20.0000,   1.0000,   3.0000,   2.3333,   1.0000,   0.0000,\n",
       "            0.0000,   0.0000,   0.0000,   1.0000,   0.0000,   0.0000,   0.0000],\n",
       "         [  4.5000,  12.0000,   1.0000,   1.0000,   5.0000,   0.0000,   0.0000,\n",
       "            0.0000,   1.0000,   0.0000,   0.0000,   0.0000,   0.0000,   0.0000],\n",
       "         [  4.0000,  64.0000,   1.0000,   1.0000,   5.0000,   1.0000,   0.0000,\n",
       "            0.0000,   1.0000,   0.0000,   0.0000,   0.0000,   0.0000,   0.0000],\n",
       "         [  3.5000,  85.0000,   1.0000,   2.0000,   4.5000,   0.0000,   0.0000,\n",
       "            0.0000,   1.0000,   0.0000,   0.0000,   0.0000,   0.0000,   0.0000],\n",
       "         [  4.5000,  95.0000,   1.0000,   2.0000,   3.0000,   0.0000,   0.0000,\n",
       "            0.0000,   1.0000,   0.0000,   0.0000,   0.0000,   0.0000,   0.0000],\n",
       "         [  4.0000,   9.0000,   0.0000,   3.0000,   3.6667,   1.0000,   0.0000,\n",
       "            0.0000,   1.0000,   0.0000,   0.0000,   0.0000,   0.0000,   0.0000],\n",
       "         [  3.5000, 554.0000,   1.0000,  61.0000,   3.7049,   1.0000,   0.0000,\n",
       "            0.0000,   0.0000,   0.0000,   1.0000,   0.0000,   0.0000,   0.0000],\n",
       "         [  3.5000,  39.0000,   0.0000,   7.0000,   3.2857,   1.0000,   0.0000,\n",
       "            0.0000,   1.0000,   0.0000,   0.0000,   0.0000,   0.0000,   0.0000]])}"
      ]
     },
     "execution_count": 63,
     "metadata": {},
     "output_type": "execute_result"
    }
   ],
   "source": [
    "example = next(iter(train_dataloader))\n",
    "example"
   ]
  },
  {
   "cell_type": "code",
   "execution_count": 75,
   "metadata": {},
   "outputs": [],
   "source": [
    "def get_accuracy(val_dataloader, model):\n",
    "    model.eval()\n",
    "    \n",
    "    with torch.no_grad():\n",
    "        n_correct = 0\n",
    "        n_examples = 0\n",
    "        for data in val_dataloader:\n",
    "            # get predicted probabilities, and labels with highest probability\n",
    "            predicted_labels = model(data['text'])\n",
    "            # predicted_labels = predicted_labels > 0.5\n",
    "            # correct = data['labels'] > 0.5\n",
    "\n",
    "            #compute argmax\n",
    "            _, preds = torch.max(predicted_labels, 1)\n",
    "            # _, labels = torch.max(data['labels'], 1)\n",
    "\n",
    "            batch_correct = (preds == data['labels']).sum().item()\n",
    "            n_correct += batch_correct\n",
    "            n_examples += len(data['labels'])\n",
    "    \n",
    "    # calculate average accuracy across all batches\n",
    "    average_accuracy = n_correct / n_examples\n",
    "    return average_accuracy"
   ]
  },
  {
   "cell_type": "code",
   "execution_count": 76,
   "metadata": {},
   "outputs": [],
   "source": [
    "def train_model(model, train_dataloader, val_dataloader, optimizer, loss_function, epochs):\n",
    " # Sets the module in training mode.\n",
    "    val_accuracies=[]\n",
    "\n",
    "    for n_epoch in range(epochs):\n",
    "\n",
    "        model.train()\n",
    "\n",
    "        for data in train_dataloader:\n",
    "            y_hat = model(data['text'])\n",
    "\n",
    "            optimizer.zero_grad()\n",
    "            loss = loss_function(y_hat, data['labels'])\n",
    "            \n",
    "\n",
    "            optimizer.zero_grad()\n",
    "            loss.backward()\n",
    "            optimizer.step()\n",
    "            \n",
    "        val_accuracies.append(get_accuracy(val_dataloader, model))\n",
    "        \n",
    "        if n_epoch % 100 == 0:\n",
    "            print(f'At epoch {n_epoch} the loss is {loss:.3f}.')\n",
    "    return val_accuracies"
   ]
  },
  {
   "cell_type": "code",
   "execution_count": 77,
   "metadata": {},
   "outputs": [],
   "source": [
    "def plot_accuracies(val_accuracies):  \n",
    "    plt.plot(range(1, len(val_accuracies)+1), val_accuracies)"
   ]
  },
  {
   "attachments": {},
   "cell_type": "markdown",
   "metadata": {},
   "source": [
    "#### SVM"
   ]
  },
  {
   "cell_type": "code",
   "execution_count": 78,
   "metadata": {},
   "outputs": [],
   "source": [
    "class Binary_SVM(nn.Module):\n",
    "    def __init__(self, n_features):\n",
    "        super(Binary_SVM, self).__init__()\n",
    "        self.linear = nn.Linear(n_features, 2)\n",
    "        self.nonlinearity = nn.Sigmoid()\n",
    "    \n",
    "    def forward(self, x):\n",
    "        out = self.linear(x)\n",
    "        #NOTABLY NO NON-LINEAR LAYER?\n",
    "        out = self.nonlinearity(out)\n",
    "        out = out.squeeze()\n",
    "        return out"
   ]
  },
  {
   "cell_type": "code",
   "execution_count": 79,
   "metadata": {},
   "outputs": [
    {
     "name": "stdout",
     "output_type": "stream",
     "text": [
      "At epoch 0 the loss is 0.500.\n",
      "At epoch 100 the loss is 0.500.\n",
      "At epoch 200 the loss is 0.498.\n"
     ]
    }
   ],
   "source": [
    "max_features=7000\n",
    "svm_model = Binary_SVM(max_features)\n",
    "epochs=300\n",
    "lr = 1e-05\n",
    "optimizer = torch.optim.SGD(svm_model.parameters(), lr=lr)\n",
    "loss_function = nn.MultiMarginLoss()\n",
    "\n",
    "swm_val_accuracies = train_model(svm_model, train_dataloader, val_dataloader, optimizer, loss_function, epochs)"
   ]
  },
  {
   "cell_type": "code",
   "execution_count": 80,
   "metadata": {},
   "outputs": [
    {
     "data": {
      "image/png": "[encoded data removed]",
      "text/plain": [
       "<Figure size 640x480 with 1 Axes>"
      ]
     },
     "metadata": {},
     "output_type": "display_data"
    }
   ],
   "source": [
    "# why is this happening? lol\n",
    "plot_accuracies(swm_val_accuracies)"
   ]
  },
  {
   "attachments": {},
   "cell_type": "markdown",
   "metadata": {},
   "source": [
    "### Logistic Regression"
   ]
  },
  {
   "cell_type": "code",
   "execution_count": 40,
   "metadata": {},
   "outputs": [],
   "source": [
    "class LogisticRegression(torch.nn.Module):    \n",
    "    def __init__(self, n_inputs, num_labels):\n",
    "        super(LogisticRegression, self).__init__()\n",
    "        self.linear = torch.nn.Linear(n_inputs, num_labels)\n",
    "\n",
    "    def forward(self, x):\n",
    "        \n",
    "        return F.log_softmax(self.linear(x), dim=1)"
   ]
  },
  {
   "cell_type": "code",
   "execution_count": 81,
   "metadata": {},
   "outputs": [
    {
     "name": "stdout",
     "output_type": "stream",
     "text": [
      "At epoch 0 the loss is 0.696.\n",
      "At epoch 100 the loss is 0.685.\n",
      "At epoch 200 the loss is 0.674.\n"
     ]
    }
   ],
   "source": [
    "# ADD THE RIGHT DIMENSIONS HERE?\n",
    "n_inputs = 7000\n",
    "n_outputs = 2\n",
    "\n",
    "log_regr_model = LogisticRegression(n_inputs, n_outputs)\n",
    "epochs = 300\n",
    "lr = 1e-05\n",
    "optimizer = torch.optim.SGD(log_regr_model.parameters(), lr=lr)\n",
    "loss_function = nn.NLLLoss()\n",
    "\n",
    "swm_val_accuracies = train_model(log_regr_model, train_dataloader, val_dataloader, optimizer, loss_function, epochs)"
   ]
  },
  {
   "cell_type": "code",
   "execution_count": 82,
   "metadata": {},
   "outputs": [
    {
     "data": {
      "image/png": "[encoded data removed]",
      "text/plain": [
       "<Figure size 640x480 with 1 Axes>"
      ]
     },
     "metadata": {},
     "output_type": "display_data"
    }
   ],
   "source": [
    "plot_accuracies(swm_val_accuracies)"
   ]
  },
  {
   "attachments": {},
   "cell_type": "markdown",
   "metadata": {},
   "source": [
    "### XGBoost"
   ]
  }
 ],
 "metadata": {
  "kernelspec": {
   "display_name": ".venv",
   "language": "python",
   "name": "python3"
  },
  "language_info": {
   "codemirror_mode": {
    "name": "ipython",
    "version": 3
   },
   "file_extension": ".py",
   "mimetype": "text/x-python",
   "name": "python",
   "nbconvert_exporter": "python",
   "pygments_lexer": "ipython3",
   "version": "3.10.8"
  },
  "orig_nbformat": 4
 },
 "nbformat": 4,
 "nbformat_minor": 2
}
