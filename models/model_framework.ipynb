{
 "cells": [
  {
   "cell_type": "code",
   "execution_count": 2,
   "metadata": {},
   "outputs": [],
   "source": [
    "import time\n",
    "import os\n",
    "import torch\n",
    "from torch import nn\n",
    "import torch.nn.functional as F\n",
    "\n",
    "from xgboost import XGBClassifier\n",
    "\n",
    "import matplotlib.pyplot as plt\n",
    "import pandas as pd\n",
    "import numpy as np\n",
    "%matplotlib inline"
   ]
  },
  {
   "cell_type": "code",
   "execution_count": 3,
   "metadata": {},
   "outputs": [
    {
     "data": {
      "text/plain": [
       "'/Users/claireboyd/courses/advanced_ml/dirty_comments_and_clean_plates'"
      ]
     },
     "execution_count": 3,
     "metadata": {},
     "output_type": "execute_result"
    }
   ],
   "source": [
    "#ONLY RUN THIS ONCE\n",
    "os.chdir(\"..\")\n",
    "os.path.abspath(os.curdir)"
   ]
  },
  {
   "attachments": {},
   "cell_type": "markdown",
   "metadata": {},
   "source": [
    "#### Custom DataLoaders\n",
    "Use classes and functions created in model_framework.py to frame out 4 different models using pytorch dataloaders..."
   ]
  },
  {
   "cell_type": "code",
   "execution_count": 4,
   "metadata": {},
   "outputs": [],
   "source": [
    "import model_framework"
   ]
  },
  {
   "cell_type": "code",
   "execution_count": 5,
   "metadata": {},
   "outputs": [],
   "source": [
    "FEATURES = [\n",
    "    \"stars\",\n",
    "    \"review_count\",\n",
    "    \"is_open\",\n",
    "    \"n_reviews\",\n",
    "    \"avg_rating\",\n",
    "    \"IR_regular\",\n",
    "    \"IR_follow_up\",\n",
    "    \"IR_other\",\n",
    "    \"Chester\",\n",
    "    \"Bucks\",\n",
    "    \"Philadelphia\",\n",
    "    \"Delaware\",\n",
    "    \"Montgomery\",\n",
    "    \"Berks\",\n",
    "]"
   ]
  },
  {
   "cell_type": "code",
   "execution_count": 6,
   "metadata": {},
   "outputs": [],
   "source": [
    "# train = pd.read_csv(\"data/phila/split/train.csv\")\n",
    "# subset for only features that are floats or ints\n",
    "# train = train.select_dtypes(include=[np.float64,np.int64])"
   ]
  },
  {
   "cell_type": "code",
   "execution_count": 7,
   "metadata": {},
   "outputs": [],
   "source": [
    "vectorizer = model_framework.Vectorizer\n",
    "max_features = 2000\n",
    "ngram_range = (1,1)\n",
    "\n",
    "train_dataset = model_framework.ReviewsDataset(\n",
    "    vectorizer=vectorizer,\n",
    "    df_filepath=\"data/phila/split/train.csv\",\n",
    "    features=FEATURES,\n",
    "    max_features=max_features,\n",
    "    ngram_range=ngram_range\n",
    ")\n",
    "val_dataset = model_framework.ReviewsDataset(\n",
    "    vectorizer=vectorizer,\n",
    "    df_filepath=\"data/phila/split/val.csv\",\n",
    "    features=FEATURES,\n",
    "    max_features=max_features,\n",
    "    ngram_range=ngram_range\n",
    ")\n",
    "test_dataset = model_framework.ReviewsDataset(\n",
    "    vectorizer=vectorizer,\n",
    "    df_filepath=\"data/phila/split/test.csv\",\n",
    "    features=FEATURES,\n",
    "    max_features=max_features,\n",
    "    ngram_range=ngram_range\n",
    ")"
   ]
  },
  {
   "cell_type": "code",
   "execution_count": 11,
   "metadata": {},
   "outputs": [],
   "source": [
    "# train_tokens = train_dataset.vectorizer.get_feature_names_out()\n",
    "# test_tokens = test_dataset.vectorizer.get_feature_names_out()\n",
    "# val_tokens = test_dataset.vectorizer.get_feature_names_out()"
   ]
  },
  {
   "cell_type": "code",
   "execution_count": 8,
   "metadata": {},
   "outputs": [
    {
     "data": {
      "text/plain": [
       "array(['able', 'absolute', 'absolutely', 'acceptable', 'accommodate',\n",
       "       'accommodated', 'accommodating', 'accompanied', 'acknowledge',\n",
       "       'acknowledged', 'act', 'actual', 'actually', 'add', 'added',\n",
       "       'addition', 'additional', 'address', 'adorable', 'adult', 'adults',\n",
       "       'advance', 'advertised', 'advice', 'affordable', 'afternoon',\n",
       "       'age', 'aged', 'ago', 'agree', 'agreed', 'ahead', 'air', 'al',\n",
       "       'alcohol', 'allergy', 'allow', 'allowed', 'alright', 'amazing',\n",
       "       'amazingly', 'ambiance', 'ambience', 'american', 'ample',\n",
       "       'anniversary', 'annoyed', 'annoying', 'answer', 'answered',\n",
       "       'anymore', 'anytime', 'apart', 'apologetic', 'apologize',\n",
       "       'apologized', 'apology', 'app', 'apparently', 'appear', 'appeared',\n",
       "       'appears', 'appetizer', 'appetizers', 'apple', 'appointment',\n",
       "       'appreciate', 'appreciated', 'apps', 'area', 'areas', 'aren',\n",
       "       'arrival', 'arrive', 'arrived', 'art', 'arugula', 'asian', 'aside',\n",
       "       'ask', 'asked', 'asking', 'asparagus', 'assume', 'ate',\n",
       "       'atmosphere', 'attached', 'attempt', 'attention', 'attentive',\n",
       "       'attitude', 'authentic', 'available', 'average', 'avocado',\n",
       "       'avoid', 'aware', 'away', 'awesome', 'awful'], dtype=object)"
      ]
     },
     "execution_count": 8,
     "metadata": {},
     "output_type": "execute_result"
    }
   ],
   "source": [
    "train_dataset.vectorizer.get_feature_names_out()[:100]"
   ]
  },
  {
   "attachments": {},
   "cell_type": "markdown",
   "metadata": {},
   "source": [
    "#### Experimenting with WeightedRandomSampler"
   ]
  },
  {
   "cell_type": "code",
   "execution_count": 8,
   "metadata": {},
   "outputs": [],
   "source": [
    "def get_sampler(dataset):\n",
    "    # https://towardsdatascience.com/demystifying-pytorchs-weightedrandomsampler-by-example-a68aceccb452\n",
    "    class_counts = dataset.labels.value_counts()\n",
    "    sample_weights = [1/class_counts[i] for i in dataset.labels.values]\n",
    "    sampler = torch.utils.data.WeightedRandomSampler(weights=sample_weights, num_samples=len(train_dataset), replacement=True)\n",
    "    return sampler"
   ]
  },
  {
   "cell_type": "code",
   "execution_count": 9,
   "metadata": {},
   "outputs": [
    {
     "data": {
      "text/plain": [
       "y\n",
       "0    1381\n",
       "1     373\n",
       "Name: count, dtype: int64"
      ]
     },
     "execution_count": 9,
     "metadata": {},
     "output_type": "execute_result"
    }
   ],
   "source": [
    "#imbalance of training dataset\n",
    "class_counts = train_dataset.labels.value_counts()\n",
    "class_counts"
   ]
  },
  {
   "cell_type": "code",
   "execution_count": 10,
   "metadata": {},
   "outputs": [
    {
     "data": {
      "text/plain": [
       "y\n",
       "0    160\n",
       "1     56\n",
       "Name: count, dtype: int64"
      ]
     },
     "execution_count": 10,
     "metadata": {},
     "output_type": "execute_result"
    }
   ],
   "source": [
    "val_dataset.labels.value_counts()"
   ]
  },
  {
   "cell_type": "code",
   "execution_count": 11,
   "metadata": {},
   "outputs": [
    {
     "data": {
      "text/plain": [
       "y\n",
       "0    149\n",
       "1     46\n",
       "Name: count, dtype: int64"
      ]
     },
     "execution_count": 11,
     "metadata": {},
     "output_type": "execute_result"
    }
   ],
   "source": [
    "test_dataset.labels.value_counts()"
   ]
  },
  {
   "cell_type": "code",
   "execution_count": 71,
   "metadata": {},
   "outputs": [],
   "source": [
    "train_sampler = get_sampler(train_dataset)\n",
    "val_sampler = get_sampler(val_dataset)\n",
    "test_sampler = get_sampler(test_dataset)"
   ]
  },
  {
   "attachments": {},
   "cell_type": "markdown",
   "metadata": {},
   "source": [
    "This made the model worse. Scraping."
   ]
  },
  {
   "attachments": {},
   "cell_type": "markdown",
   "metadata": {},
   "source": [
    "#### Model Testing"
   ]
  },
  {
   "cell_type": "code",
   "execution_count": 72,
   "metadata": {},
   "outputs": [],
   "source": [
    "# wrap with any params here: https://pytorch.org/docs/stable/data.html#torch.utils.data.DataLoader\n",
    "BATCH_SIZE = 64\n",
    "\n",
    "train_dataloader = torch.utils.data.DataLoader(train_dataset,batch_size=BATCH_SIZE, sampler=train_sampler) #shuffle=True)\n",
    "val_dataloader = torch.utils.data.DataLoader(val_dataset,batch_size=BATCH_SIZE, shuffle=True)\n",
    "test_dataloader = torch.utils.data.DataLoader(test_dataset,batch_size=BATCH_SIZE, shuffle=True)"
   ]
  },
  {
   "cell_type": "code",
   "execution_count": 37,
   "metadata": {},
   "outputs": [
    {
     "data": {
      "text/plain": [
       "{'text': tensor([[0.0000, 0.0000, 0.0000,  ..., 0.0000, 0.0000, 0.0000],\n",
       "         [0.0000, 0.0000, 0.0000,  ..., 0.0000, 0.0000, 0.0000],\n",
       "         [0.0000, 0.0000, 0.0000,  ..., 0.0000, 0.0000, 0.0000],\n",
       "         ...,\n",
       "         [0.0000, 0.0000, 0.0000,  ..., 0.0000, 0.0000, 0.0000],\n",
       "         [0.0000, 0.0000, 0.0420,  ..., 0.0000, 0.0000, 0.0000],\n",
       "         [0.0000, 0.0000, 0.0000,  ..., 0.0000, 0.0000, 0.0000]]),\n",
       " 'labels': tensor([0, 0, 0, 0, 0, 0, 0, 1, 1, 0, 0, 0, 0, 0, 0, 0, 0, 0, 0, 0, 0, 1, 0, 1,\n",
       "         0, 0, 0, 0, 0, 0, 0, 0, 1, 0, 0, 0, 0, 0, 0, 1, 0, 1, 0, 0, 0, 0, 0, 1,\n",
       "         1, 0, 0, 1, 1, 1, 0, 0, 0, 0, 0, 0, 0, 0, 0, 0]),\n",
       " 'features': tensor([[  4.5000,  30.0000,   1.0000,   1.0000,   5.0000,   0.0000,   0.0000,\n",
       "            0.0000,   0.0000,   0.0000,   1.0000,   0.0000,   0.0000,   0.0000],\n",
       "         [  4.0000,  84.0000,   1.0000,   7.0000,   4.2857,   1.0000,   0.0000,\n",
       "            0.0000,   1.0000,   0.0000,   0.0000,   0.0000,   0.0000,   0.0000],\n",
       "         [  4.0000,  50.0000,   1.0000,   8.0000,   3.6250,   1.0000,   0.0000,\n",
       "            0.0000,   1.0000,   0.0000,   0.0000,   0.0000,   0.0000,   0.0000],\n",
       "         [  2.0000,  59.0000,   0.0000,   2.0000,   2.0000,   0.0000,   0.0000,\n",
       "            0.0000,   1.0000,   0.0000,   0.0000,   0.0000,   0.0000,   0.0000],\n",
       "         [  5.0000,  10.0000,   1.0000,   2.0000,   5.0000,   1.0000,   0.0000,\n",
       "            0.0000,   1.0000,   0.0000,   0.0000,   0.0000,   0.0000,   0.0000],\n",
       "         [  1.5000,  32.0000,   1.0000,   1.0000,   1.0000,   0.0000,   0.0000,\n",
       "            0.0000,   1.0000,   0.0000,   0.0000,   0.0000,   0.0000,   0.0000],\n",
       "         [  2.5000,  56.0000,   1.0000,   7.0000,   4.2857,   0.0000,   0.0000,\n",
       "            0.0000,   0.0000,   0.0000,   1.0000,   0.0000,   0.0000,   0.0000],\n",
       "         [  3.5000, 150.0000,   1.0000,   8.0000,   3.7500,   1.0000,   0.0000,\n",
       "            0.0000,   1.0000,   0.0000,   0.0000,   0.0000,   0.0000,   0.0000],\n",
       "         [  3.5000,  31.0000,   1.0000,   2.0000,   3.0000,   1.0000,   0.0000,\n",
       "            0.0000,   1.0000,   0.0000,   0.0000,   0.0000,   0.0000,   0.0000],\n",
       "         [  3.0000,  50.0000,   0.0000,   2.0000,   1.5000,   1.0000,   0.0000,\n",
       "            0.0000,   0.0000,   1.0000,   0.0000,   0.0000,   0.0000,   0.0000],\n",
       "         [  4.5000, 110.0000,   1.0000,  18.0000,   4.3889,   0.0000,   0.0000,\n",
       "            0.0000,   0.0000,   0.0000,   1.0000,   0.0000,   0.0000,   0.0000],\n",
       "         [  4.5000,  17.0000,   0.0000,  17.0000,   4.2941,   1.0000,   0.0000,\n",
       "            0.0000,   1.0000,   0.0000,   0.0000,   0.0000,   0.0000,   0.0000],\n",
       "         [  3.0000,  41.0000,   1.0000,   4.0000,   4.5000,   0.0000,   0.0000,\n",
       "            0.0000,   0.0000,   0.0000,   0.0000,   1.0000,   0.0000,   0.0000],\n",
       "         [  4.5000,  21.0000,   1.0000,   3.0000,   4.0000,   1.0000,   0.0000,\n",
       "            0.0000,   1.0000,   0.0000,   0.0000,   0.0000,   0.0000,   0.0000],\n",
       "         [  3.0000,  30.0000,   0.0000,   1.0000,   1.0000,   0.0000,   0.0000,\n",
       "            0.0000,   0.0000,   1.0000,   0.0000,   0.0000,   0.0000,   0.0000],\n",
       "         [  4.0000, 211.0000,   0.0000,   2.0000,   3.5000,   0.0000,   0.0000,\n",
       "            0.0000,   1.0000,   0.0000,   0.0000,   0.0000,   0.0000,   0.0000],\n",
       "         [  4.0000, 358.0000,   0.0000,  16.0000,   3.4375,   1.0000,   0.0000,\n",
       "            0.0000,   0.0000,   0.0000,   1.0000,   0.0000,   0.0000,   0.0000],\n",
       "         [  3.5000,  17.0000,   1.0000,   3.0000,   4.3333,   1.0000,   0.0000,\n",
       "            0.0000,   1.0000,   0.0000,   0.0000,   0.0000,   0.0000,   0.0000],\n",
       "         [  2.5000,  49.0000,   1.0000,   9.0000,   1.4444,   1.0000,   0.0000,\n",
       "            0.0000,   1.0000,   0.0000,   0.0000,   0.0000,   0.0000,   0.0000],\n",
       "         [  3.0000,   5.0000,   1.0000,   1.0000,   4.0000,   1.0000,   0.0000,\n",
       "            0.0000,   1.0000,   0.0000,   0.0000,   0.0000,   0.0000,   0.0000],\n",
       "         [  4.0000,  25.0000,   1.0000,   6.0000,   4.5000,   1.0000,   0.0000,\n",
       "            0.0000,   0.0000,   0.0000,   0.0000,   0.0000,   1.0000,   0.0000],\n",
       "         [  4.5000,  21.0000,   1.0000,   4.0000,   5.0000,   1.0000,   0.0000,\n",
       "            0.0000,   1.0000,   0.0000,   0.0000,   0.0000,   0.0000,   0.0000],\n",
       "         [  3.5000,  34.0000,   1.0000,   3.0000,   3.6667,   0.0000,   0.0000,\n",
       "            0.0000,   0.0000,   0.0000,   1.0000,   0.0000,   0.0000,   0.0000],\n",
       "         [  3.0000,  19.0000,   0.0000,   7.0000,   2.7143,   1.0000,   0.0000,\n",
       "            0.0000,   1.0000,   0.0000,   0.0000,   0.0000,   0.0000,   0.0000],\n",
       "         [  4.5000, 153.0000,   1.0000,   8.0000,   4.7500,   1.0000,   0.0000,\n",
       "            0.0000,   1.0000,   0.0000,   0.0000,   0.0000,   0.0000,   0.0000],\n",
       "         [  4.5000, 127.0000,   1.0000,  14.0000,   4.2857,   1.0000,   0.0000,\n",
       "            0.0000,   1.0000,   0.0000,   0.0000,   0.0000,   0.0000,   0.0000],\n",
       "         [  4.0000,  64.0000,   1.0000,   5.0000,   4.0000,   1.0000,   0.0000,\n",
       "            0.0000,   1.0000,   0.0000,   0.0000,   0.0000,   0.0000,   0.0000],\n",
       "         [  3.5000,  16.0000,   1.0000,   3.0000,   4.0000,   1.0000,   0.0000,\n",
       "            0.0000,   0.0000,   0.0000,   0.0000,   1.0000,   0.0000,   0.0000],\n",
       "         [  2.0000,   7.0000,   1.0000,   2.0000,   3.0000,   1.0000,   0.0000,\n",
       "            0.0000,   0.0000,   0.0000,   0.0000,   1.0000,   0.0000,   0.0000],\n",
       "         [  4.0000, 181.0000,   1.0000,   2.0000,   4.0000,   0.0000,   0.0000,\n",
       "            0.0000,   1.0000,   0.0000,   0.0000,   0.0000,   0.0000,   0.0000],\n",
       "         [  4.5000, 141.0000,   1.0000,   1.0000,   5.0000,   0.0000,   0.0000,\n",
       "            0.0000,   1.0000,   0.0000,   0.0000,   0.0000,   0.0000,   0.0000],\n",
       "         [  4.5000, 105.0000,   1.0000,   5.0000,   3.6000,   0.0000,   0.0000,\n",
       "            0.0000,   1.0000,   0.0000,   0.0000,   0.0000,   0.0000,   0.0000],\n",
       "         [  4.5000, 106.0000,   1.0000,  13.0000,   4.3846,   1.0000,   0.0000,\n",
       "            0.0000,   1.0000,   0.0000,   0.0000,   0.0000,   0.0000,   0.0000],\n",
       "         [  2.5000,  41.0000,   1.0000,   2.0000,   5.0000,   1.0000,   0.0000,\n",
       "            0.0000,   1.0000,   0.0000,   0.0000,   0.0000,   0.0000,   0.0000],\n",
       "         [  4.0000,  16.0000,   1.0000,   3.0000,   5.0000,   1.0000,   0.0000,\n",
       "            0.0000,   0.0000,   0.0000,   0.0000,   1.0000,   0.0000,   0.0000],\n",
       "         [  3.0000,  42.0000,   1.0000,   6.0000,   3.5000,   1.0000,   0.0000,\n",
       "            0.0000,   0.0000,   0.0000,   1.0000,   0.0000,   0.0000,   0.0000],\n",
       "         [  4.5000, 150.0000,   1.0000,  23.0000,   4.4783,   1.0000,   0.0000,\n",
       "            0.0000,   1.0000,   0.0000,   0.0000,   0.0000,   0.0000,   0.0000],\n",
       "         [  3.0000,  54.0000,   1.0000,   1.0000,   5.0000,   0.0000,   0.0000,\n",
       "            0.0000,   1.0000,   0.0000,   0.0000,   0.0000,   0.0000,   0.0000],\n",
       "         [  4.0000,  19.0000,   1.0000,   2.0000,   3.0000,   0.0000,   0.0000,\n",
       "            0.0000,   0.0000,   0.0000,   0.0000,   0.0000,   1.0000,   0.0000],\n",
       "         [  4.0000,  51.0000,   1.0000,   6.0000,   4.1667,   1.0000,   0.0000,\n",
       "            0.0000,   1.0000,   0.0000,   0.0000,   0.0000,   0.0000,   0.0000],\n",
       "         [  3.5000,  95.0000,   1.0000,   2.0000,   3.0000,   0.0000,   0.0000,\n",
       "            0.0000,   1.0000,   0.0000,   0.0000,   0.0000,   0.0000,   0.0000],\n",
       "         [  3.5000, 148.0000,   1.0000,  34.0000,   3.4118,   1.0000,   0.0000,\n",
       "            0.0000,   0.0000,   0.0000,   0.0000,   1.0000,   0.0000,   0.0000],\n",
       "         [  4.5000,  34.0000,   1.0000,  13.0000,   4.4615,   1.0000,   0.0000,\n",
       "            0.0000,   1.0000,   0.0000,   0.0000,   0.0000,   0.0000,   0.0000],\n",
       "         [  3.5000,  17.0000,   1.0000,   1.0000,   2.0000,   1.0000,   0.0000,\n",
       "            0.0000,   0.0000,   0.0000,   0.0000,   0.0000,   0.0000,   1.0000],\n",
       "         [  4.5000, 308.0000,   1.0000,   2.0000,   4.5000,   0.0000,   0.0000,\n",
       "            0.0000,   1.0000,   0.0000,   0.0000,   0.0000,   0.0000,   0.0000],\n",
       "         [  3.5000,  16.0000,   1.0000,   3.0000,   4.0000,   1.0000,   0.0000,\n",
       "            0.0000,   0.0000,   0.0000,   0.0000,   1.0000,   0.0000,   0.0000],\n",
       "         [  3.0000,  10.0000,   1.0000,   1.0000,   1.0000,   1.0000,   0.0000,\n",
       "            0.0000,   1.0000,   0.0000,   0.0000,   0.0000,   0.0000,   0.0000],\n",
       "         [  3.5000,  24.0000,   1.0000,   3.0000,   3.6667,   1.0000,   0.0000,\n",
       "            0.0000,   1.0000,   0.0000,   0.0000,   0.0000,   0.0000,   0.0000],\n",
       "         [  4.0000,  16.0000,   1.0000,   4.0000,   4.0000,   1.0000,   0.0000,\n",
       "            0.0000,   1.0000,   0.0000,   0.0000,   0.0000,   0.0000,   0.0000],\n",
       "         [  3.5000, 554.0000,   1.0000,  61.0000,   3.7049,   1.0000,   0.0000,\n",
       "            0.0000,   0.0000,   0.0000,   1.0000,   0.0000,   0.0000,   0.0000],\n",
       "         [  4.0000,  15.0000,   1.0000,   3.0000,   3.6667,   1.0000,   0.0000,\n",
       "            0.0000,   0.0000,   0.0000,   0.0000,   0.0000,   1.0000,   0.0000],\n",
       "         [  4.5000,  45.0000,   1.0000,  13.0000,   4.5385,   1.0000,   0.0000,\n",
       "            0.0000,   1.0000,   0.0000,   0.0000,   0.0000,   0.0000,   0.0000],\n",
       "         [  3.0000,  41.0000,   1.0000,   2.0000,   2.0000,   1.0000,   0.0000,\n",
       "            0.0000,   1.0000,   0.0000,   0.0000,   0.0000,   0.0000,   0.0000],\n",
       "         [  4.0000, 208.0000,   1.0000,   3.0000,   4.0000,   0.0000,   0.0000,\n",
       "            0.0000,   1.0000,   0.0000,   0.0000,   0.0000,   0.0000,   0.0000],\n",
       "         [  4.5000,  14.0000,   1.0000,   4.0000,   5.0000,   0.0000,   0.0000,\n",
       "            0.0000,   0.0000,   0.0000,   0.0000,   0.0000,   1.0000,   0.0000],\n",
       "         [  3.0000,  69.0000,   1.0000,   4.0000,   3.0000,   1.0000,   0.0000,\n",
       "            0.0000,   0.0000,   0.0000,   0.0000,   1.0000,   0.0000,   0.0000],\n",
       "         [  4.0000,  74.0000,   1.0000,  11.0000,   4.2727,   1.0000,   0.0000,\n",
       "            0.0000,   0.0000,   0.0000,   0.0000,   1.0000,   0.0000,   0.0000],\n",
       "         [  3.5000,  17.0000,   1.0000,   1.0000,   3.0000,   1.0000,   0.0000,\n",
       "            0.0000,   1.0000,   0.0000,   0.0000,   0.0000,   0.0000,   0.0000],\n",
       "         [  3.0000,  11.0000,   0.0000,   1.0000,   1.0000,   1.0000,   0.0000,\n",
       "            0.0000,   1.0000,   0.0000,   0.0000,   0.0000,   0.0000,   0.0000],\n",
       "         [  4.5000,  38.0000,   1.0000,   2.0000,   4.5000,   1.0000,   0.0000,\n",
       "            0.0000,   1.0000,   0.0000,   0.0000,   0.0000,   0.0000,   0.0000],\n",
       "         [  4.0000,  99.0000,   1.0000,  23.0000,   3.8696,   1.0000,   0.0000,\n",
       "            0.0000,   0.0000,   0.0000,   0.0000,   0.0000,   1.0000,   0.0000],\n",
       "         [  5.0000,  18.0000,   1.0000,   1.0000,   5.0000,   1.0000,   0.0000,\n",
       "            0.0000,   0.0000,   0.0000,   0.0000,   0.0000,   1.0000,   0.0000],\n",
       "         [  4.0000, 223.0000,   1.0000,  21.0000,   3.7619,   1.0000,   0.0000,\n",
       "            0.0000,   1.0000,   0.0000,   0.0000,   0.0000,   0.0000,   0.0000],\n",
       "         [  4.0000,  33.0000,   1.0000,   1.0000,   5.0000,   0.0000,   0.0000,\n",
       "            0.0000,   0.0000,   0.0000,   0.0000,   0.0000,   0.0000,   1.0000]])}"
      ]
     },
     "execution_count": 37,
     "metadata": {},
     "output_type": "execute_result"
    }
   ],
   "source": [
    "example = next(iter(train_dataloader))\n",
    "example"
   ]
  },
  {
   "cell_type": "code",
   "execution_count": 67,
   "metadata": {},
   "outputs": [],
   "source": [
    "def get_accuracy(val_dataloader, model, include_features=False):\n",
    "    model.eval()\n",
    "    \n",
    "    with torch.no_grad():\n",
    "        n_correct = 0\n",
    "        n_examples = 0\n",
    "        for data in val_dataloader:\n",
    "            # get predicted probabilities, and labels with highest probability\n",
    "            if include_features is True:\n",
    "                predicted_labels = model(data['text'], data['features'])\n",
    "            elif include_features == \"only\":\n",
    "                predicted_labels = model(data['features'])\n",
    "            else:\n",
    "                predicted_labels = model(data['text'])\n",
    "\n",
    "            #compute argmax\n",
    "            _, preds = torch.max(predicted_labels, 1)\n",
    "            # _, labels = torch.max(data['labels'], 1)\n",
    "\n",
    "            batch_correct = (preds == data['labels']).sum().item()\n",
    "            n_correct += batch_correct\n",
    "            n_examples += len(data['labels'])\n",
    "    \n",
    "    # calculate average accuracy across all batches\n",
    "    average_accuracy = n_correct / n_examples\n",
    "    return average_accuracy"
   ]
  },
  {
   "cell_type": "code",
   "execution_count": 64,
   "metadata": {},
   "outputs": [],
   "source": [
    "def train_model(model, train_dataloader, val_dataloader, optimizer, loss_function, epochs, include_features=False):\n",
    " # Sets the module in training mode.\n",
    "    val_accuracies=[]\n",
    "\n",
    "    for n_epoch in range(epochs):\n",
    "\n",
    "        model.train()\n",
    "\n",
    "        for data in train_dataloader:\n",
    "            if include_features is True:\n",
    "                y_hat = model(data['text'], data['features'])\n",
    "            elif include_features == \"only\":\n",
    "                y_hat = model(data['features'])\n",
    "            else:\n",
    "                y_hat = model(data['text'])\n",
    "\n",
    "            optimizer.zero_grad()\n",
    "            loss = loss_function(y_hat, data['labels'])\n",
    "            \n",
    "            optimizer.zero_grad()\n",
    "            loss.backward()\n",
    "            optimizer.step()\n",
    "            \n",
    "        accuracy = get_accuracy(val_dataloader, model, include_features)\n",
    "        val_accuracies.append(accuracy)\n",
    "        \n",
    "        if n_epoch % 100 == 0:\n",
    "            print(f'At epoch {n_epoch}: loss = {loss:.3f}, and accuracy = {accuracy:.3f}')\n",
    "    return val_accuracies"
   ]
  },
  {
   "cell_type": "code",
   "execution_count": 61,
   "metadata": {},
   "outputs": [],
   "source": [
    "def plot_accuracies(val_accuracies):  \n",
    "    plt.plot(range(1, len(val_accuracies)+1), val_accuracies)"
   ]
  },
  {
   "attachments": {},
   "cell_type": "markdown",
   "metadata": {},
   "source": [
    "### Logistic Regression"
   ]
  },
  {
   "cell_type": "code",
   "execution_count": 39,
   "metadata": {},
   "outputs": [],
   "source": [
    "class LogisticRegression(torch.nn.Module):\n",
    "   def __init__(self, input_dim, hidden_dim, output_dim):\n",
    "      super(LogisticRegression, self).__init__()\n",
    "      self.linear = torch.nn.Linear(input_dim, hidden_dim)\n",
    "      self.relu = torch.nn.ReLU()\n",
    "      self.linear_two = torch.nn.Linear(hidden_dim, output_dim)\n",
    "   \n",
    "   def forward(self, x):\n",
    "      z = self.linear(x)\n",
    "      x_prime = self.relu(z)\n",
    "      z_prime = self.linear_two(x_prime)\n",
    "      y_hat = torch.sigmoid(z_prime)\n",
    "      return y_hat"
   ]
  },
  {
   "cell_type": "code",
   "execution_count": 40,
   "metadata": {},
   "outputs": [
    {
     "name": "stdout",
     "output_type": "stream",
     "text": [
      "At epoch 0: loss = -0.506, and accuracy = 0.741\n",
      "At epoch 100: loss = -0.663, and accuracy = 0.741\n",
      "At epoch 200: loss = -0.767, and accuracy = 0.741\n",
      "At epoch 300: loss = -0.847, and accuracy = 0.741\n"
     ]
    }
   ],
   "source": [
    "input_dim = 2000 #vocab size\n",
    "hidden_dim = 2000\n",
    "output_dim = 2 #probabilities for two output classes\n",
    "\n",
    "log_regr_model = LogisticRegression(input_dim, hidden_dim, output_dim)\n",
    "epochs = 400\n",
    "lr = 1e-04\n",
    "optimizer = torch.optim.SGD(log_regr_model.parameters(), lr=lr)\n",
    "loss_function = nn.NLLLoss()\n",
    "\n",
    "log_regr_val_accuracies = train_model(log_regr_model, train_dataloader, val_dataloader, optimizer, loss_function, epochs)"
   ]
  },
  {
   "cell_type": "code",
   "execution_count": 41,
   "metadata": {},
   "outputs": [
    {
     "data": {
      "image/png": "[encoded data removed]",
      "text/plain": [
       "<Figure size 640x480 with 1 Axes>"
      ]
     },
     "metadata": {},
     "output_type": "display_data"
    }
   ],
   "source": [
    "plot_accuracies(log_regr_val_accuracies)"
   ]
  },
  {
   "cell_type": "code",
   "execution_count": 42,
   "metadata": {},
   "outputs": [],
   "source": [
    "class LogisticRegressionwithFeatures(torch.nn.Module):\n",
    "   def __init__(self, input_dim, feature_dim, output_dim):\n",
    "      super(LogisticRegressionwithFeatures, self).__init__()\n",
    "      self.linear = torch.nn.Linear(input_dim, 1)\n",
    "      self.feature_layer = torch.nn.Linear(feature_dim+1, output_dim)\n",
    "      \n",
    "   def forward(self, x, features):\n",
    "      z = self.linear(x)\n",
    "      z_features = torch.cat((z, features), 1)\n",
    "      z_prime = self.feature_layer(z_features)\n",
    "      y_hat = torch.sigmoid(z_prime)\n",
    "      return y_hat"
   ]
  },
  {
   "cell_type": "code",
   "execution_count": 34,
   "metadata": {},
   "outputs": [
    {
     "name": "stdout",
     "output_type": "stream",
     "text": [
      "At epoch 0: loss = -0.044, and accuracy = 0.259\n",
      "At epoch 100: loss = -0.976, and accuracy = 0.662\n",
      "At epoch 200: loss = -0.995, and accuracy = 0.694\n",
      "At epoch 300: loss = -0.993, and accuracy = 0.699\n",
      "At epoch 400: loss = -0.991, and accuracy = 0.708\n"
     ]
    }
   ],
   "source": [
    "input_dim = 2000 #vocab size\n",
    "feature_dim = len(FEATURES)\n",
    "output_dim = 2 #probabilities for two output classes\n",
    "\n",
    "log_regr_model = LogisticRegressionwithFeatures(input_dim, feature_dim, output_dim)\n",
    "epochs = 500\n",
    "lr = 1e-04\n",
    "optimizer = torch.optim.SGD(log_regr_model.parameters(), lr=lr)\n",
    "loss_function = nn.NLLLoss()\n",
    "\n",
    "log_regr_val_accuracies_with_features = train_model(log_regr_model, train_dataloader, val_dataloader, optimizer, loss_function, epochs, include_features=True)"
   ]
  },
  {
   "cell_type": "code",
   "execution_count": 43,
   "metadata": {},
   "outputs": [
    {
     "data": {
      "image/png": "[encoded data removed]",
      "text/plain": [
       "<Figure size 640x480 with 1 Axes>"
      ]
     },
     "metadata": {},
     "output_type": "display_data"
    }
   ],
   "source": [
    "plot_accuracies(log_regr_val_accuracies_with_features)"
   ]
  },
  {
   "attachments": {},
   "cell_type": "markdown",
   "metadata": {},
   "source": [
    "#### SVM"
   ]
  },
  {
   "cell_type": "code",
   "execution_count": 44,
   "metadata": {},
   "outputs": [],
   "source": [
    "class Binary_SVM(nn.Module):\n",
    "    def __init__(self, n_features):\n",
    "        super(Binary_SVM, self).__init__()\n",
    "        self.linear = nn.Linear(n_features, 2)\n",
    "    \n",
    "    def forward(self, x):\n",
    "        out = self.linear(x)\n",
    "        return out"
   ]
  },
  {
   "cell_type": "code",
   "execution_count": 46,
   "metadata": {},
   "outputs": [
    {
     "name": "stdout",
     "output_type": "stream",
     "text": [
      "At epoch 0: loss = 0.492, and accuracy = 0.667\n",
      "At epoch 100: loss = 0.431, and accuracy = 0.741\n",
      "At epoch 200: loss = 0.388, and accuracy = 0.741\n",
      "At epoch 300: loss = 0.269, and accuracy = 0.741\n",
      "At epoch 400: loss = 0.331, and accuracy = 0.741\n"
     ]
    }
   ],
   "source": [
    "max_features=2000\n",
    "svm_model = Binary_SVM(max_features)\n",
    "epochs=500\n",
    "lr = 1e-04\n",
    "l1_reg = 0.01\n",
    "\n",
    "optimizer = torch.optim.SGD(svm_model.parameters(), lr=lr, weight_decay=l1_reg)\n",
    "loss_function = nn.MultiMarginLoss()\n",
    "\n",
    "swm_val_accuracies = train_model(svm_model, train_dataloader, val_dataloader, optimizer, loss_function, epochs)"
   ]
  },
  {
   "cell_type": "code",
   "execution_count": null,
   "metadata": {},
   "outputs": [],
   "source": [
    "#implement k-fold validation??"
   ]
  },
  {
   "cell_type": "code",
   "execution_count": 47,
   "metadata": {},
   "outputs": [
    {
     "data": {
      "image/png": "[encoded data removed]",
      "text/plain": [
       "<Figure size 640x480 with 1 Axes>"
      ]
     },
     "metadata": {},
     "output_type": "display_data"
    }
   ],
   "source": [
    "plot_accuracies(swm_val_accuracies)"
   ]
  },
  {
   "attachments": {},
   "cell_type": "markdown",
   "metadata": {},
   "source": [
    "### Logistic Regression with only features (no text at all)"
   ]
  },
  {
   "cell_type": "code",
   "execution_count": 68,
   "metadata": {},
   "outputs": [],
   "source": [
    "class LogisticRegressionwithOnlyFeatures(torch.nn.Module):\n",
    "   def __init__(self, feature_dim, output_dim):\n",
    "      super(LogisticRegressionwithOnlyFeatures, self).__init__()\n",
    "      self.linear = torch.nn.Linear(feature_dim, output_dim)\n",
    "      \n",
    "   def forward(self, features):\n",
    "      z = self.linear(features)\n",
    "      y_hat = torch.sigmoid(z)\n",
    "      return y_hat"
   ]
  },
  {
   "cell_type": "code",
   "execution_count": 73,
   "metadata": {},
   "outputs": [
    {
     "name": "stdout",
     "output_type": "stream",
     "text": [
      "At epoch 0: loss = -0.571, and accuracy = 0.741\n",
      "At epoch 100: loss = -0.978, and accuracy = 0.741\n",
      "At epoch 200: loss = -0.973, and accuracy = 0.713\n",
      "At epoch 300: loss = -0.996, and accuracy = 0.704\n",
      "At epoch 400: loss = -0.995, and accuracy = 0.699\n"
     ]
    }
   ],
   "source": [
    "feature_dim = len(FEATURES)\n",
    "output_dim = 2 #probabilities for two output classes\n",
    "\n",
    "log_regr_model = LogisticRegressionwithOnlyFeatures(feature_dim, output_dim)\n",
    "epochs = 500\n",
    "lr = 1e-04\n",
    "optimizer = torch.optim.SGD(log_regr_model.parameters(), lr=lr)\n",
    "loss_function = nn.NLLLoss()\n",
    "\n",
    "log_regr_val_accuracies_with_ONLY_features = train_model(log_regr_model, train_dataloader, val_dataloader, optimizer, loss_function, epochs, include_features=\"only\")"
   ]
  },
  {
   "cell_type": "code",
   "execution_count": 74,
   "metadata": {},
   "outputs": [
    {
     "data": {
      "image/png": "[encoded data removed]",
      "text/plain": [
       "<Figure size 640x480 with 1 Axes>"
      ]
     },
     "metadata": {},
     "output_type": "display_data"
    }
   ],
   "source": [
    "plot_accuracies(log_regr_val_accuracies_with_ONLY_features)"
   ]
  }
 ],
 "metadata": {
  "kernelspec": {
   "display_name": ".venv",
   "language": "python",
   "name": "python3"
  },
  "language_info": {
   "codemirror_mode": {
    "name": "ipython",
    "version": 3
   },
   "file_extension": ".py",
   "mimetype": "text/x-python",
   "name": "python",
   "nbconvert_exporter": "python",
   "pygments_lexer": "ipython3",
   "version": "3.10.8"
  },
  "orig_nbformat": 4
 },
 "nbformat": 4,
 "nbformat_minor": 2
}
