{
 "cells": [
  {
   "cell_type": "code",
   "execution_count": 1,
   "metadata": {},
   "outputs": [],
   "source": [
    "import time\n",
    "import os\n",
    "import torch\n",
    "from torch import nn\n",
    "import torch.nn.functional as F\n",
    "\n",
    "from xgboost import XGBClassifier\n",
    "\n",
    "import matplotlib.pyplot as plt\n",
    "import pandas as pd\n",
    "import numpy as np\n",
    "%matplotlib inline"
   ]
  },
  {
   "cell_type": "code",
   "execution_count": 2,
   "metadata": {},
   "outputs": [
    {
     "data": {
      "text/plain": [
       "'/Users/claireboyd/courses/advanced_ml/dirty_comments_and_clean_plates'"
      ]
     },
     "execution_count": 2,
     "metadata": {},
     "output_type": "execute_result"
    }
   ],
   "source": [
    "#ONLY RUN THIS ONCE\n",
    "os.chdir(\"..\")\n",
    "os.path.abspath(os.curdir)"
   ]
  },
  {
   "attachments": {},
   "cell_type": "markdown",
   "metadata": {},
   "source": [
    "#### Custom DataLoaders\n",
    "Use classes and functions created in model_framework.py to frame out 4 different models using pytorch dataloaders..."
   ]
  },
  {
   "cell_type": "code",
   "execution_count": 3,
   "metadata": {},
   "outputs": [],
   "source": [
    "import model_framework"
   ]
  },
  {
   "cell_type": "code",
   "execution_count": 4,
   "metadata": {},
   "outputs": [],
   "source": [
    "FEATURES = [\n",
    "    \"stars\",\n",
    "    \"review_count\",\n",
    "    \"is_open\",\n",
    "    \"n_reviews\",\n",
    "    \"avg_rating\",\n",
    "    \"IR_regular\",\n",
    "    \"IR_follow_up\",\n",
    "    \"IR_other\",\n",
    "    \"Chester\",\n",
    "    \"Bucks\",\n",
    "    \"Philadelphia\",\n",
    "    \"Delaware\",\n",
    "    \"Montgomery\",\n",
    "    \"Berks\",\n",
    "]"
   ]
  },
  {
   "cell_type": "code",
   "execution_count": 5,
   "metadata": {},
   "outputs": [],
   "source": [
    "# train = pd.read_csv(\"data/phila/split/train.csv\")\n",
    "# subset for only features that are floats or ints\n",
    "# train = train.select_dtypes(include=[np.float64,np.int64])"
   ]
  },
  {
   "cell_type": "code",
   "execution_count": 6,
   "metadata": {},
   "outputs": [],
   "source": [
    "vectorizer = model_framework.Vectorizer\n",
    "max_features = 7000\n",
    "ngram_range = (1,1)\n",
    "\n",
    "train_dataset = model_framework.ReviewsDataset(\n",
    "    vectorizer=vectorizer,\n",
    "    df_filepath=\"data/phila/split/train.csv\",\n",
    "    features=FEATURES,\n",
    "    max_features=max_features,\n",
    "    ngram_range=ngram_range\n",
    ")\n",
    "val_dataset = model_framework.ReviewsDataset(\n",
    "    vectorizer=vectorizer,\n",
    "    df_filepath=\"data/phila/split/val.csv\",\n",
    "    features=FEATURES,\n",
    "    max_features=max_features,\n",
    "    ngram_range=ngram_range\n",
    ")\n",
    "test_dataset = model_framework.ReviewsDataset(\n",
    "    vectorizer=vectorizer,\n",
    "    df_filepath=\"data/phila/split/test.csv\",\n",
    "    features=FEATURES,\n",
    "    max_features=max_features,\n",
    "    ngram_range=ngram_range\n",
    ")"
   ]
  },
  {
   "cell_type": "code",
   "execution_count": 11,
   "metadata": {},
   "outputs": [],
   "source": [
    "# train_tokens = train_dataset.vectorizer.get_feature_names_out()\n",
    "# test_tokens = test_dataset.vectorizer.get_feature_names_out()\n",
    "# val_tokens = test_dataset.vectorizer.get_feature_names_out()"
   ]
  },
  {
   "cell_type": "code",
   "execution_count": 7,
   "metadata": {},
   "outputs": [
    {
     "data": {
      "text/plain": [
       "array(['aback', 'ability', 'able', 'abruptly', 'absence', 'absent',\n",
       "       'absolute', 'absolutely', 'absorb', 'absurd', 'abundance',\n",
       "       'abundant', 'abv', 'abysmal', 'ac', 'acac', 'academy', 'accept',\n",
       "       'acceptable', 'accepted', 'accepting', 'access', 'accessible',\n",
       "       'accident', 'accidentally', 'accidents', 'accommodate',\n",
       "       'accommodated', 'accommodating', 'accommodations', 'accompanied',\n",
       "       'accompaniment', 'accompany', 'accompanying', 'according',\n",
       "       'accordingly', 'account', 'accurate', 'accurately', 'accused',\n",
       "       'acid', 'acidic', 'acidity', 'acknowledge', 'acknowledged',\n",
       "       'acknowledgement', 'acknowledging', 'acme', 'acne', 'acoustics',\n",
       "       'act', 'acted', 'acting', 'action', 'active', 'activity', 'acts',\n",
       "       'actual', 'actually', 'ad', 'adam', 'adapt', 'add', 'added',\n",
       "       'addicted', 'addicting', 'addictive', 'adding', 'addition',\n",
       "       'additional', 'additionally', 'additions', 'address', 'addressed',\n",
       "       'adds', 'adequate', 'adjust', 'adjusted', 'adjustments',\n",
       "       'admirable', 'admit', 'admittedly', 'adobo', 'adorable', 'adorned',\n",
       "       'adult', 'adults', 'advance', 'advantage', 'adventure',\n",
       "       'adventuring', 'adventurous', 'advertise', 'advertised',\n",
       "       'advertising', 'advice', 'advise', 'advised', 'advisor',\n",
       "       'aesthetic'], dtype=object)"
      ]
     },
     "execution_count": 7,
     "metadata": {},
     "output_type": "execute_result"
    }
   ],
   "source": [
    "train_dataset.vectorizer.get_feature_names_out()[:100]"
   ]
  },
  {
   "attachments": {},
   "cell_type": "markdown",
   "metadata": {},
   "source": [
    "#### Experimenting with WeightedRandomSampler"
   ]
  },
  {
   "cell_type": "code",
   "execution_count": 44,
   "metadata": {},
   "outputs": [],
   "source": [
    "def get_sampler(dataset):\n",
    "    # https://towardsdatascience.com/demystifying-pytorchs-weightedrandomsampler-by-example-a68aceccb452\n",
    "    class_counts = dataset.labels.value_counts()\n",
    "    sample_weights = [1/class_counts[i] for i in dataset.labels.values]\n",
    "    sampler = torch.utils.data.WeightedRandomSampler(weights=sample_weights, num_samples=len(train_dataset), replacement=True)\n",
    "    return sampler"
   ]
  },
  {
   "cell_type": "code",
   "execution_count": 39,
   "metadata": {},
   "outputs": [
    {
     "data": {
      "text/plain": [
       "y\n",
       "0    1381\n",
       "1     373\n",
       "Name: count, dtype: int64"
      ]
     },
     "execution_count": 39,
     "metadata": {},
     "output_type": "execute_result"
    }
   ],
   "source": [
    "#imbalance of training dataset\n",
    "class_counts = train_dataset.labels.value_counts()\n",
    "class_counts"
   ]
  },
  {
   "cell_type": "code",
   "execution_count": 45,
   "metadata": {},
   "outputs": [],
   "source": [
    "train_sampler = get_sampler(train_dataset)\n",
    "# val_sampler = get_sampler(val_dataset)\n",
    "# test_sampler = get_sampler(test_dataset)"
   ]
  },
  {
   "attachments": {},
   "cell_type": "markdown",
   "metadata": {},
   "source": [
    "#### Model Testing"
   ]
  },
  {
   "cell_type": "code",
   "execution_count": 47,
   "metadata": {},
   "outputs": [],
   "source": [
    "# wrap with any params here: https://pytorch.org/docs/stable/data.html#torch.utils.data.DataLoader\n",
    "BATCH_SIZE = 32\n",
    "\n",
    "train_dataloader = torch.utils.data.DataLoader(train_dataset,batch_size=BATCH_SIZE,sampler=train_sampler)\n",
    "val_dataloader = torch.utils.data.DataLoader(val_dataset,batch_size=BATCH_SIZE,shuffle=True)\n",
    "test_dataloader = torch.utils.data.DataLoader(test_dataset,batch_size=BATCH_SIZE,shuffle=True)"
   ]
  },
  {
   "cell_type": "code",
   "execution_count": 48,
   "metadata": {},
   "outputs": [
    {
     "data": {
      "text/plain": [
       "{'text': tensor([[0., 0., 0.,  ..., 0., 0., 0.],\n",
       "         [0., 0., 0.,  ..., 0., 0., 0.],\n",
       "         [0., 0., 0.,  ..., 0., 0., 0.],\n",
       "         ...,\n",
       "         [0., 0., 0.,  ..., 0., 0., 0.],\n",
       "         [0., 0., 0.,  ..., 0., 0., 0.],\n",
       "         [0., 0., 0.,  ..., 0., 0., 0.]]),\n",
       " 'labels': tensor([1, 1, 0, 0, 1, 1, 0, 0, 0, 1, 1, 0, 0, 1, 0, 0, 0, 1, 1, 1, 0, 1, 0, 0,\n",
       "         1, 1, 1, 1, 1, 1, 1, 1]),\n",
       " 'features': tensor([[  2.5000,  26.0000,   1.0000,   4.0000,   2.5000,   1.0000,   0.0000,\n",
       "            0.0000,   1.0000,   0.0000,   0.0000,   0.0000,   0.0000,   0.0000],\n",
       "         [  4.5000,  23.0000,   1.0000,   2.0000,   4.5000,   1.0000,   0.0000,\n",
       "            0.0000,   1.0000,   0.0000,   0.0000,   0.0000,   0.0000,   0.0000],\n",
       "         [  4.5000,  15.0000,   1.0000,   5.0000,   5.0000,   1.0000,   0.0000,\n",
       "            0.0000,   0.0000,   1.0000,   0.0000,   0.0000,   0.0000,   0.0000],\n",
       "         [  5.0000,   9.0000,   1.0000,   3.0000,   5.0000,   1.0000,   0.0000,\n",
       "            0.0000,   0.0000,   1.0000,   0.0000,   0.0000,   0.0000,   0.0000],\n",
       "         [  1.5000,  32.0000,   1.0000,   2.0000,   2.0000,   1.0000,   0.0000,\n",
       "            0.0000,   1.0000,   0.0000,   0.0000,   0.0000,   0.0000,   0.0000],\n",
       "         [  2.5000,  26.0000,   1.0000,   4.0000,   2.5000,   1.0000,   0.0000,\n",
       "            0.0000,   1.0000,   0.0000,   0.0000,   0.0000,   0.0000,   0.0000],\n",
       "         [  4.0000, 501.0000,   1.0000,  63.0000,   3.8730,   1.0000,   0.0000,\n",
       "            0.0000,   0.0000,   0.0000,   1.0000,   0.0000,   0.0000,   0.0000],\n",
       "         [  3.5000, 411.0000,   0.0000,   7.0000,   3.1429,   0.0000,   0.0000,\n",
       "            0.0000,   0.0000,   0.0000,   0.0000,   1.0000,   0.0000,   0.0000],\n",
       "         [  4.0000,  49.0000,   0.0000,   4.0000,   5.0000,   1.0000,   0.0000,\n",
       "            0.0000,   1.0000,   0.0000,   0.0000,   0.0000,   0.0000,   0.0000],\n",
       "         [  4.0000,  12.0000,   1.0000,   1.0000,   5.0000,   1.0000,   0.0000,\n",
       "            0.0000,   1.0000,   0.0000,   0.0000,   0.0000,   0.0000,   0.0000],\n",
       "         [  3.0000,  19.0000,   0.0000,   7.0000,   2.7143,   1.0000,   0.0000,\n",
       "            0.0000,   1.0000,   0.0000,   0.0000,   0.0000,   0.0000,   0.0000],\n",
       "         [  3.5000,  40.0000,   1.0000,   5.0000,   3.8000,   0.0000,   0.0000,\n",
       "            0.0000,   1.0000,   0.0000,   0.0000,   0.0000,   0.0000,   0.0000],\n",
       "         [  3.0000, 149.0000,   1.0000,  19.0000,   3.2105,   1.0000,   0.0000,\n",
       "            0.0000,   1.0000,   0.0000,   0.0000,   0.0000,   0.0000,   0.0000],\n",
       "         [  3.5000,  68.0000,   1.0000,   7.0000,   3.8571,   1.0000,   0.0000,\n",
       "            0.0000,   1.0000,   0.0000,   0.0000,   0.0000,   0.0000,   0.0000],\n",
       "         [  2.0000,  16.0000,   1.0000,   1.0000,   1.0000,   0.0000,   0.0000,\n",
       "            0.0000,   1.0000,   0.0000,   0.0000,   0.0000,   0.0000,   0.0000],\n",
       "         [  4.0000,  68.0000,   1.0000,   6.0000,   4.5000,   1.0000,   0.0000,\n",
       "            0.0000,   1.0000,   0.0000,   0.0000,   0.0000,   0.0000,   0.0000],\n",
       "         [  4.5000,   8.0000,   1.0000,   1.0000,   4.0000,   1.0000,   0.0000,\n",
       "            0.0000,   1.0000,   0.0000,   0.0000,   0.0000,   0.0000,   0.0000],\n",
       "         [  4.0000, 208.0000,   1.0000,   3.0000,   3.0000,   1.0000,   0.0000,\n",
       "            0.0000,   1.0000,   0.0000,   0.0000,   0.0000,   0.0000,   0.0000],\n",
       "         [  2.5000,  35.0000,   1.0000,   1.0000,   3.0000,   1.0000,   0.0000,\n",
       "            0.0000,   1.0000,   0.0000,   0.0000,   0.0000,   0.0000,   0.0000],\n",
       "         [  3.5000,  10.0000,   0.0000,   5.0000,   4.6000,   1.0000,   0.0000,\n",
       "            0.0000,   1.0000,   0.0000,   0.0000,   0.0000,   0.0000,   0.0000],\n",
       "         [  3.5000,  90.0000,   1.0000,  13.0000,   3.6923,   0.0000,   0.0000,\n",
       "            0.0000,   1.0000,   0.0000,   0.0000,   0.0000,   0.0000,   0.0000],\n",
       "         [  4.0000, 182.0000,   1.0000,  28.0000,   3.7143,   1.0000,   0.0000,\n",
       "            0.0000,   1.0000,   0.0000,   0.0000,   0.0000,   0.0000,   0.0000],\n",
       "         [  4.0000,  81.0000,   1.0000,  12.0000,   4.1667,   1.0000,   0.0000,\n",
       "            0.0000,   1.0000,   0.0000,   0.0000,   0.0000,   0.0000,   0.0000],\n",
       "         [  4.0000,  13.0000,   1.0000,   1.0000,   4.0000,   0.0000,   0.0000,\n",
       "            0.0000,   0.0000,   0.0000,   0.0000,   0.0000,   1.0000,   0.0000],\n",
       "         [  4.5000, 141.0000,   1.0000,  16.0000,   4.6250,   1.0000,   0.0000,\n",
       "            0.0000,   1.0000,   0.0000,   0.0000,   0.0000,   0.0000,   0.0000],\n",
       "         [  4.5000,  51.0000,   1.0000,   4.0000,   4.2500,   1.0000,   0.0000,\n",
       "            0.0000,   1.0000,   0.0000,   0.0000,   0.0000,   0.0000,   0.0000],\n",
       "         [  4.5000,  34.0000,   1.0000,  10.0000,   4.9000,   1.0000,   0.0000,\n",
       "            0.0000,   1.0000,   0.0000,   0.0000,   0.0000,   0.0000,   0.0000],\n",
       "         [  4.0000, 200.0000,   1.0000,  19.0000,   4.0526,   1.0000,   0.0000,\n",
       "            0.0000,   1.0000,   0.0000,   0.0000,   0.0000,   0.0000,   0.0000],\n",
       "         [  4.0000,  38.0000,   1.0000,   2.0000,   4.5000,   0.0000,   0.0000,\n",
       "            0.0000,   1.0000,   0.0000,   0.0000,   0.0000,   0.0000,   0.0000],\n",
       "         [  3.5000,  16.0000,   1.0000,   2.0000,   3.0000,   0.0000,   0.0000,\n",
       "            0.0000,   1.0000,   0.0000,   0.0000,   0.0000,   0.0000,   0.0000],\n",
       "         [  2.0000,   7.0000,   1.0000,   1.0000,   4.0000,   0.0000,   0.0000,\n",
       "            0.0000,   1.0000,   0.0000,   0.0000,   0.0000,   0.0000,   0.0000],\n",
       "         [  4.0000,  67.0000,   1.0000,   8.0000,   3.3750,   1.0000,   0.0000,\n",
       "            0.0000,   1.0000,   0.0000,   0.0000,   0.0000,   0.0000,   0.0000]])}"
      ]
     },
     "execution_count": 48,
     "metadata": {},
     "output_type": "execute_result"
    }
   ],
   "source": [
    "example = next(iter(train_dataloader))\n",
    "example"
   ]
  },
  {
   "cell_type": "code",
   "execution_count": 49,
   "metadata": {},
   "outputs": [],
   "source": [
    "def get_accuracy(val_dataloader, model, include_features=False):\n",
    "    model.eval()\n",
    "    \n",
    "    with torch.no_grad():\n",
    "        n_correct = 0\n",
    "        n_examples = 0\n",
    "        for data in val_dataloader:\n",
    "            # get predicted probabilities, and labels with highest probability\n",
    "            if include_features:\n",
    "                predicted_labels = model(data['text'], data['features'])\n",
    "            else:\n",
    "                predicted_labels = model(data['text'])\n",
    "\n",
    "            #compute argmax\n",
    "            _, preds = torch.max(predicted_labels, 1)\n",
    "            # _, labels = torch.max(data['labels'], 1)\n",
    "\n",
    "            batch_correct = (preds == data['labels']).sum().item()\n",
    "            n_correct += batch_correct\n",
    "            n_examples += len(data['labels'])\n",
    "    \n",
    "    # calculate average accuracy across all batches\n",
    "    average_accuracy = n_correct / n_examples\n",
    "    return average_accuracy"
   ]
  },
  {
   "cell_type": "code",
   "execution_count": 50,
   "metadata": {},
   "outputs": [],
   "source": [
    "def train_model(model, train_dataloader, val_dataloader, optimizer, loss_function, epochs, include_features=False):\n",
    " # Sets the module in training mode.\n",
    "    val_accuracies=[]\n",
    "\n",
    "    for n_epoch in range(epochs):\n",
    "\n",
    "        model.train()\n",
    "\n",
    "        for data in train_dataloader:\n",
    "            if include_features:\n",
    "                y_hat = model(data['text'], data['features'])\n",
    "            else:\n",
    "                y_hat = model(data['text'])\n",
    "\n",
    "            optimizer.zero_grad()\n",
    "            loss = loss_function(y_hat, data['labels'])\n",
    "            \n",
    "            optimizer.zero_grad()\n",
    "            loss.backward()\n",
    "            optimizer.step()\n",
    "            \n",
    "        val_accuracies.append(get_accuracy(val_dataloader, model, include_features))\n",
    "        \n",
    "        if n_epoch % 100 == 0:\n",
    "            print(f'At epoch {n_epoch} the loss is {loss:.3f}.')\n",
    "    return val_accuracies"
   ]
  },
  {
   "cell_type": "code",
   "execution_count": 51,
   "metadata": {},
   "outputs": [],
   "source": [
    "def plot_accuracies(val_accuracies):  \n",
    "    plt.plot(range(1, len(val_accuracies)+1), val_accuracies)"
   ]
  },
  {
   "attachments": {},
   "cell_type": "markdown",
   "metadata": {},
   "source": [
    "### Logistic Regression"
   ]
  },
  {
   "cell_type": "code",
   "execution_count": 52,
   "metadata": {},
   "outputs": [],
   "source": [
    "class LogisticRegression(torch.nn.Module):\n",
    "   def __init__(self, input_dim, output_dim):\n",
    "      super(LogisticRegression, self).__init__()\n",
    "      self.linear = torch.nn.Linear(input_dim, output_dim)\n",
    "   \n",
    "   def forward(self, x):\n",
    "      z = self.linear(x)\n",
    "      y_hat = torch.sigmoid(z)\n",
    "      return y_hat"
   ]
  },
  {
   "cell_type": "code",
   "execution_count": 61,
   "metadata": {},
   "outputs": [
    {
     "name": "stdout",
     "output_type": "stream",
     "text": [
      "At epoch 0 the loss is -0.502.\n",
      "At epoch 100 the loss is -0.670.\n",
      "At epoch 200 the loss is -0.784.\n",
      "At epoch 300 the loss is -0.844.\n"
     ]
    }
   ],
   "source": [
    "input_dim = 7000 #vocab size\n",
    "output_dim = 2 #probabilities for two output classes\n",
    "\n",
    "log_regr_model = LogisticRegression(input_dim, output_dim)\n",
    "epochs = 400\n",
    "lr = 1e-03\n",
    "optimizer = torch.optim.SGD(log_regr_model.parameters(), lr=lr)\n",
    "loss_function = nn.NLLLoss()\n",
    "\n",
    "log_regr_val_accuracies = train_model(log_regr_model, train_dataloader, val_dataloader, optimizer, loss_function, epochs)"
   ]
  },
  {
   "cell_type": "code",
   "execution_count": 62,
   "metadata": {},
   "outputs": [
    {
     "data": {
      "image/png": "[encoded data removed]",
      "text/plain": [
       "<Figure size 640x480 with 1 Axes>"
      ]
     },
     "metadata": {},
     "output_type": "display_data"
    }
   ],
   "source": [
    "plot_accuracies(log_regr_val_accuracies)"
   ]
  },
  {
   "cell_type": "code",
   "execution_count": 58,
   "metadata": {},
   "outputs": [],
   "source": [
    "class LogisticRegressionwithFeatures(torch.nn.Module):\n",
    "   def __init__(self, input_dim, feature_dim, output_dim):\n",
    "      super(LogisticRegressionwithFeatures, self).__init__()\n",
    "      self.linear = torch.nn.Linear(input_dim, 1)\n",
    "      self.feature_layer = torch.nn.Linear(feature_dim+1, output_dim)\n",
    "      \n",
    "   def forward(self, x, features):\n",
    "      z = self.linear(x)\n",
    "      z_features = torch.cat((z, features), 1)\n",
    "      z_prime = self.feature_layer(z_features)\n",
    "      y_hat = torch.sigmoid(z_prime)\n",
    "      return y_hat"
   ]
  },
  {
   "cell_type": "code",
   "execution_count": 59,
   "metadata": {},
   "outputs": [
    {
     "name": "stdout",
     "output_type": "stream",
     "text": [
      "At epoch 0 the loss is -0.468.\n",
      "At epoch 100 the loss is -0.926.\n",
      "At epoch 200 the loss is -0.978.\n",
      "At epoch 300 the loss is -0.995.\n",
      "At epoch 400 the loss is -0.992.\n"
     ]
    }
   ],
   "source": [
    "input_dim = 7000 #vocab size\n",
    "feature_dim = len(FEATURES)\n",
    "output_dim = 2 #probabilities for two output classes\n",
    "\n",
    "log_regr_model = LogisticRegressionwithFeatures(input_dim, feature_dim, output_dim)\n",
    "epochs = 500\n",
    "lr = 1e-04\n",
    "optimizer = torch.optim.SGD(log_regr_model.parameters(), lr=lr)\n",
    "loss_function = nn.NLLLoss()\n",
    "\n",
    "log_regr_val_accuracies_with_features = train_model(log_regr_model, train_dataloader, val_dataloader, optimizer, loss_function, epochs, include_features=True)"
   ]
  },
  {
   "cell_type": "code",
   "execution_count": 60,
   "metadata": {},
   "outputs": [
    {
     "data": {
      "image/png": "[encoded data removed]",
      "text/plain": [
       "<Figure size 640x480 with 1 Axes>"
      ]
     },
     "metadata": {},
     "output_type": "display_data"
    }
   ],
   "source": [
    "plot_accuracies(log_regr_val_accuracies_with_features)"
   ]
  },
  {
   "cell_type": "code",
   "execution_count": 59,
   "metadata": {},
   "outputs": [],
   "source": []
  },
  {
   "cell_type": "code",
   "execution_count": 103,
   "metadata": {},
   "outputs": [],
   "source": []
  },
  {
   "attachments": {},
   "cell_type": "markdown",
   "metadata": {},
   "source": [
    "#### SVM"
   ]
  },
  {
   "cell_type": "code",
   "execution_count": 63,
   "metadata": {},
   "outputs": [],
   "source": [
    "class Binary_SVM(nn.Module):\n",
    "    def __init__(self, n_features):\n",
    "        super(Binary_SVM, self).__init__()\n",
    "        self.linear = nn.Linear(n_features, 1)\n",
    "    \n",
    "    def forward(self, x):\n",
    "        out = self.linear(x)\n",
    "        return out"
   ]
  },
  {
   "cell_type": "code",
   "execution_count": 33,
   "metadata": {},
   "outputs": [
    {
     "name": "stdout",
     "output_type": "stream",
     "text": [
      "At epoch 0 the loss is 0.500.\n",
      "At epoch 100 the loss is 0.500.\n",
      "At epoch 200 the loss is 0.499.\n"
     ]
    }
   ],
   "source": [
    "max_features=7000\n",
    "svm_model = Binary_SVM(max_features)\n",
    "epochs=300\n",
    "lr = 1e-05\n",
    "l1_reg = 0.01\n",
    "\n",
    "optimizer = torch.optim.SGD(svm_model.parameters(), lr=lr, weight_decay=l1_reg)\n",
    "loss_function = nn.MultiMarginLoss()\n",
    "\n",
    "swm_val_accuracies = train_model(svm_model, train_dataloader, val_dataloader, optimizer, loss_function, epochs)"
   ]
  },
  {
   "cell_type": "code",
   "execution_count": 35,
   "metadata": {},
   "outputs": [
    {
     "data": {
      "image/png": "[encoded data removed]",
      "text/plain": [
       "<Figure size 640x480 with 1 Axes>"
      ]
     },
     "metadata": {},
     "output_type": "display_data"
    }
   ],
   "source": [
    "plot_accuracies(swm_val_accuracies)"
   ]
  },
  {
   "cell_type": "code",
   "execution_count": null,
   "metadata": {},
   "outputs": [],
   "source": []
  },
  {
   "attachments": {},
   "cell_type": "markdown",
   "metadata": {},
   "source": [
    "### XGBoost"
   ]
  }
 ],
 "metadata": {
  "kernelspec": {
   "display_name": ".venv",
   "language": "python",
   "name": "python3"
  },
  "language_info": {
   "codemirror_mode": {
    "name": "ipython",
    "version": 3
   },
   "file_extension": ".py",
   "mimetype": "text/x-python",
   "name": "python",
   "nbconvert_exporter": "python",
   "pygments_lexer": "ipython3",
   "version": "3.10.8"
  },
  "orig_nbformat": 4
 },
 "nbformat": 4,
 "nbformat_minor": 2
}
