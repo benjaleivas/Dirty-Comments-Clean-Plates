{
 "cells": [
  {
   "cell_type": "code",
   "execution_count": 1,
   "metadata": {},
   "outputs": [],
   "source": [
    "import time\n",
    "import os\n",
    "import torch\n",
    "from torch import nn\n",
    "import torch.nn.functional as F\n",
    "\n",
    "from xgboost import XGBClassifier\n",
    "\n",
    "import sklearn\n",
    "import matplotlib.pyplot as plt\n",
    "import pandas as pd\n",
    "import numpy as np\n",
    "%matplotlib inline"
   ]
  },
  {
   "cell_type": "code",
   "execution_count": 2,
   "metadata": {},
   "outputs": [
    {
     "data": {
      "text/plain": [
       "'/Users/claireboyd/courses/advanced_ml/dirty_comments_and_clean_plates'"
      ]
     },
     "execution_count": 2,
     "metadata": {},
     "output_type": "execute_result"
    }
   ],
   "source": [
    "#ONLY RUN THIS ONCE\n",
    "os.chdir(\"..\")\n",
    "os.path.abspath(os.curdir)"
   ]
  },
  {
   "cell_type": "code",
   "execution_count": 3,
   "metadata": {},
   "outputs": [],
   "source": [
    "import model_framework\n",
    "from sklearn.feature_extraction.text import TfidfVectorizer"
   ]
  },
  {
   "attachments": {},
   "cell_type": "markdown",
   "metadata": {},
   "source": [
    "#### Custom DataLoaders\n",
    "Use classes and functions created in model_framework.py to frame out 4 different models using pytorch dataloaders..."
   ]
  },
  {
   "cell_type": "code",
   "execution_count": 4,
   "metadata": {},
   "outputs": [],
   "source": [
    "FEATURES = [\n",
    "    \"stars\",\n",
    "    \"review_count\",\n",
    "    \"is_open\",\n",
    "    \"n_reviews\",\n",
    "    \"avg_rating\",\n",
    "    \"IR_regular\",\n",
    "    \"IR_follow_up\",\n",
    "    \"IR_other\",\n",
    "    \"Chester\",\n",
    "    \"Bucks\",\n",
    "    \"Philadelphia\",\n",
    "    \"Delaware\",\n",
    "    \"Montgomery\",\n",
    "    \"Berks\",\n",
    "    'Nightlife',\n",
    "    'Bars',\n",
    "    'Pizza',\n",
    "    'Italian',\n",
    "    'Sandwiches',\n",
    "    'Breakfast & Brunch',\n",
    "    'Cafes',\n",
    "    'Burgers',\n",
    "    'Delis',\n",
    "    'Caterers',\n",
    "    'Mexican',\n",
    "    'Desserts',\n",
    "    'Salad',\n",
    "    'Sports Bars',\n",
    "    'Pubs',\n",
    "    'Chicken Wings',\n",
    "    'Seafood',\n",
    "    'Beer',\n",
    "    'Wine & Spirits',\n",
    "    'Juice Bars & Smoothies',\n",
    "    'Mediterranean',\n",
    "    'Gastropubs',\n",
    "    'Diners',\n",
    "    'Steakhouses',\n",
    "    'Breweries',\n",
    "    'Donuts',\n",
    "    'Barbeque',\n",
    "    'Cheesesteaks',\n",
    "    'Middle Eastern',\n",
    "    'Wineries',\n",
    "    'Indian',\n",
    "    'Halal',\n",
    "    'Vegan',\n",
    "    'Vegetarian',\n",
    "    'Beer Bar',\n",
    "    'Soup',\n",
    "    'Sushi Bars'\n",
    "    ]"
   ]
  },
  {
   "cell_type": "code",
   "execution_count": 5,
   "metadata": {},
   "outputs": [],
   "source": [
    "max_features = 2000\n",
    "ngram_range = (1,2)\n",
    "\n",
    "#pick hyperparameters and metrics\n",
    "\n",
    "train_vectorizer = model_framework.Vectorizer(\n",
    "    max_features=max_features,\n",
    "    ngram_range=ngram_range, \n",
    "    stop_words=\"english\"\n",
    ")\n",
    "\n",
    "train_dataset = model_framework.ReviewsDataset(\n",
    "    vectorizer=train_vectorizer,\n",
    "    df_filepath=\"data/phila/split/train.csv\",\n",
    "    features=FEATURES\n",
    ")\n",
    "val_dataset = model_framework.ReviewsDataset(\n",
    "    vectorizer=train_vectorizer,\n",
    "    df_filepath=\"data/phila/split/val.csv\",\n",
    "    features=FEATURES\n",
    ")\n",
    "test_dataset = model_framework.ReviewsDataset(\n",
    "    vectorizer=train_vectorizer,\n",
    "    df_filepath=\"data/phila/split/test.csv\",\n",
    "    features=FEATURES\n",
    ")\n",
    "\n",
    "train_dataset_exploded = model_framework.ReviewsDataset(\n",
    "    vectorizer=train_vectorizer,\n",
    "    df_filepath=\"data/phila/split/train.csv\",\n",
    "    features=FEATURES,\n",
    "    expanded=True\n",
    ")\n",
    "val_dataset_exploded = model_framework.ReviewsDataset(\n",
    "    vectorizer=train_vectorizer,\n",
    "    df_filepath=\"data/phila/split/val.csv\",\n",
    "    features=FEATURES,\n",
    "    expanded=True\n",
    ")\n",
    "test_dataset_exploded = model_framework.ReviewsDataset(\n",
    "    vectorizer=train_vectorizer,\n",
    "    df_filepath=\"data/phila/split/test.csv\",\n",
    "    features=FEATURES,\n",
    "    expanded=True\n",
    ")"
   ]
  },
  {
   "cell_type": "code",
   "execution_count": 9,
   "metadata": {},
   "outputs": [
    {
     "data": {
      "text/plain": [
       "{'text': array([0.08994794, 0.        , 0.        , ..., 0.        , 0.        ,\n",
       "        0.        ]),\n",
       " 'labels': 0,\n",
       " 'features': array([3. , 5. , 1. , 2. , 2.5, 1. , 0. , 0. , 1. , 0. , 0. , 0. , 0. ,\n",
       "        0. , 0. , 0. , 0. , 0. , 1. , 0. , 0. , 0. , 0. , 0. , 0. , 0. ,\n",
       "        0. , 0. , 0. , 0. , 0. , 0. , 0. , 0. , 0. , 0. , 0. , 0. , 0. ,\n",
       "        0. , 0. , 0. , 0. , 0. , 0. , 0. , 0. , 0. , 0. , 0. , 0. ])}"
      ]
     },
     "execution_count": 9,
     "metadata": {},
     "output_type": "execute_result"
    }
   ],
   "source": [
    "next(iter(train_dataset))"
   ]
  },
  {
   "cell_type": "code",
   "execution_count": 10,
   "metadata": {},
   "outputs": [
    {
     "data": {
      "text/plain": [
       "array(['able', 'absolute', 'absolutely', 'absolutely delicious',\n",
       "       'accommodate', 'accommodating', 'accompanied', 'according',\n",
       "       'actual', 'actually', 'add', 'added', 'addition', 'additional',\n",
       "       'advertised', 'affordable', 'afternoon', 'aged', 'ago', 'ahead',\n",
       "       'air', 'airy', 'alla', 'allergies', 'allergy', 'almond', 'amazing',\n",
       "       'amazing food', 'amazing service', 'amazingly', 'ambiance',\n",
       "       'ambience', 'american', 'annoyed', 'answer', 'answered', 'anymore',\n",
       "       'anytime', 'apart', 'apologetic', 'apology', 'app', 'apparently',\n",
       "       'appears', 'appetizer', 'appetizers', 'apple', 'appreciate',\n",
       "       'appreciated', 'apps', 'area', 'area excited', 'area food',\n",
       "       'areas', 'aren', 'arrive', 'arrived', 'asian', 'ask', 'asked',\n",
       "       'asking', 'ate', 'atmosphere', 'atmosphere food', 'attached',\n",
       "       'attempt', 'attention', 'attentive', 'attentive service',\n",
       "       'attitude', 'authentic', 'available', 'average', 'avocado',\n",
       "       'avoid', 'aware', 'away', 'awesome', 'awful', 'awkward', 'backed',\n",
       "       'bacon', 'bad', 'bad experience', 'bag', 'baked', 'baked goods',\n",
       "       'bakery', 'baladi', 'banana', 'band', 'bank', 'bank bourbon',\n",
       "       'bar', 'bar area', 'bar food', 'barely', 'barista', 'baristas',\n",
       "       'bars'], dtype=object)"
      ]
     },
     "execution_count": 10,
     "metadata": {},
     "output_type": "execute_result"
    }
   ],
   "source": [
    "train_dataset.vectorizer.get_feature_names_out()[:100]"
   ]
  },
  {
   "attachments": {},
   "cell_type": "markdown",
   "metadata": {},
   "source": [
    "#### Experimenting with WeightedRandomSampler"
   ]
  },
  {
   "cell_type": "code",
   "execution_count": 8,
   "metadata": {},
   "outputs": [],
   "source": [
    "def get_sampler(dataset):\n",
    "    # https://towardsdatascience.com/demystifying-pytorchs-weightedrandomsampler-by-example-a68aceccb452\n",
    "    class_counts = dataset.labels.value_counts()\n",
    "    sample_weights = [1/class_counts[i] for i in dataset.labels.values]\n",
    "    sampler = torch.utils.data.WeightedRandomSampler(weights=sample_weights, num_samples=len(train_dataset), replacement=True)\n",
    "    return sampler"
   ]
  },
  {
   "cell_type": "code",
   "execution_count": 9,
   "metadata": {},
   "outputs": [],
   "source": [
    "train_sampler = get_sampler(train_dataset_exploded)\n",
    "val_sampler = get_sampler(val_dataset_exploded)\n",
    "test_sampler = get_sampler(test_dataset_exploded)"
   ]
  },
  {
   "attachments": {},
   "cell_type": "markdown",
   "metadata": {},
   "source": [
    "This made the model worse. Scraping."
   ]
  },
  {
   "attachments": {},
   "cell_type": "markdown",
   "metadata": {},
   "source": [
    "#### Model Testing"
   ]
  },
  {
   "cell_type": "code",
   "execution_count": 20,
   "metadata": {},
   "outputs": [],
   "source": [
    "# wrap with any params here: https://pytorch.org/docs/stable/data.html#torch.utils.data.DataLoader\n",
    "TRAIN_BATCH_SIZE = 16 #16, #8\n",
    "VAL_TEST_BATCH_SIZE = 8\n",
    "\n",
    "train_dataloader = torch.utils.data.DataLoader(train_dataset_exploded,batch_size=TRAIN_BATCH_SIZE, shuffle=True)\n",
    "val_dataloader = torch.utils.data.DataLoader(val_dataset_exploded,batch_size=VAL_TEST_BATCH_SIZE, shuffle=True)\n",
    "test_dataloader = torch.utils.data.DataLoader(test_dataset_exploded,batch_size=VAL_TEST_BATCH_SIZE, shuffle=True)"
   ]
  },
  {
   "cell_type": "code",
   "execution_count": 21,
   "metadata": {},
   "outputs": [],
   "source": [
    "def get_metrics(val_dataloader, model, include_features=False):\n",
    "    model.eval()\n",
    "\n",
    "    with torch.no_grad():\n",
    "        all_preds=[]\n",
    "        all_labels=[]\n",
    "\n",
    "        for data in val_dataloader:\n",
    "            # get predicted probabilities, and labels with highest probability\n",
    "            if include_features is True:\n",
    "                predicted_labels = model(data['text'], data['features'])\n",
    "            elif include_features == \"only\":\n",
    "                predicted_labels = model(data['features'])\n",
    "            else:\n",
    "                predicted_labels = model(data['text'])\n",
    "\n",
    "            #compute argmax\n",
    "            _, preds = torch.max(predicted_labels, 1)\n",
    "\n",
    "            all_preds.extend(preds)\n",
    "            all_labels.extend(data['labels'])\n",
    " \n",
    "    f1 = sklearn.metrics.f1_score(y_true=all_labels, y_pred=all_preds)\n",
    "    accuracy = sklearn.metrics.accuracy_score(y_true=all_labels, y_pred=all_preds)\n",
    "    recall = sklearn.metrics.recall_score(y_true=all_labels, y_pred=all_preds)\n",
    "    \n",
    "    return f1, accuracy, recall"
   ]
  },
  {
   "cell_type": "code",
   "execution_count": 22,
   "metadata": {},
   "outputs": [],
   "source": [
    "def train_model(model, train_dataloader, val_dataloader, optimizer, loss_function, epochs, include_features=False):\n",
    " # Sets the module in training mode.\n",
    "    val_f1s=[]\n",
    "    val_accuracies=[]\n",
    "    val_recalls=[]\n",
    "\n",
    "    for n_epoch in range(epochs):\n",
    "\n",
    "        model.train()\n",
    "\n",
    "        for data in train_dataloader:\n",
    "            if include_features is True:\n",
    "                y_hat = model(data['text'], data['features'])\n",
    "            elif include_features == \"only\":\n",
    "                y_hat = model(data['features'])\n",
    "            else:\n",
    "                y_hat = model(data['text'])\n",
    "\n",
    "            optimizer.zero_grad()\n",
    "            loss = loss_function(y_hat, data['labels'])\n",
    "            \n",
    "            optimizer.zero_grad()\n",
    "            loss.backward()\n",
    "            optimizer.step()\n",
    "            \n",
    "        f1, accuracy, recall = get_metrics(val_dataloader, model, include_features)\n",
    "        val_f1s.append(f1)\n",
    "        val_accuracies.append(accuracy)\n",
    "        val_recalls.append(recall)\n",
    "        \n",
    "        if n_epoch % 100 == 0:\n",
    "            print(f'At epoch {n_epoch}: loss = {loss:.3f}, and accuracy = {accuracy:.3f}')\n",
    "    return val_f1s, val_accuracies, val_recalls"
   ]
  },
  {
   "cell_type": "code",
   "execution_count": 23,
   "metadata": {},
   "outputs": [],
   "source": [
    "def plot_metrics(metrics):\n",
    "    f1s, accuracies, recalls = metrics\n",
    "    plt.plot(range(1, len(accuracies)+1), f1s, label='f1')\n",
    "    plt.plot(range(1, len(accuracies)+1), accuracies, label='accuracy')\n",
    "    plt.plot(range(1, len(accuracies)+1), recalls, label='recall')\n",
    "    plt.legend()\n",
    "\n",
    "    print(f\"Final values: f1 {f1s[-1]:.3f}, accuracy {accuracies[-1]:.3f}, recall {recalls[-1]:.3f}\")"
   ]
  },
  {
   "attachments": {},
   "cell_type": "markdown",
   "metadata": {},
   "source": [
    "### Logistic Regression (Neural Net)"
   ]
  },
  {
   "cell_type": "code",
   "execution_count": 24,
   "metadata": {},
   "outputs": [],
   "source": [
    "import warnings\n",
    "warnings.filterwarnings('always') "
   ]
  },
  {
   "cell_type": "code",
   "execution_count": 30,
   "metadata": {},
   "outputs": [],
   "source": [
    "class LogisticRegression(torch.nn.Module):\n",
    "   def __init__(self, input_dim, output_dim):\n",
    "      super(LogisticRegression, self).__init__()\n",
    "      self.linear = torch.nn.Linear(input_dim, output_dim)\n",
    "      self.nonlinearity = nn.Sigmoid()\n",
    "   \n",
    "   def forward(self, x):\n",
    "      z = self.linear(x)\n",
    "      #z_prime = self.linear_two(z)\n",
    "      y_hat = self.nonlinearity(z)\n",
    "      return y_hat"
   ]
  },
  {
   "cell_type": "code",
   "execution_count": 33,
   "metadata": {},
   "outputs": [
    {
     "name": "stdout",
     "output_type": "stream",
     "text": [
      "At epoch 0: loss = 0.695, and accuracy = 0.687\n"
     ]
    }
   ],
   "source": [
    "input_dim = 2000 #vocab size\n",
    "output_dim = 2 #probabilities for two output classes\n",
    "\n",
    "log_regr_model = LogisticRegression(input_dim, output_dim)\n",
    "epochs = 100\n",
    "lr = 1e-05\n",
    "optimizer = torch.optim.SGD(log_regr_model.parameters(), lr=lr)\n",
    "loss_function = nn.CrossEntropyLoss()\n",
    "\n",
    "log_regr_model_val_metrics = train_model(log_regr_model, train_dataloader, val_dataloader, optimizer, loss_function, epochs)"
   ]
  },
  {
   "cell_type": "code",
   "execution_count": 34,
   "metadata": {},
   "outputs": [
    {
     "name": "stdout",
     "output_type": "stream",
     "text": [
      "Final values: f1 0.000, accuracy 0.759, recall 0.000\n"
     ]
    },
    {
     "data": {
      "image/png": "[encoded data removed]",
      "text/plain": [
       "<Figure size 640x480 with 1 Axes>"
      ]
     },
     "metadata": {},
     "output_type": "display_data"
    }
   ],
   "source": [
    "plot_metrics(log_regr_model_val_metrics)"
   ]
  },
  {
   "cell_type": "code",
   "execution_count": 35,
   "metadata": {},
   "outputs": [],
   "source": [
    "class LogisticRegressionwithFeatures(torch.nn.Module):\n",
    "   def __init__(self, input_dim, feature_dim, output_dim):\n",
    "      super(LogisticRegressionwithFeatures, self).__init__()\n",
    "      self.linear = torch.nn.Linear(input_dim, 2)\n",
    "      self.sigmoid = nn.Sigmoid()\n",
    "      self.feature_layer = torch.nn.Linear(feature_dim+2, output_dim)\n",
    "      \n",
    "   def forward(self, x, features):\n",
    "      z = self.linear(x)\n",
    "      x_prime = self.sigmoid(z)\n",
    "      z_features = torch.cat((x_prime, features), 1)\n",
    "      z_prime = self.feature_layer(z_features)\n",
    "      y_hat = torch.sigmoid(z_prime)\n",
    "      return y_hat"
   ]
  },
  {
   "cell_type": "code",
   "execution_count": 36,
   "metadata": {},
   "outputs": [
    {
     "name": "stdout",
     "output_type": "stream",
     "text": [
      "At epoch 0: loss = -0.634, and accuracy = 0.756\n",
      "At epoch 100: loss = -0.997, and accuracy = 0.753\n"
     ]
    }
   ],
   "source": [
    "input_dim = 2000 #vocab size\n",
    "feature_dim = len(FEATURES)\n",
    "output_dim = 2 #probabilities for two output classes\n",
    "\n",
    "log_regr_model = LogisticRegressionwithFeatures(input_dim, feature_dim, output_dim)\n",
    "epochs = 200\n",
    "lr = 1e-05\n",
    "optimizer = torch.optim.SGD(log_regr_model.parameters(), lr=lr)\n",
    "loss_function = nn.NLLLoss()\n",
    "\n",
    "log_regr_val_accuracies_with_features = train_model(log_regr_model, train_dataloader, val_dataloader, optimizer, loss_function, epochs, include_features=True)"
   ]
  },
  {
   "cell_type": "code",
   "execution_count": 37,
   "metadata": {},
   "outputs": [
    {
     "name": "stdout",
     "output_type": "stream",
     "text": [
      "Final values: f1 0.016, accuracy 0.754, recall 0.008\n"
     ]
    },
    {
     "data": {
      "image/png": "[encoded data removed]",
      "text/plain": [
       "<Figure size 640x480 with 1 Axes>"
      ]
     },
     "metadata": {},
     "output_type": "display_data"
    }
   ],
   "source": [
    "plot_metrics(log_regr_val_accuracies_with_features)"
   ]
  },
  {
   "attachments": {},
   "cell_type": "markdown",
   "metadata": {},
   "source": [
    "#### SVM"
   ]
  },
  {
   "cell_type": "code",
   "execution_count": 38,
   "metadata": {},
   "outputs": [],
   "source": [
    "class SVM(nn.Module):\n",
    "    def __init__(self, n_features):\n",
    "        super(SVM, self).__init__()\n",
    "        self.linear = nn.Linear(n_features, 2)\n",
    "    \n",
    "    def forward(self, x):\n",
    "        out = self.linear(x)\n",
    "        return out"
   ]
  },
  {
   "cell_type": "code",
   "execution_count": 39,
   "metadata": {},
   "outputs": [
    {
     "name": "stdout",
     "output_type": "stream",
     "text": [
      "At epoch 0: loss = 0.486, and accuracy = 0.648\n"
     ]
    }
   ],
   "source": [
    "max_features=2000\n",
    "svm_model = SVM(max_features)\n",
    "epochs=100\n",
    "lr = 1e-05\n",
    "l1_reg = 0.01\n",
    "\n",
    "optimizer = torch.optim.SGD(svm_model.parameters(), lr=lr, weight_decay=l1_reg)\n",
    "loss_function = nn.MultiMarginLoss()\n",
    "\n",
    "swm_val_accuracies = train_model(svm_model, train_dataloader, val_dataloader, optimizer, loss_function, epochs)"
   ]
  },
  {
   "cell_type": "code",
   "execution_count": 40,
   "metadata": {},
   "outputs": [
    {
     "name": "stdout",
     "output_type": "stream",
     "text": [
      "Final values: f1 0.000, accuracy 0.759, recall 0.000\n"
     ]
    },
    {
     "data": {
      "image/png": "[encoded data removed]",
      "text/plain": [
       "<Figure size 640x480 with 1 Axes>"
      ]
     },
     "metadata": {},
     "output_type": "display_data"
    }
   ],
   "source": [
    "plot_metrics(swm_val_accuracies)"
   ]
  },
  {
   "attachments": {},
   "cell_type": "markdown",
   "metadata": {},
   "source": [
    "#### RNN"
   ]
  },
  {
   "cell_type": "code",
   "execution_count": null,
   "metadata": {},
   "outputs": [],
   "source": [
    "import torch.nn as nn\n",
    "\n",
    "class RNN(nn.Module):\n",
    "    def __init__(self, input_size, hidden_size, output_size):\n",
    "        super(RNN, self).__init__()\n",
    "\n",
    "        self.hidden_size = hidden_size\n",
    "\n",
    "        self.i2h = nn.Linear(input_size + hidden_size, hidden_size)\n",
    "        self.h2o = nn.Linear(hidden_size, output_size)\n",
    "        self.softmax = nn.LogSoftmax(dim=1)\n",
    "\n",
    "    def forward(self, input, hidden):\n",
    "        combined = torch.cat((input, hidden), 1)\n",
    "        hidden = self.i2h(combined)\n",
    "        output = self.h2o(hidden)\n",
    "        output = self.softmax(output)\n",
    "        return output, hidden\n",
    "\n",
    "    def initHidden(self):\n",
    "        return torch.zeros(1, self.hidden_size)"
   ]
  },
  {
   "cell_type": "code",
   "execution_count": null,
   "metadata": {},
   "outputs": [],
   "source": [
    "n_words = 2000\n",
    "n_hidden = 10\n",
    "n_categories = 2\n",
    "\n",
    "rnn_model = RNN(n_words, n_hidden, n_categories)\n",
    "epochs = 500\n",
    "lr = 1e-04\n",
    "optimizer = torch.optim.SGD(log_regr_model.parameters(), lr=lr)\n",
    "loss_function = nn.NLLLoss()\n",
    "\n",
    "# need to add the hidden layer to carry the context over from each batch\n",
    "# https://pytorch.org/tutorials/intermediate/char_rnn_classification_tutorial.html\n",
    "rnn_val_accuracies = train_model(rnn_model, train_dataloader, val_dataloader, optimizer, loss_function, epochs)"
   ]
  },
  {
   "cell_type": "code",
   "execution_count": 146,
   "metadata": {},
   "outputs": [
    {
     "data": {
      "text/plain": [
       "(16897, 34)"
      ]
     },
     "execution_count": 146,
     "metadata": {},
     "output_type": "execute_result"
    }
   ],
   "source": [
    "from ast import literal_eval\n",
    "\n",
    "inspections = pd.read_csv(\"data/phila/labeled_inspections_with_reviews.csv\")\n",
    "\n",
    "inspections['reviews'] = inspections['reviews'].apply(literal_eval)\n",
    "inspections['reviews'][0]\n",
    "\n",
    "inspections.explode(\"reviews\").shape"
   ]
  }
 ],
 "metadata": {
  "kernelspec": {
   "display_name": ".venv",
   "language": "python",
   "name": "python3"
  },
  "language_info": {
   "codemirror_mode": {
    "name": "ipython",
    "version": 3
   },
   "file_extension": ".py",
   "mimetype": "text/x-python",
   "name": "python",
   "nbconvert_exporter": "python",
   "pygments_lexer": "ipython3",
   "version": "3.10.8"
  },
  "orig_nbformat": 4
 },
 "nbformat": 4,
 "nbformat_minor": 2
}
