{
 "cells": [
  {
   "cell_type": "code",
   "execution_count": 1,
   "metadata": {},
   "outputs": [],
   "source": [
    "import time\n",
    "import os\n",
    "import torch\n",
    "from torch import nn\n",
    "import torch.nn.functional as F\n",
    "\n",
    "from xgboost import XGBClassifier\n",
    "\n",
    "import matplotlib.pyplot as plt\n",
    "import pandas as pd\n",
    "import numpy as np\n",
    "%matplotlib inline"
   ]
  },
  {
   "cell_type": "code",
   "execution_count": 2,
   "metadata": {},
   "outputs": [
    {
     "data": {
      "text/plain": [
       "'/Users/claireboyd/courses/advanced_ml/dirty_comments_and_clean_plates'"
      ]
     },
     "execution_count": 2,
     "metadata": {},
     "output_type": "execute_result"
    }
   ],
   "source": [
    "#ONLY RUN THIS ONCE\n",
    "os.chdir(\"..\")\n",
    "os.path.abspath(os.curdir)"
   ]
  },
  {
   "attachments": {},
   "cell_type": "markdown",
   "metadata": {},
   "source": [
    "#### Custom DataLoaders\n",
    "Use classes and functions created in model_framework.py to frame out 4 different models using pytorch dataloaders..."
   ]
  },
  {
   "cell_type": "code",
   "execution_count": 3,
   "metadata": {},
   "outputs": [],
   "source": [
    "import model_framework"
   ]
  },
  {
   "cell_type": "code",
   "execution_count": 4,
   "metadata": {},
   "outputs": [
    {
     "name": "stdout",
     "output_type": "stream",
     "text": [
      "['stars', 'review_count', 'is_open', 'n_reviews', 'avg_rating', 'IR_regular', 'IR_follow_up', 'IR_other', 'Chester', 'Bucks', 'Philadelphia', 'Delaware', 'Montgomery', 'Berks', 'Nightlife', 'Bars', 'Pizza', 'Italian', 'Sandwiches', 'Breakfast & Brunch', 'Cafes', 'Burgers', 'Delis', 'Caterers', 'Mexican', 'Desserts', 'Salad', 'Sports Bars', 'Pubs', 'Chicken Wings', 'Seafood', 'Beer', 'Wine & Spirits', 'Juice Bars & Smoothies', 'Mediterranean', 'Gastropubs', 'Diners', 'Steakhouses', 'Breweries', 'Donuts', 'Barbeque', 'Cheesesteaks', 'Middle Eastern', 'Wineries', 'Indian', 'Halal', 'Vegan', 'Vegetarian', 'Beer Bar', 'Soup', 'Sushi Bars']\n"
     ]
    }
   ],
   "source": [
    "train = pd.read_csv(\"data/phila/split/train.csv\")\n",
    "#subset for only features that are floats or ints\n",
    "train = train.select_dtypes(include=[np.float64,np.int64])\n",
    "ALL_FEATURES = list(train.columns)\n",
    "print(ALL_FEATURES)"
   ]
  },
  {
   "cell_type": "code",
   "execution_count": 5,
   "metadata": {},
   "outputs": [],
   "source": [
    "train_dataset = model_framework.ReviewsDataset(vectorizer=model_framework.Vectorizer,\n",
    "                              df_filepath=\"data/phila/split/train.csv\",\n",
    "                              features=ALL_FEATURES)\n",
    "val_dataset = model_framework.ReviewsDataset(vectorizer=model_framework.Vectorizer,\n",
    "                              df_filepath=\"data/phila/split/val.csv\",\n",
    "                              features=ALL_FEATURES)\n",
    "test_dataset = model_framework.ReviewsDataset(vectorizer=model_framework.Vectorizer,\n",
    "                              df_filepath=\"data/phila/split/test.csv\",\n",
    "                              features=ALL_FEATURES)"
   ]
  },
  {
   "cell_type": "code",
   "execution_count": 6,
   "metadata": {},
   "outputs": [
    {
     "data": {
      "text/plain": [
       "{'text': array([0., 0., 0., ..., 0., 0., 0.]),\n",
       " 'labels': 0,\n",
       " 'features': array([3. , 5. , 1. , 2. , 2.5, 1. , 0. , 0. , 1. , 0. , 0. , 0. , 0. ,\n",
       "        0. , 0. , 0. , 0. , 0. , 1. , 0. , 0. , 0. , 0. , 0. , 0. , 0. ,\n",
       "        0. , 0. , 0. , 0. , 0. , 0. , 0. , 0. , 0. , 0. , 0. , 0. , 0. ,\n",
       "        0. , 0. , 0. , 0. , 0. , 0. , 0. , 0. , 0. , 0. , 0. , 0. ])}"
      ]
     },
     "execution_count": 6,
     "metadata": {},
     "output_type": "execute_result"
    }
   ],
   "source": [
    "example = next(iter(train_dataset))\n",
    "example"
   ]
  },
  {
   "attachments": {},
   "cell_type": "markdown",
   "metadata": {},
   "source": [
    "#### Model Testing"
   ]
  },
  {
   "cell_type": "code",
   "execution_count": 7,
   "metadata": {},
   "outputs": [],
   "source": [
    "# wrap with any params here: https://pytorch.org/docs/stable/data.html#torch.utils.data.DataLoader\n",
    "BATCH_SIZE = 32\n",
    "\n",
    "train_dataloader = torch.utils.data.DataLoader(train_dataset,batch_size=BATCH_SIZE,shuffle=True)\n",
    "val_dataloader = torch.utils.data.DataLoader(val_dataset,batch_size=BATCH_SIZE,shuffle=True)\n",
    "test_dataloader = torch.utils.data.DataLoader(test_dataset,batch_size=BATCH_SIZE,shuffle=True)"
   ]
  },
  {
   "cell_type": "code",
   "execution_count": 8,
   "metadata": {},
   "outputs": [
    {
     "data": {
      "text/plain": [
       "{'text': tensor([[0.0000, 0.0000, 0.0000,  ..., 0.0000, 0.0000, 0.0000],\n",
       "         [0.0000, 0.0000, 0.0546,  ..., 0.0000, 0.0000, 0.0000],\n",
       "         [0.0000, 0.0000, 0.0000,  ..., 0.0000, 0.0000, 0.0000],\n",
       "         ...,\n",
       "         [0.0000, 0.0000, 0.0000,  ..., 0.0000, 0.0000, 0.0000],\n",
       "         [0.0000, 0.0000, 0.0000,  ..., 0.0000, 0.0000, 0.0000],\n",
       "         [0.0000, 0.0000, 0.0000,  ..., 0.0000, 0.0000, 0.0000]]),\n",
       " 'labels': tensor([0, 0, 0, 0, 0, 0, 0, 0, 1, 0, 0, 0, 0, 1, 0, 0, 0, 0, 0, 0, 0, 0, 0, 0,\n",
       "         0, 1, 0, 0, 1, 0, 0, 0]),\n",
       " 'features': tensor([[  4.0000,  81.0000,   1.0000,  ...,   0.0000,   0.0000,   0.0000],\n",
       "         [  3.0000, 149.0000,   1.0000,  ...,   0.0000,   0.0000,   0.0000],\n",
       "         [  2.5000,  34.0000,   1.0000,  ...,   0.0000,   0.0000,   0.0000],\n",
       "         ...,\n",
       "         [  4.0000,  11.0000,   1.0000,  ...,   0.0000,   0.0000,   0.0000],\n",
       "         [  2.0000,   6.0000,   1.0000,  ...,   0.0000,   0.0000,   0.0000],\n",
       "         [  4.5000,  17.0000,   1.0000,  ...,   0.0000,   0.0000,   0.0000]])}"
      ]
     },
     "execution_count": 8,
     "metadata": {},
     "output_type": "execute_result"
    }
   ],
   "source": [
    "example = next(iter(train_dataloader))\n",
    "example"
   ]
  },
  {
   "cell_type": "code",
   "execution_count": 9,
   "metadata": {},
   "outputs": [],
   "source": [
    "def get_accuracy(val_dataloader, model):\n",
    "    model.eval()\n",
    "    \n",
    "    with torch.no_grad():\n",
    "        n_correct = 0\n",
    "        n_examples = 0\n",
    "        for data in val_dataloader:\n",
    "            # get predicted probabilities, and labels with highest probability\n",
    "            predicted_labels = model(data['text'])\n",
    "            # print(predicted_labels)\n",
    "            # print(data['text'])\n",
    "            # count correct predictions & update counts\n",
    "            batch_correct = (predicted_labels == data['labels']).sum().item()\n",
    "            n_correct += batch_correct\n",
    "            n_examples += len(data['labels'])\n",
    "    \n",
    "    # calculate average accuracy across all batches\n",
    "    average_accuracy = n_correct / n_examples\n",
    "    return average_accuracy"
   ]
  },
  {
   "cell_type": "code",
   "execution_count": 10,
   "metadata": {},
   "outputs": [],
   "source": [
    "def train_model(model, train_dataloader, val_dataloader, optimizer, loss_function, epochs):\n",
    "    model.train() # Sets the module in training mode.\n",
    "    val_accuracies=[]\n",
    "    \n",
    "    for n_epoch in range(epochs):\n",
    "        for data in train_dataloader:\n",
    "            optimizer.zero_grad()\n",
    "            y_hat = model(data['text'])\n",
    "            loss = loss_function(y_hat, data['labels'])\n",
    "            loss.backward()\n",
    "            optimizer.step()\n",
    "        val_accuracies.append(get_accuracy(val_dataloader, model))\n",
    "        \n",
    "        if n_epoch % 100 == 0:\n",
    "            print(f'At epoch {n_epoch} the loss is {loss:.3f}.')\n",
    "    return val_accuracies"
   ]
  },
  {
   "cell_type": "code",
   "execution_count": 11,
   "metadata": {},
   "outputs": [],
   "source": [
    "def plot_accuracies(val_accuracies):  \n",
    "    plt.plot(range(1, len(val_accuracies)+1), val_accuracies)"
   ]
  },
  {
   "attachments": {},
   "cell_type": "markdown",
   "metadata": {},
   "source": [
    "#### SVM"
   ]
  },
  {
   "cell_type": "code",
   "execution_count": 12,
   "metadata": {},
   "outputs": [],
   "source": [
    "class Binary_SVM(nn.Module):\n",
    "    def __init__(self, n_features):\n",
    "        super(Binary_SVM, self).__init__()\n",
    "        self.linear = nn.Linear(n_features, 1)\n",
    "        self.nonlinearity = nn.Sigmoid()\n",
    "    \n",
    "    def forward(self, x):\n",
    "        out = self.linear(x)\n",
    "        #NOTABLY NO NON-LINEAR LAYER?\n",
    "        out = self.nonlinearity(out)\n",
    "        out = out.squeeze()\n",
    "        return out"
   ]
  },
  {
   "cell_type": "code",
   "execution_count": 14,
   "metadata": {},
   "outputs": [
    {
     "name": "stdout",
     "output_type": "stream",
     "text": [
      "At epoch 0 the loss is -0.534.\n",
      "At epoch 100 the loss is -0.981.\n",
      "At epoch 200 the loss is -0.991.\n"
     ]
    }
   ],
   "source": [
    "max_features=7000\n",
    "svm_model = Binary_SVM(max_features)\n",
    "epochs=300\n",
    "lr = 0.01\n",
    "optimizer = torch.optim.SGD(svm_model.parameters(), lr=lr)\n",
    "loss_function = torch.nn.NLLLoss()\n",
    "\n",
    "swm_val_accuracies = train_model(svm_model, train_dataloader, val_dataloader, optimizer, loss_function, epochs)"
   ]
  },
  {
   "cell_type": "code",
   "execution_count": 15,
   "metadata": {},
   "outputs": [
    {
     "data": {
      "image/png": "[encoded data removed]",
      "text/plain": [
       "<Figure size 640x480 with 1 Axes>"
      ]
     },
     "metadata": {},
     "output_type": "display_data"
    }
   ],
   "source": [
    "# why is this happening? lol\n",
    "plot_accuracies(swm_val_accuracies)"
   ]
  },
  {
   "attachments": {},
   "cell_type": "markdown",
   "metadata": {},
   "source": [
    "### Logistic Regression"
   ]
  },
  {
   "cell_type": "code",
   "execution_count": 16,
   "metadata": {},
   "outputs": [],
   "source": [
    "class LogisticRegression(torch.nn.Module):    \n",
    "    def __init__(self, n_inputs, n_outputs):\n",
    "        super(LogisticRegression, self).__init__()\n",
    "        self.linear = torch.nn.Linear(n_inputs, n_outputs)\n",
    "        self.nonlinearity = nn.Sigmoid()\n",
    "\n",
    "    def forward(self, x):\n",
    "        y_pred = self.nonlinearity(self.linear(x))\n",
    "        return y_pred"
   ]
  },
  {
   "cell_type": "code",
   "execution_count": 17,
   "metadata": {},
   "outputs": [
    {
     "ename": "RuntimeError",
     "evalue": "The size of tensor a (32) must match the size of tensor b (24) at non-singleton dimension 1",
     "output_type": "error",
     "traceback": [
      "\u001b[0;31m---------------------------------------------------------------------------\u001b[0m",
      "\u001b[0;31mRuntimeError\u001b[0m                              Traceback (most recent call last)",
      "Cell \u001b[0;32mIn[17], line 11\u001b[0m\n\u001b[1;32m      8\u001b[0m optimizer \u001b[39m=\u001b[39m torch\u001b[39m.\u001b[39moptim\u001b[39m.\u001b[39mSGD(log_regr_model\u001b[39m.\u001b[39mparameters(), lr\u001b[39m=\u001b[39mlr)\n\u001b[1;32m      9\u001b[0m loss_function \u001b[39m=\u001b[39m torch\u001b[39m.\u001b[39mnn\u001b[39m.\u001b[39mCrossEntropyLoss()\n\u001b[0;32m---> 11\u001b[0m swm_val_accuracies \u001b[39m=\u001b[39m train_model(log_regr_model, train_dataloader, val_dataloader, optimizer, loss_function, epochs)\n",
      "Cell \u001b[0;32mIn[10], line 12\u001b[0m, in \u001b[0;36mtrain_model\u001b[0;34m(model, train_dataloader, val_dataloader, optimizer, loss_function, epochs)\u001b[0m\n\u001b[1;32m     10\u001b[0m     loss\u001b[39m.\u001b[39mbackward()\n\u001b[1;32m     11\u001b[0m     optimizer\u001b[39m.\u001b[39mstep()\n\u001b[0;32m---> 12\u001b[0m val_accuracies\u001b[39m.\u001b[39mappend(get_accuracy(val_dataloader, model))\n\u001b[1;32m     14\u001b[0m \u001b[39mif\u001b[39;00m n_epoch \u001b[39m%\u001b[39m \u001b[39m100\u001b[39m \u001b[39m==\u001b[39m \u001b[39m0\u001b[39m:\n\u001b[1;32m     15\u001b[0m     \u001b[39mprint\u001b[39m(\u001b[39mf\u001b[39m\u001b[39m'\u001b[39m\u001b[39mAt epoch \u001b[39m\u001b[39m{\u001b[39;00mn_epoch\u001b[39m}\u001b[39;00m\u001b[39m the loss is \u001b[39m\u001b[39m{\u001b[39;00mloss\u001b[39m:\u001b[39;00m\u001b[39m.3f\u001b[39m\u001b[39m}\u001b[39;00m\u001b[39m.\u001b[39m\u001b[39m'\u001b[39m)\n",
      "Cell \u001b[0;32mIn[9], line 13\u001b[0m, in \u001b[0;36mget_accuracy\u001b[0;34m(val_dataloader, model)\u001b[0m\n\u001b[1;32m      9\u001b[0m predicted_labels \u001b[39m=\u001b[39m model(data[\u001b[39m'\u001b[39m\u001b[39mtext\u001b[39m\u001b[39m'\u001b[39m])\n\u001b[1;32m     10\u001b[0m \u001b[39m# print(predicted_labels)\u001b[39;00m\n\u001b[1;32m     11\u001b[0m \u001b[39m# print(data['text'])\u001b[39;00m\n\u001b[1;32m     12\u001b[0m \u001b[39m# count correct predictions & update counts\u001b[39;00m\n\u001b[0;32m---> 13\u001b[0m batch_correct \u001b[39m=\u001b[39m (predicted_labels \u001b[39m==\u001b[39;49m data[\u001b[39m'\u001b[39;49m\u001b[39mlabels\u001b[39;49m\u001b[39m'\u001b[39;49m])\u001b[39m.\u001b[39msum()\u001b[39m.\u001b[39mitem()\n\u001b[1;32m     14\u001b[0m n_correct \u001b[39m+\u001b[39m\u001b[39m=\u001b[39m batch_correct\n\u001b[1;32m     15\u001b[0m n_examples \u001b[39m+\u001b[39m\u001b[39m=\u001b[39m \u001b[39mlen\u001b[39m(data[\u001b[39m'\u001b[39m\u001b[39mlabels\u001b[39m\u001b[39m'\u001b[39m])\n",
      "\u001b[0;31mRuntimeError\u001b[0m: The size of tensor a (32) must match the size of tensor b (24) at non-singleton dimension 1"
     ]
    }
   ],
   "source": [
    "# ADD THE RIGHT DIMENSIONS HERE?\n",
    "n_inputs = 7000\n",
    "n_outputs = 32\n",
    "\n",
    "log_regr_model = LogisticRegression(n_inputs, n_outputs)\n",
    "epochs=300\n",
    "lr = 0.01\n",
    "optimizer = torch.optim.SGD(log_regr_model.parameters(), lr=lr)\n",
    "loss_function = torch.nn.CrossEntropyLoss()\n",
    "\n",
    "swm_val_accuracies = train_model(log_regr_model, train_dataloader, val_dataloader, optimizer, loss_function, epochs)"
   ]
  },
  {
   "attachments": {},
   "cell_type": "markdown",
   "metadata": {},
   "source": [
    "### XGBoost"
   ]
  },
  {
   "cell_type": "code",
   "execution_count": null,
   "metadata": {},
   "outputs": [],
   "source": []
  }
 ],
 "metadata": {
  "kernelspec": {
   "display_name": "Python 3.9.13 ('.venv': poetry)",
   "language": "python",
   "name": "python3"
  },
  "language_info": {
   "codemirror_mode": {
    "name": "ipython",
    "version": 3
   },
   "file_extension": ".py",
   "mimetype": "text/x-python",
   "name": "python",
   "nbconvert_exporter": "python",
   "pygments_lexer": "ipython3",
   "version": "3.9.13"
  },
  "orig_nbformat": 4,
  "vscode": {
   "interpreter": {
    "hash": "85ea4b3f8f8bbee1e23da4c155a93a1e9f6833b5217ca791a452f768bdc9cb7b"
   }
  }
 },
 "nbformat": 4,
 "nbformat_minor": 2
}
