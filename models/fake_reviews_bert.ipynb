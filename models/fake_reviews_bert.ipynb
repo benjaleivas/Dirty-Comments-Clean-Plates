{
 "cells": [
  {
   "cell_type": "code",
   "execution_count": null,
   "metadata": {},
   "outputs": [],
   "source": [
    "from dataloaders import BERTReviewData\n",
    "from transformers import DistilBertTokenizer\n",
    "from torch.utils.data import DataLoader\n",
    "from shared_models import TextBERT\n",
    "import pandas as pd\n",
    "import torch\n",
    "from sklearn import metrics"
   ]
  },
  {
   "cell_type": "code",
   "execution_count": null,
   "metadata": {},
   "outputs": [],
   "source": [
    "MAX_TOKENS = 512\n",
    "TRAIN_BATCH_SIZE = 16\n",
    "VALID_BATCH_SIZE = 8\n",
    "EPOCHS = 4\n",
    "LEARNING_RATE = 1e-05"
   ]
  },
  {
   "cell_type": "code",
   "execution_count": null,
   "metadata": {},
   "outputs": [],
   "source": [
    "from torch import cuda\n",
    "device = 'cuda' if cuda.is_available() else 'cpu'"
   ]
  },
  {
   "cell_type": "code",
   "execution_count": null,
   "metadata": {},
   "outputs": [],
   "source": [
    "# import review data\n",
    "train_data = pd.read_csv('../data/yelp/yelp_verified_slim.csv')\n",
    "val_data = pd.read_csv('../data/yelp/yelp_verified_slim.csv') # update these!!\n",
    "test_data = pd.read_csv('../data/yelp/yelp_verified_slim.csv')\n",
    "\n",
    "##TODO:\n",
    "# Rename labels column\n",
    "# Rename text column\n",
    "\n",
    "label_dict = {0: \"GPT\", 1 : \"Human\"}\n",
    "\n",
    "tokenizer = DistilBertTokenizer.from_pretrained('distilbert-base-uncased', truncation=True, do_lower_case=True)\n",
    "train_dataset = BERTReviewData(train_data, tokenizer=tokenizer, max_tokens=MAX_TOKENS, expanded=True, labels=label_dict)\n",
    "test_dataset = BERTReviewData(test_data, tokenizer=tokenizer, max_tokens=MAX_TOKENS, expanded=True, labels=label_dict)\n",
    "val_dataset = BERTReviewData(val_data, tokenizer=tokenizer, max_tokens=MAX_TOKENS, expanded=True, labels=label_dict)"
   ]
  },
  {
   "cell_type": "code",
   "execution_count": null,
   "metadata": {},
   "outputs": [],
   "source": [
    "#load dataloaders\n",
    "train_params = {'batch_size': TRAIN_BATCH_SIZE,\n",
    "                'shuffle': True,\n",
    "                }\n",
    "\n",
    "test_val_params = {'batch_size': VALID_BATCH_SIZE,\n",
    "                'shuffle': True,\n",
    "                }\n",
    "\n",
    "train_loader = DataLoader(train_dataset, **train_params)\n",
    "test_loader = DataLoader(test_dataset, **test_val_params)\n",
    "val_loader = DataLoader(val_dataset, **test_val_params)"
   ]
  },
  {
   "cell_type": "code",
   "execution_count": null,
   "metadata": {},
   "outputs": [],
   "source": [
    "model = TextBERT()\n",
    "model.to(device)\n",
    "loss_fn = torch.nn.BCELoss()\n",
    "\n",
    "optimizer = torch.optim.Adam(params= model.parameters(), lr=LEARNING_RATE)"
   ]
  },
  {
   "cell_type": "code",
   "execution_count": null,
   "metadata": {},
   "outputs": [],
   "source": [
    "## can also probably get moved to a py file\n",
    "def validate(data_loader):\n",
    "    \"\"\"\n",
    "    Evaluate model during trainging.\n",
    "    \"\"\"\n",
    "    model.eval()\n",
    "    fin_targets=[]\n",
    "    fin_outputs=[]\n",
    "\n",
    "    with torch.no_grad():\n",
    "\n",
    "        for _, data in enumerate(data_loader, 0):\n",
    "            ids = data['ids'].to(device, dtype = torch.long)\n",
    "            mask = data['mask'].to(device, dtype = torch.long)\n",
    "            targets = data['targets'].to(device, dtype = torch.float)\n",
    "            outputs = model(ids, mask)\n",
    "\n",
    "            #compute argmax\n",
    "            _, preds = torch.max(outputs, 1)\n",
    "            _, labels = torch.max(targets, 1)\n",
    "\n",
    "            fin_targets.extend(labels.cpu().numpy().tolist())\n",
    "            fin_outputs.extend(preds.cpu().detach().numpy().tolist())\n",
    "\n",
    "    return fin_outputs, fin_targets"
   ]
  },
  {
   "cell_type": "code",
   "execution_count": null,
   "metadata": {},
   "outputs": [],
   "source": [
    "## train\n",
    "# train the model\n",
    "train_results = {}\n",
    "\n",
    "for epoch in range(EPOCHS):\n",
    "    results = {}\n",
    "    losses = []\n",
    "    model.train()\n",
    "    for idx, data in enumerate(train_loader, 0):\n",
    "        ids = data['ids'].to(device, dtype = torch.long)\n",
    "        mask = data['mask'].to(device, dtype = torch.long)\n",
    "        targets = data['targets'].to(device, dtype = torch.float)\n",
    "\n",
    "        outputs = model(ids, mask)\n",
    "\n",
    "        optimizer.zero_grad()\n",
    "        loss = loss_fn(outputs, targets)\n",
    "        losses.append(loss.item())\n",
    "\n",
    "        if idx%100==0:\n",
    "            print(f'Epoch: {epoch}, Loss:  {loss.item()}')\n",
    "        \n",
    "        optimizer.zero_grad()\n",
    "        loss.backward()\n",
    "        optimizer.step()\n",
    "        \n",
    "    preds, targets = validate(val_loader)\n",
    "    \n",
    "    results['preds'] = preds\n",
    "    results['labels'] = targets\n",
    "    results['losses'] = losses\n",
    "    train_results[epoch] = results\n",
    "\n",
    "    # play with a softmax activation function in the classifier\n",
    "    accuracy = metrics.accuracy_score(targets, preds)\n",
    "    print(f\"Epoch {epoch}: Accuracy Score = {accuracy}\")"
   ]
  },
  {
   "cell_type": "code",
   "execution_count": null,
   "metadata": {},
   "outputs": [],
   "source": [
    "# test model\n",
    "test_results = {}\n",
    "preds, targets = validate(test_loader)\n",
    "\n",
    "accuracy = metrics.accuracy_score(targets, preds)\n",
    "print(f\"Validation Acc = {accuracy}\")\n",
    "\n",
    "test_results['preds'] = preds\n",
    "test_results['labels'] = targets"
   ]
  }
 ],
 "metadata": {
  "kernelspec": {
   "display_name": "Python 3.9.13 ('.venv': poetry)",
   "language": "python",
   "name": "python3"
  },
  "language_info": {
   "name": "python",
   "version": "3.9.13"
  },
  "orig_nbformat": 4,
  "vscode": {
   "interpreter": {
    "hash": "85ea4b3f8f8bbee1e23da4c155a93a1e9f6833b5217ca791a452f768bdc9cb7b"
   }
  }
 },
 "nbformat": 4,
 "nbformat_minor": 2
}
