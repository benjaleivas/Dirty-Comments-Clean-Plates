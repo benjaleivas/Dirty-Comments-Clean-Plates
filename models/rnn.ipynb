{
 "cells": [
  {
   "cell_type": "code",
   "execution_count": null,
   "metadata": {},
   "outputs": [],
   "source": [
    "import torch\n",
    "from torchtext.data import get_tokenizer\n",
    "from torchtext.vocab import build_vocab_from_iterator\n",
    "import torchtext.functional as tf\n",
    "from torch.utils.data import Dataset, DataLoader\n",
    "import torch.optim as optim\n",
    "import pandas as pd\n",
    "from torch.nn.utils.rnn import pad_sequence\n",
    "from torchtext.vocab import GloVe\n",
    "import re\n",
    "from ast import literal_eval\n",
    "from sklearn import metrics\n",
    "from dataloaders import FakeReviewData\n",
    "from shared_models import RNNLM"
   ]
  },
  {
   "cell_type": "code",
   "execution_count": null,
   "metadata": {},
   "outputs": [],
   "source": [
    "#training hyperparameters\n",
    "MAX_TOKENS = 150\n",
    "EMBEDDING_SIZE = 300\n",
    "TRAIN_BATCH_SIZE = 64\n",
    "VALID_BATCH_SIZE = 32\n",
    "EPOCHS = 10\n",
    "GRAD_CLIP = 1.\n",
    "LEARNING_RATE = 1e-05\n",
    "VECTOR_CACHE_DIR = '/Users/jackgibson/Documents/advanced_ml/how_the_bear_got_a_C/glove/'"
   ]
  },
  {
   "cell_type": "code",
   "execution_count": null,
   "metadata": {},
   "outputs": [],
   "source": [
    "from torch import cuda\n",
    "device = 'cuda' if cuda.is_available() else 'cpu'"
   ]
  },
  {
   "cell_type": "code",
   "execution_count": null,
   "metadata": {},
   "outputs": [],
   "source": [
    "review_df = pd.read_csv('../data/split/train.csv')\n",
    "val_df = pd.read_csv('../data/split/val.csv')\n",
    "test_df = pd.read_csv('../data/split/val.csv')\n",
    "review_df['reviews'] = review_df['reviews'].apply(literal_eval)\n",
    "val_df['reviews'] = val_df['reviews'].apply(literal_eval)\n",
    "test_df['reviews'] = test_df['reviews'].apply(literal_eval)\n",
    "\n",
    "\n",
    "# test classifying at reivew level then resturant level\n",
    "review_df = review_df.explode('reviews')\n",
    "review_df = review_df.reset_index().drop(columns=['index'])\n",
    "\n",
    "val_df = val_df.explode('reviews')\n",
    "val_df = val_df.reset_index().drop(columns=['index'])\n",
    "    \n",
    "review_df = review_df.rename(columns={'reviews' : 'text'})\n",
    "val_df = val_df.rename(columns={'reviews' : 'text'})\n",
    "\n",
    "review_df = review_df.rename(columns={'reviews': 'text', 'Overall Compliance': 'label'})\n",
    "test_df = test_df.rename(columns={'reviews': 'text', 'Overall Compliance': 'label'})\n",
    "val_df = val_df.rename(columns={'reviews': 'text', 'Overall Compliance': 'label'})"
   ]
  },
  {
   "cell_type": "code",
   "execution_count": null,
   "metadata": {},
   "outputs": [],
   "source": [
    "label_dict = {0: \"Yes\", 1 : \"No\"}\n",
    "glove = GloVe('6B', cache=VECTOR_CACHE_DIR)\n",
    "\n",
    "train_dataset = FakeReviewData(review_df, embedding=glove, max_tokens=MAX_TOKENS, labels=label_dict)\n",
    "test_dataset = FakeReviewData(test_df, embedding=glove, max_tokens=MAX_TOKENS, labels=label_dict)\n",
    "val_dataset = FakeReviewData(test_df, embedding=glove, max_tokens=MAX_TOKENS, labels=label_dict)"
   ]
  },
  {
   "cell_type": "code",
   "execution_count": null,
   "metadata": {},
   "outputs": [],
   "source": [
    "#load dataloaders\n",
    "train_params = {'batch_size': TRAIN_BATCH_SIZE,\n",
    "                'shuffle': True,\n",
    "                }\n",
    "\n",
    "test_params = {'batch_size': VALID_BATCH_SIZE,\n",
    "                'shuffle': True,\n",
    "                }\n",
    "\n",
    "training_loader = DataLoader(test_dataset, **train_params, drop_last=True)\n",
    "test_loader = DataLoader(test_dataset, **test_params, drop_last=True)\n",
    "val_loader = DataLoader(val_dataset, **test_params, drop_last=True)"
   ]
  },
  {
   "cell_type": "code",
   "execution_count": null,
   "metadata": {},
   "outputs": [],
   "source": [
    "def validate(model, data_loader):\n",
    "    \"\"\"\n",
    "    Evaluate model during trainging.\n",
    "    \"\"\"\n",
    "    model.eval()\n",
    "    fin_targets=[]\n",
    "    fin_outputs=[]\n",
    "\n",
    "    with torch.no_grad():\n",
    "\n",
    "        hidden = None\n",
    "        for _, data in enumerate(data_loader, 0):\n",
    "            text = data['text'].to(device, dtype = torch.float)\n",
    "            labels = data['label'].to(device, dtype = torch.float)\n",
    "        \n",
    "\n",
    "            outputs, hidden = model(text, hidden)\n",
    "\n",
    "            #compute argmax\n",
    "            _, preds = torch.max(outputs, 1)\n",
    "            _, labels = torch.max(labels, 1)\n",
    "\n",
    "            fin_targets.extend(labels.cpu().numpy().tolist())\n",
    "            fin_outputs.extend(preds.cpu().detach().numpy().tolist())\n",
    "\n",
    "    return fin_outputs, fin_targets"
   ]
  },
  {
   "cell_type": "code",
   "execution_count": null,
   "metadata": {},
   "outputs": [],
   "source": [
    "def repackage_hidden(h):\n",
    "    \"\"\"Wraps hidden states in new Tensors, to detach them from their history.\"\"\"\n",
    "    if h is None:\n",
    "        return None\n",
    "    elif isinstance(h, torch.Tensor):\n",
    "        return h.detach()\n",
    "    else:\n",
    "        return tuple(repackage_hidden(v) for v in h)"
   ]
  },
  {
   "cell_type": "code",
   "execution_count": null,
   "metadata": {},
   "outputs": [],
   "source": [
    "model = RNNLM(max_token=MAX_TOKENS, embedding_dim=EMBEDDING_SIZE, hidden_dim=256, num_layers=2, num_labels=2, dropout=0.5)\n",
    "model.to(device)\n",
    "\n",
    "optimizer = torch.optim.Adam(model.parameters(), lr=LEARNING_RATE)\n",
    "loss_fn = torch.nn.BCELoss()\n",
    "losses = []\n",
    "\n",
    "for epoch in range(EPOCHS):\n",
    "    model.train()\n",
    "    hidden = None\n",
    "    for idx, data in enumerate(training_loader):\n",
    "        labels = data['label'].to(device, dtype = torch.float)\n",
    "        text = data['text'].to(device, dtype = torch.float)\n",
    "\n",
    "        hidden = repackage_hidden(hidden)\n",
    "        model.zero_grad()\n",
    "\n",
    "        output, hidden = model(text, hidden)\n",
    "        \n",
    "        loss = loss_fn(output, labels)\n",
    "        losses.append(loss.item())\n",
    "        loss.backward()\n",
    "\n",
    "        torch.nn.utils.clip_grad_norm_(model.parameters(), GRAD_CLIP)\n",
    "        optimizer.step()\n",
    "\n",
    "        if idx % 1000 == 0:\n",
    "            print(\"epoch\", epoch, \"iter\", idx, \"loss\", loss.item())\n",
    "    \n",
    "    # evaluate at every step\n",
    "    preds, labels = validate(model, test_loader)\n",
    "    print(f'epoch {epoch}: accuracy {metrics.accuracy_score(labels, preds)}')"
   ]
  },
  {
   "cell_type": "code",
   "execution_count": null,
   "metadata": {},
   "outputs": [],
   "source": [
    "import matplotlib.pyplot as plt\n",
    "\n",
    "def plot_metrics(metrics):\n",
    "    f1s, accuracies, recalls = metrics\n",
    "    plt.plot(range(1, len(accuracies)+1), f1s, label='f1')\n",
    "    plt.plot(range(1, len(accuracies)+1), accuracies, label='accuracy')\n",
    "    plt.plot(range(1, len(accuracies)+1), recalls, label='recall')\n",
    "    plt.legend()\n",
    "\n",
    "    print(f\"Final values: f1 {f1s[-1]:.3f}, accuracy {accuracies[-1]:.3f}, recall {recalls[-1]:.3f}\")"
   ]
  }
 ],
 "metadata": {
  "kernelspec": {
   "display_name": "Python 3.9.13 ('.venv': poetry)",
   "language": "python",
   "name": "python3"
  },
  "language_info": {
   "name": "python",
   "version": "3.9.13"
  },
  "orig_nbformat": 4,
  "vscode": {
   "interpreter": {
    "hash": "85ea4b3f8f8bbee1e23da4c155a93a1e9f6833b5217ca791a452f768bdc9cb7b"
   }
  }
 },
 "nbformat": 4,
 "nbformat_minor": 2
}
