{
 "cells": [
  {
   "cell_type": "markdown",
   "metadata": {},
   "source": [
    "# Exploratory Data Analysis\n",
    "\n",
    "This notebook contains descriptive statistics regarding our collected data. First, we start by analyzing the variables in our dataset."
   ]
  },
  {
   "cell_type": "code",
   "execution_count": 6,
   "metadata": {},
   "outputs": [],
   "source": [
    "import os\n",
    "import ast\n",
    "import numpy as np\n",
    "import pandas as pd\n",
    "import matplotlib.pyplot as plt"
   ]
  },
  {
   "cell_type": "code",
   "execution_count": 9,
   "metadata": {},
   "outputs": [
    {
     "data": {
      "text/plain": [
       "'/Users/claireboyd/courses/advanced_ml/dirty_comments_and_clean_plates'"
      ]
     },
     "execution_count": 9,
     "metadata": {},
     "output_type": "execute_result"
    }
   ],
   "source": [
    "#ONLY RUN THIS ONCE\n",
    "os.chdir(\"..\")\n",
    "os.path.abspath(os.curdir)"
   ]
  },
  {
   "cell_type": "markdown",
   "metadata": {},
   "source": [
    "## 1. Descriptive Statistics"
   ]
  },
  {
   "cell_type": "code",
   "execution_count": 10,
   "metadata": {},
   "outputs": [
    {
     "data": {
      "text/html": [
       "<div>\n",
       "<style scoped>\n",
       "    .dataframe tbody tr th:only-of-type {\n",
       "        vertical-align: middle;\n",
       "    }\n",
       "\n",
       "    .dataframe tbody tr th {\n",
       "        vertical-align: top;\n",
       "    }\n",
       "\n",
       "    .dataframe thead th {\n",
       "        text-align: right;\n",
       "    }\n",
       "</style>\n",
       "<table border=\"1\" class=\"dataframe\">\n",
       "  <thead>\n",
       "    <tr style=\"text-align: right;\">\n",
       "      <th></th>\n",
       "      <th>Unnamed: 0</th>\n",
       "      <th>Organization Name</th>\n",
       "      <th>Active Indicator</th>\n",
       "      <th>Public Facility Name</th>\n",
       "      <th>Program Group Type</th>\n",
       "      <th>Address</th>\n",
       "      <th>City</th>\n",
       "      <th>County Name</th>\n",
       "      <th>Zip Code</th>\n",
       "      <th>State</th>\n",
       "      <th>...</th>\n",
       "      <th>is_open</th>\n",
       "      <th>attributes</th>\n",
       "      <th>categories</th>\n",
       "      <th>hours</th>\n",
       "      <th>prev_date</th>\n",
       "      <th>prev_date_with_nulls</th>\n",
       "      <th>reviews</th>\n",
       "      <th>ratings</th>\n",
       "      <th>n_reviews</th>\n",
       "      <th>avg_rating</th>\n",
       "    </tr>\n",
       "  </thead>\n",
       "  <tbody>\n",
       "    <tr>\n",
       "      <th>0</th>\n",
       "      <td>10735</td>\n",
       "      <td>Chester County Health Department</td>\n",
       "      <td>Yes</td>\n",
       "      <td>158 LICENSE, LLC</td>\n",
       "      <td>ChesterCountyFood</td>\n",
       "      <td>158 W GAY ST</td>\n",
       "      <td>West Chester</td>\n",
       "      <td>Chester</td>\n",
       "      <td>19380.0</td>\n",
       "      <td>PA</td>\n",
       "      <td>...</td>\n",
       "      <td>0.0</td>\n",
       "      <td>{'RestaurantsPriceRange2': '2', 'RestaurantsAt...</td>\n",
       "      <td>Restaurants, American (New)</td>\n",
       "      <td>{'Monday': '11:0-2:0', 'Tuesday': '11:0-2:0', ...</td>\n",
       "      <td>NaN</td>\n",
       "      <td>2018-03-25 00:00:00</td>\n",
       "      <td>[\"Our first visit here and probably won't be b...</td>\n",
       "      <td>[1.0, 3.0, 1.0, 5.0, 1.0, 5.0, 1.0, 2.0, 5.0, ...</td>\n",
       "      <td>11</td>\n",
       "      <td>2.454545</td>\n",
       "    </tr>\n",
       "    <tr>\n",
       "      <th>1</th>\n",
       "      <td>56848</td>\n",
       "      <td>PENNSYLVANIA DEPARTMENT OF AGRICULTURE</td>\n",
       "      <td>Yes</td>\n",
       "      <td>3 B'S LOUNGE</td>\n",
       "      <td>Food</td>\n",
       "      <td>309 S MAIN ST</td>\n",
       "      <td>ZELIENOPLE</td>\n",
       "      <td>Butler</td>\n",
       "      <td>16063.0</td>\n",
       "      <td>PA</td>\n",
       "      <td>...</td>\n",
       "      <td>1.0</td>\n",
       "      <td>{'RestaurantsGoodForGroups': 'True', 'Business...</td>\n",
       "      <td>American (Traditional), Bars, Nightlife, Sandw...</td>\n",
       "      <td>{'Monday': '11:30-0:0', 'Tuesday': '11:30-0:0'...</td>\n",
       "      <td>NaN</td>\n",
       "      <td>2017-05-21 00:00:00</td>\n",
       "      <td>['Stopped in for happy hour last night, first ...</td>\n",
       "      <td>[4.0, 5.0]</td>\n",
       "      <td>2</td>\n",
       "      <td>4.500000</td>\n",
       "    </tr>\n",
       "    <tr>\n",
       "      <th>2</th>\n",
       "      <td>72731</td>\n",
       "      <td>PENNSYLVANIA DEPARTMENT OF AGRICULTURE</td>\n",
       "      <td>Yes</td>\n",
       "      <td>3 B'S LOUNGE</td>\n",
       "      <td>Food</td>\n",
       "      <td>309 S MAIN ST</td>\n",
       "      <td>ZELIENOPLE</td>\n",
       "      <td>Butler</td>\n",
       "      <td>16063.0</td>\n",
       "      <td>PA</td>\n",
       "      <td>...</td>\n",
       "      <td>1.0</td>\n",
       "      <td>{'RestaurantsGoodForGroups': 'True', 'Business...</td>\n",
       "      <td>American (Traditional), Bars, Nightlife, Sandw...</td>\n",
       "      <td>{'Monday': '11:30-0:0', 'Tuesday': '11:30-0:0'...</td>\n",
       "      <td>2018-05-16 00:00:00</td>\n",
       "      <td>2018-05-16 00:00:00</td>\n",
       "      <td>['Six of us went here for an early Saturday lu...</td>\n",
       "      <td>[5.0, 1.0, 4.0, 5.0, 1.0, 5.0, 4.0]</td>\n",
       "      <td>7</td>\n",
       "      <td>3.571429</td>\n",
       "    </tr>\n",
       "    <tr>\n",
       "      <th>3</th>\n",
       "      <td>289</td>\n",
       "      <td>Chester County Health Department</td>\n",
       "      <td>Yes</td>\n",
       "      <td>30 MAIN</td>\n",
       "      <td>ChesterCountyFood</td>\n",
       "      <td>660 LANCASTER AVE</td>\n",
       "      <td>Berwyn</td>\n",
       "      <td>Chester</td>\n",
       "      <td>19312.0</td>\n",
       "      <td>PA</td>\n",
       "      <td>...</td>\n",
       "      <td>1.0</td>\n",
       "      <td>{'RestaurantsPriceRange2': '2', 'GoodForMeal':...</td>\n",
       "      <td>American (New), Bars, Venues &amp; Event Spaces, N...</td>\n",
       "      <td>{'Tuesday': '16:0-22:0', 'Wednesday': '16:0-22...</td>\n",
       "      <td>NaN</td>\n",
       "      <td>2017-05-08 00:00:00</td>\n",
       "      <td>[\"So I read all the reviews and was having sec...</td>\n",
       "      <td>[2.0, 5.0, 5.0, 3.0, 4.0, 2.0, 1.0, 1.0, 5.0, ...</td>\n",
       "      <td>11</td>\n",
       "      <td>3.363636</td>\n",
       "    </tr>\n",
       "    <tr>\n",
       "      <th>4</th>\n",
       "      <td>15080</td>\n",
       "      <td>Chester County Health Department</td>\n",
       "      <td>Yes</td>\n",
       "      <td>30 MAIN</td>\n",
       "      <td>ChesterCountyFood</td>\n",
       "      <td>660 LANCASTER AVE</td>\n",
       "      <td>Berwyn</td>\n",
       "      <td>Chester</td>\n",
       "      <td>19312.0</td>\n",
       "      <td>PA</td>\n",
       "      <td>...</td>\n",
       "      <td>1.0</td>\n",
       "      <td>{'RestaurantsPriceRange2': '2', 'GoodForMeal':...</td>\n",
       "      <td>American (New), Bars, Venues &amp; Event Spaces, N...</td>\n",
       "      <td>{'Tuesday': '16:0-22:0', 'Wednesday': '16:0-22...</td>\n",
       "      <td>2018-05-03 00:00:00</td>\n",
       "      <td>2018-05-03 00:00:00</td>\n",
       "      <td>['Ordered through Grub Hub, and the delivery c...</td>\n",
       "      <td>[1.0, 2.0, 5.0, 2.0, 1.0]</td>\n",
       "      <td>5</td>\n",
       "      <td>2.200000</td>\n",
       "    </tr>\n",
       "  </tbody>\n",
       "</table>\n",
       "<p>5 rows × 34 columns</p>\n",
       "</div>"
      ],
      "text/plain": [
       "   Unnamed: 0                       Organization Name Active Indicator  \\\n",
       "0       10735        Chester County Health Department              Yes   \n",
       "1       56848  PENNSYLVANIA DEPARTMENT OF AGRICULTURE              Yes   \n",
       "2       72731  PENNSYLVANIA DEPARTMENT OF AGRICULTURE              Yes   \n",
       "3         289        Chester County Health Department              Yes   \n",
       "4       15080        Chester County Health Department              Yes   \n",
       "\n",
       "  Public Facility Name Program Group Type            Address          City  \\\n",
       "0     158 LICENSE, LLC  ChesterCountyFood       158 W GAY ST  West Chester   \n",
       "1         3 B'S LOUNGE               Food      309 S MAIN ST    ZELIENOPLE   \n",
       "2         3 B'S LOUNGE               Food      309 S MAIN ST    ZELIENOPLE   \n",
       "3              30 MAIN  ChesterCountyFood  660 LANCASTER AVE        Berwyn   \n",
       "4              30 MAIN  ChesterCountyFood  660 LANCASTER AVE        Berwyn   \n",
       "\n",
       "  County Name  Zip Code State  ... is_open  \\\n",
       "0     Chester   19380.0    PA  ...     0.0   \n",
       "1      Butler   16063.0    PA  ...     1.0   \n",
       "2      Butler   16063.0    PA  ...     1.0   \n",
       "3     Chester   19312.0    PA  ...     1.0   \n",
       "4     Chester   19312.0    PA  ...     1.0   \n",
       "\n",
       "                                          attributes  \\\n",
       "0  {'RestaurantsPriceRange2': '2', 'RestaurantsAt...   \n",
       "1  {'RestaurantsGoodForGroups': 'True', 'Business...   \n",
       "2  {'RestaurantsGoodForGroups': 'True', 'Business...   \n",
       "3  {'RestaurantsPriceRange2': '2', 'GoodForMeal':...   \n",
       "4  {'RestaurantsPriceRange2': '2', 'GoodForMeal':...   \n",
       "\n",
       "                                          categories  \\\n",
       "0                        Restaurants, American (New)   \n",
       "1  American (Traditional), Bars, Nightlife, Sandw...   \n",
       "2  American (Traditional), Bars, Nightlife, Sandw...   \n",
       "3  American (New), Bars, Venues & Event Spaces, N...   \n",
       "4  American (New), Bars, Venues & Event Spaces, N...   \n",
       "\n",
       "                                               hours            prev_date  \\\n",
       "0  {'Monday': '11:0-2:0', 'Tuesday': '11:0-2:0', ...                  NaN   \n",
       "1  {'Monday': '11:30-0:0', 'Tuesday': '11:30-0:0'...                  NaN   \n",
       "2  {'Monday': '11:30-0:0', 'Tuesday': '11:30-0:0'...  2018-05-16 00:00:00   \n",
       "3  {'Tuesday': '16:0-22:0', 'Wednesday': '16:0-22...                  NaN   \n",
       "4  {'Tuesday': '16:0-22:0', 'Wednesday': '16:0-22...  2018-05-03 00:00:00   \n",
       "\n",
       "  prev_date_with_nulls                                            reviews  \\\n",
       "0  2018-03-25 00:00:00  [\"Our first visit here and probably won't be b...   \n",
       "1  2017-05-21 00:00:00  ['Stopped in for happy hour last night, first ...   \n",
       "2  2018-05-16 00:00:00  ['Six of us went here for an early Saturday lu...   \n",
       "3  2017-05-08 00:00:00  [\"So I read all the reviews and was having sec...   \n",
       "4  2018-05-03 00:00:00  ['Ordered through Grub Hub, and the delivery c...   \n",
       "\n",
       "                                             ratings n_reviews  avg_rating  \n",
       "0  [1.0, 3.0, 1.0, 5.0, 1.0, 5.0, 1.0, 2.0, 5.0, ...        11    2.454545  \n",
       "1                                         [4.0, 5.0]         2    4.500000  \n",
       "2                [5.0, 1.0, 4.0, 5.0, 1.0, 5.0, 4.0]         7    3.571429  \n",
       "3  [2.0, 5.0, 5.0, 3.0, 4.0, 2.0, 1.0, 1.0, 5.0, ...        11    3.363636  \n",
       "4                          [1.0, 2.0, 5.0, 2.0, 1.0]         5    2.200000  \n",
       "\n",
       "[5 rows x 34 columns]"
      ]
     },
     "execution_count": 10,
     "metadata": {},
     "output_type": "execute_result"
    }
   ],
   "source": [
    "# Overview\n",
    "with open('data/phila/labeled_inspections_with_reviews.csv', newline='') as csvfile:\n",
    "    data = pd.read_csv(csvfile, delimiter=',')\n",
    "data.head()"
   ]
  },
  {
   "cell_type": "markdown",
   "metadata": {},
   "source": [
    "### 1.1 Inspection Data\n",
    "\n",
    "In this section we look into inspection data from the city of Philadelphia."
   ]
  },
  {
   "cell_type": "code",
   "execution_count": 11,
   "metadata": {},
   "outputs": [],
   "source": [
    "# Filter data\n",
    "inspection_data = data[['Organization Name', 'Active Indicator', 'Public Facility Name', 'Program Group Type', 'Address', 'City', 'County Name', 'Zip Code', 'State', 'Inspection Date', 'Inspection Reason Type', 'Overall Compliance', 'Georeferenced Latitude and Longitude',]]"
   ]
  },
  {
   "cell_type": "code",
   "execution_count": 12,
   "metadata": {},
   "outputs": [
    {
     "name": "stdout",
     "output_type": "stream",
     "text": [
      "Health Inspection Jurisdiction (20):\n",
      " - Chester County Health Department;\n",
      " - Pennsylvania Department Of Agriculture;\n",
      " - Haverford Township;\n",
      " - Allentown City;\n",
      " - Emmaus Borough;\n",
      " - City Of Harrisburg;\n",
      " - Nanticoke City;\n",
      " - Bethlehem City;\n",
      " - City Of Easton Bureau Of Health;\n",
      " - Brookville Borough;\n",
      " - Jim Thorpe Borough;\n",
      " - Camp Hill Borough;\n",
      " - Brookhaven Borough;\n",
      " - Chambersburg Borough;\n",
      " - Lancaster City;\n",
      " - Greensburg City;\n",
      " - Northampton Borough;\n",
      " - City Of New Castle;\n",
      " - East Pennsboro Twp;\n",
      " - Bradford City;\n"
     ]
    }
   ],
   "source": [
    "# Jurisdictions\n",
    "num_organizations = len(inspection_data['Organization Name'].unique())\n",
    "print(f'Health Inspection Jurisdiction ({num_organizations}):')\n",
    "for org in list(inspection_data['Organization Name'].unique()):\n",
    "    print(' - '+org.title()+';')"
   ]
  },
  {
   "cell_type": "code",
   "execution_count": 13,
   "metadata": {},
   "outputs": [
    {
     "name": "stdout",
     "output_type": "stream",
     "text": [
      "Status of restaurant:\n",
      " - Active: 93.9%\n",
      " - Inactive: 6.1%\n"
     ]
    }
   ],
   "source": [
    "# Active indicator\n",
    "print('Status of restaurant:')\n",
    "for status in inspection_data['Active Indicator'].unique():\n",
    "    prop_status = inspection_data['Active Indicator'].value_counts().get(status, 0)/len(inspection_data['Active Indicator'])*100\n",
    "    if status == 'Yes':\n",
    "        print(f' - Active: {prop_status:.1f}%')\n",
    "    else:\n",
    "        print(f' - Inactive: {prop_status:.1f}%')"
   ]
  },
  {
   "cell_type": "code",
   "execution_count": 14,
   "metadata": {},
   "outputs": [
    {
     "name": "stdout",
     "output_type": "stream",
     "text": [
      "Inspected restaurants: 1057\n"
     ]
    }
   ],
   "source": [
    "# Public facility name\n",
    "print('Inspected restaurants:', len(inspection_data['Public Facility Name'].unique()))"
   ]
  },
  {
   "cell_type": "code",
   "execution_count": 15,
   "metadata": {},
   "outputs": [
    {
     "name": "stdout",
     "output_type": "stream",
     "text": [
      "Cities covered: 259\n",
      "Zip codes covered: 217\n",
      "Counties covered: 52\n"
     ]
    }
   ],
   "source": [
    "# Geographic metrics\n",
    "print('Cities covered:', len(inspection_data['City'].unique()))\n",
    "print('Zip codes covered:', len(inspection_data['Zip Code'].unique()))\n",
    "print('Counties covered:', len(inspection_data['County Name'].unique()))"
   ]
  },
  {
   "cell_type": "code",
   "execution_count": 17,
   "metadata": {},
   "outputs": [
    {
     "name": "stdout",
     "output_type": "stream",
     "text": [
      "Inspection Reasons:\n",
      " - Regular: 76.17%\n",
      " - Follow-up: 14.36%\n",
      " - Opening: 3.51%\n",
      " - Complaint: 3.19%\n",
      " - Change of Owner: 1.85%\n",
      " - Emergency Response: 0.46%\n",
      " - 2nd Follow Up: 0.28%\n",
      " - Type 2 Follow-up: 0.09%\n",
      " - Remodel: 0.05%\n",
      " - Food born Investigation: 0.05%\n"
     ]
    }
   ],
   "source": [
    "# Inspection Reason\n",
    "print('Inspection Reasons:')\n",
    "inspection_reasons = {}\n",
    "for reason in inspection_data['Inspection Reason Type'].unique():\n",
    "    prop_reason = inspection_data['Inspection Reason Type'].value_counts().get(reason, 0)/len(inspection_data['Inspection Reason Type'])*100\n",
    "    inspection_reasons[reason] = prop_reason\n",
    "while len(inspection_reasons)>0:\n",
    "    reason = max(inspection_reasons, key=inspection_reasons.get)\n",
    "    prop_reason = inspection_reasons.pop(reason)\n",
    "    print(f' - {reason}: {prop_reason:.2f}'+'%')"
   ]
  },
  {
   "cell_type": "code",
   "execution_count": 18,
   "metadata": {},
   "outputs": [
    {
     "name": "stdout",
     "output_type": "stream",
     "text": [
      "Overall Compliance:\n",
      " - Yes: 78.1%\n",
      " - No: 21.9%\n"
     ]
    }
   ],
   "source": [
    "# Overall Compliance\n",
    "print('Overall Compliance:')\n",
    "for status in inspection_data['Overall Compliance'].unique():\n",
    "    prop_status = inspection_data['Overall Compliance'].value_counts().get(status, 0)/len(inspection_data['Overall Compliance'])*100\n",
    "    print(f' - {status}: {prop_status:.1f}%')"
   ]
  },
  {
   "cell_type": "code",
   "execution_count": 19,
   "metadata": {},
   "outputs": [
    {
     "name": "stdout",
     "output_type": "stream",
     "text": [
      "Inspection Month\n",
      "January      225\n",
      "February     164\n",
      "March        190\n",
      "April        178\n",
      "May          201\n",
      "June         182\n",
      "July         148\n",
      "August       181\n",
      "September    159\n",
      "October      167\n",
      "November     171\n",
      "December     199\n",
      "Name: count, dtype: int64\n"
     ]
    }
   ],
   "source": [
    "# Inspection Date\n",
    "inspection_data_date = inspection_data.copy()\n",
    "month_order = ['January', 'February', 'March', 'April', 'May', 'June', 'July', 'August', 'September', 'October', 'November', 'December']\n",
    "inspection_data_date.loc[:, 'Inspection Month'] = pd.to_datetime(inspection_data_date['Inspection Date'])\n",
    "monthly_counts = inspection_data_date['Inspection Month'].dt.strftime('%B').value_counts().reindex(month_order)\n",
    "print(monthly_counts)"
   ]
  },
  {
   "cell_type": "code",
   "execution_count": 20,
   "metadata": {},
   "outputs": [
    {
     "data": {
      "image/png": "[encoded data removed]",
      "text/plain": [
       "<Figure size 1000x600 with 1 Axes>"
      ]
     },
     "metadata": {},
     "output_type": "display_data"
    }
   ],
   "source": [
    "# Data Wrangling\n",
    "inspection_data = inspection_data.copy()\n",
    "inspection_data['Inspection Date'] = pd.to_datetime(inspection_data_date['Inspection Date'])\n",
    "inspection_data['Inspection Month'] = inspection_data['Inspection Date'].dt.month\n",
    "inspection_data['Inspection Year'] = inspection_data['Inspection Date'].dt.year\n",
    "\n",
    "plot_data = inspection_data.groupby(['Inspection Year', 'Inspection Month']).size().unstack(fill_value=0)\n",
    "plot_data.reset_index(inplace=True)\n",
    "plot_data = plot_data.replace(0, None)\n",
    "\n",
    "# Plot Monthly Inspections per Year\n",
    "plt.figure(figsize=(10, 6))\n",
    "month_names = ['Jan', 'Feb', 'Mar', 'Apr', 'May', 'Jun', 'Jul', 'Aug', 'Sep', 'Oct', 'Nov', 'Dec']\n",
    "for year in plot_data['Inspection Year']:\n",
    "    plt.plot(month_names, plot_data[plot_data['Inspection Year'] == year].values[0][1:], label=str(year))\n",
    "plt.xlabel('Month')\n",
    "plt.ylabel('Number of Inspections')\n",
    "plt.title('Monthly Inspections per Year')\n",
    "plt.xticks()\n",
    "plt.legend(loc='lower right')\n",
    "plt.tight_layout()\n",
    "plt.show()"
   ]
  },
  {
   "cell_type": "markdown",
   "metadata": {},
   "source": [
    "### 1.2 Review Data"
   ]
  },
  {
   "cell_type": "code",
   "execution_count": 21,
   "metadata": {},
   "outputs": [
    {
     "data": {
      "text/plain": [
       "Index(['business_id', 'name', 'address', 'city', 'state', 'postal_code',\n",
       "       'latitude', 'longitude', 'stars', 'review_count', 'is_open',\n",
       "       'attributes', 'categories', 'hours', 'prev_date',\n",
       "       'prev_date_with_nulls', 'reviews', 'ratings', 'n_reviews',\n",
       "       'avg_rating'],\n",
       "      dtype='object')"
      ]
     },
     "execution_count": 21,
     "metadata": {},
     "output_type": "execute_result"
    }
   ],
   "source": [
    "# Filter data\n",
    "review_data = data[['business_id', 'name', 'address', 'city', 'state', 'postal_code', 'latitude', 'longitude','stars', 'review_count', 'is_open', 'attributes', 'categories', 'hours','prev_date', 'prev_date_with_nulls', 'reviews', 'ratings', 'n_reviews', 'avg_rating']]\n",
    "review_data.columns"
   ]
  },
  {
   "cell_type": "code",
   "execution_count": 22,
   "metadata": {},
   "outputs": [
    {
     "data": {
      "text/html": [
       "<div>\n",
       "<style scoped>\n",
       "    .dataframe tbody tr th:only-of-type {\n",
       "        vertical-align: middle;\n",
       "    }\n",
       "\n",
       "    .dataframe tbody tr th {\n",
       "        vertical-align: top;\n",
       "    }\n",
       "\n",
       "    .dataframe thead th {\n",
       "        text-align: right;\n",
       "    }\n",
       "</style>\n",
       "<table border=\"1\" class=\"dataframe\">\n",
       "  <thead>\n",
       "    <tr style=\"text-align: right;\">\n",
       "      <th></th>\n",
       "      <th>count</th>\n",
       "      <th>mean</th>\n",
       "      <th>std</th>\n",
       "      <th>min</th>\n",
       "      <th>25%</th>\n",
       "      <th>50%</th>\n",
       "      <th>75%</th>\n",
       "      <th>max</th>\n",
       "    </tr>\n",
       "  </thead>\n",
       "  <tbody>\n",
       "    <tr>\n",
       "      <th>stars</th>\n",
       "      <td>2165.0</td>\n",
       "      <td>3.625404</td>\n",
       "      <td>0.79238</td>\n",
       "      <td>1.0</td>\n",
       "      <td>3.0</td>\n",
       "      <td>3.5</td>\n",
       "      <td>4.0</td>\n",
       "      <td>5.0</td>\n",
       "    </tr>\n",
       "  </tbody>\n",
       "</table>\n",
       "</div>"
      ],
      "text/plain": [
       "        count      mean      std  min  25%  50%  75%  max\n",
       "stars  2165.0  3.625404  0.79238  1.0  3.0  3.5  4.0  5.0"
      ]
     },
     "execution_count": 22,
     "metadata": {},
     "output_type": "execute_result"
    }
   ],
   "source": [
    "# Restaurant Stars\n",
    "pd.DataFrame(review_data['stars']).describe().transpose()"
   ]
  },
  {
   "cell_type": "code",
   "execution_count": 23,
   "metadata": {},
   "outputs": [
    {
     "data": {
      "text/html": [
       "<div>\n",
       "<style scoped>\n",
       "    .dataframe tbody tr th:only-of-type {\n",
       "        vertical-align: middle;\n",
       "    }\n",
       "\n",
       "    .dataframe tbody tr th {\n",
       "        vertical-align: top;\n",
       "    }\n",
       "\n",
       "    .dataframe thead th {\n",
       "        text-align: right;\n",
       "    }\n",
       "</style>\n",
       "<table border=\"1\" class=\"dataframe\">\n",
       "  <thead>\n",
       "    <tr style=\"text-align: right;\">\n",
       "      <th></th>\n",
       "      <th>count</th>\n",
       "      <th>mean</th>\n",
       "      <th>std</th>\n",
       "      <th>min</th>\n",
       "      <th>25%</th>\n",
       "      <th>50%</th>\n",
       "      <th>75%</th>\n",
       "      <th>max</th>\n",
       "    </tr>\n",
       "  </thead>\n",
       "  <tbody>\n",
       "    <tr>\n",
       "      <th>0</th>\n",
       "      <td>16897</td>\n",
       "      <td>3.592533</td>\n",
       "      <td>0.678685</td>\n",
       "      <td>1.0</td>\n",
       "      <td>3.155196</td>\n",
       "      <td>3.738106</td>\n",
       "      <td>4.159815</td>\n",
       "      <td>5.0</td>\n",
       "    </tr>\n",
       "  </tbody>\n",
       "</table>\n",
       "</div>"
      ],
      "text/plain": [
       "   count      mean       std  min       25%       50%       75%  max\n",
       "0  16897  3.592533  0.678685  1.0  3.155196  3.738106  4.159815  5.0"
      ]
     },
     "execution_count": 23,
     "metadata": {},
     "output_type": "execute_result"
    }
   ],
   "source": [
    "# Restaurant Ratings\n",
    "review_data = review_data.copy()\n",
    "review_data['ratings'] = review_data['ratings'].apply(ast.literal_eval)\n",
    "review_data['ratings'] = review_data['ratings'].apply(lambda x: [float(elem) for elem in x])\n",
    "\n",
    "ratings = pd.DataFrame(review_data['ratings'])\n",
    "stats_table = pd.DataFrame({\n",
    "    'mean': review_data['ratings'].apply(np.mean),\n",
    "    'std': review_data['ratings'].apply(np.std),\n",
    "    'min': review_data['ratings'].apply(np.min),\n",
    "    '25%': review_data['ratings'].apply(lambda x: np.percentile(x, 25)),\n",
    "    '50%': review_data['ratings'].apply(lambda x: np.percentile(x, 50)),\n",
    "    '75%': review_data['ratings'].apply(lambda x: np.percentile(x, 75)),\n",
    "    'max': review_data['ratings'].apply(np.max),\n",
    "    'count': review_data['ratings'].apply(len)\n",
    "})\n",
    "overall_stats = pd.DataFrame({\n",
    "    'count': stats_table['count'].sum(),\n",
    "    'mean': stats_table['mean'].mean(),\n",
    "    'std': stats_table['std'].std(),\n",
    "    'min': stats_table['min'].min(),\n",
    "    '25%': stats_table['25%'].mean(),\n",
    "    '50%': stats_table['50%'].mean(),\n",
    "    '75%': stats_table['75%'].mean(),\n",
    "    'max': stats_table['max'].max(),\n",
    "}, index=[0])\n",
    "\n",
    "overall_stats"
   ]
  },
  {
   "cell_type": "code",
   "execution_count": 56,
   "metadata": {},
   "outputs": [
    {
     "data": {
      "text/html": [
       "<div>\n",
       "<style scoped>\n",
       "    .dataframe tbody tr th:only-of-type {\n",
       "        vertical-align: middle;\n",
       "    }\n",
       "\n",
       "    .dataframe tbody tr th {\n",
       "        vertical-align: top;\n",
       "    }\n",
       "\n",
       "    .dataframe thead th {\n",
       "        text-align: right;\n",
       "    }\n",
       "</style>\n",
       "<table border=\"1\" class=\"dataframe\">\n",
       "  <thead>\n",
       "    <tr style=\"text-align: right;\">\n",
       "      <th></th>\n",
       "      <th>Unnamed: 0</th>\n",
       "      <th>Organization Name</th>\n",
       "      <th>Active Indicator</th>\n",
       "      <th>Public Facility Name</th>\n",
       "      <th>Program Group Type</th>\n",
       "      <th>Address</th>\n",
       "      <th>City</th>\n",
       "      <th>County Name</th>\n",
       "      <th>Zip Code</th>\n",
       "      <th>State</th>\n",
       "      <th>...</th>\n",
       "      <th>is_open</th>\n",
       "      <th>attributes</th>\n",
       "      <th>categories</th>\n",
       "      <th>hours</th>\n",
       "      <th>prev_date</th>\n",
       "      <th>prev_date_with_nulls</th>\n",
       "      <th>reviews</th>\n",
       "      <th>ratings</th>\n",
       "      <th>n_reviews</th>\n",
       "      <th>avg_rating</th>\n",
       "    </tr>\n",
       "  </thead>\n",
       "  <tbody>\n",
       "    <tr>\n",
       "      <th>48</th>\n",
       "      <td>85</td>\n",
       "      <td>Chester County Health Department</td>\n",
       "      <td>Yes</td>\n",
       "      <td>AMAN'S BISTRO</td>\n",
       "      <td>ChesterCountyFood</td>\n",
       "      <td>277 SCHUYLKILL RD</td>\n",
       "      <td>Phoenixville</td>\n",
       "      <td>Chester</td>\n",
       "      <td>19460.0</td>\n",
       "      <td>PA</td>\n",
       "      <td>...</td>\n",
       "      <td>1.0</td>\n",
       "      <td>{'RestaurantsPriceRange2': '2', 'BusinessParki...</td>\n",
       "      <td>Restaurants, Buffets, Pakistani, Indian</td>\n",
       "      <td>{'Monday': '17:0-22:0', 'Tuesday': '17:0-22:0'...</td>\n",
       "      <td>NaN</td>\n",
       "      <td>2018-02-10 00:00:00</td>\n",
       "      <td>[\"DONT EAT THERE !!! Food taste awful and over...</td>\n",
       "      <td>[1.0, 5.0, 5.0, 3.0, 5.0, 5.0, 1.0, 5.0, 5.0, ...</td>\n",
       "      <td>14</td>\n",
       "      <td>4.071429</td>\n",
       "    </tr>\n",
       "  </tbody>\n",
       "</table>\n",
       "<p>1 rows × 34 columns</p>\n",
       "</div>"
      ],
      "text/plain": [
       "    Unnamed: 0                 Organization Name Active Indicator  \\\n",
       "48          85  Chester County Health Department              Yes   \n",
       "\n",
       "   Public Facility Name Program Group Type            Address          City  \\\n",
       "48        AMAN'S BISTRO  ChesterCountyFood  277 SCHUYLKILL RD  Phoenixville   \n",
       "\n",
       "   County Name  Zip Code State  ... is_open  \\\n",
       "48     Chester   19460.0    PA  ...     1.0   \n",
       "\n",
       "                                           attributes  \\\n",
       "48  {'RestaurantsPriceRange2': '2', 'BusinessParki...   \n",
       "\n",
       "                                 categories  \\\n",
       "48  Restaurants, Buffets, Pakistani, Indian   \n",
       "\n",
       "                                                hours prev_date  \\\n",
       "48  {'Monday': '17:0-22:0', 'Tuesday': '17:0-22:0'...       NaN   \n",
       "\n",
       "   prev_date_with_nulls                                            reviews  \\\n",
       "48  2018-02-10 00:00:00  [\"DONT EAT THERE !!! Food taste awful and over...   \n",
       "\n",
       "                                              ratings n_reviews  avg_rating  \n",
       "48  [1.0, 5.0, 5.0, 3.0, 5.0, 5.0, 1.0, 5.0, 5.0, ...        14    4.071429  \n",
       "\n",
       "[1 rows x 34 columns]"
      ]
     },
     "execution_count": 56,
     "metadata": {},
     "output_type": "execute_result"
    }
   ],
   "source": [
    "data.loc[data.loc[:, \"Overall Compliance\"] == \"No\", :][8:9]"
   ]
  },
  {
   "cell_type": "code",
   "execution_count": 65,
   "metadata": {},
   "outputs": [
    {
     "data": {
      "text/plain": [
       "<Axes: xlabel='Overall Compliance'>"
      ]
     },
     "execution_count": 65,
     "metadata": {},
     "output_type": "execute_result"
    },
    {
     "data": {
      "image/png": "[encoded data removed]",
      "text/plain": [
       "<Figure size 300x600 with 1 Axes>"
      ]
     },
     "metadata": {},
     "output_type": "display_data"
    }
   ],
   "source": [
    "# Reviews per inspection\n",
    "(data.loc[:, \"Overall Compliance\"].value_counts() / len(data)).plot.bar(figsize=(3,6))"
   ]
  },
  {
   "cell_type": "code",
   "execution_count": 889,
   "metadata": {},
   "outputs": [
    {
     "name": "stdout",
     "output_type": "stream",
     "text": [
      "Restaurant status:\n",
      " - Open: 86.7%\n",
      " - Closed: 13.3%\n"
     ]
    }
   ],
   "source": [
    "# Open restaurants\n",
    "print('Restaurant status:')\n",
    "for status in sorted(review_data['is_open'].unique(), reverse=True):\n",
    "    prop_status = review_data['is_open'].value_counts().get(status, 0)/len(review_data['is_open'])*100\n",
    "    if status == 0:\n",
    "        print(f' - Closed: {prop_status:.1f}%')\n",
    "    else:\n",
    "        print(f' - Open: {prop_status:.1f}%')"
   ]
  },
  {
   "cell_type": "code",
   "execution_count": 909,
   "metadata": {},
   "outputs": [
    {
     "name": "stdout",
     "output_type": "stream",
     "text": [
      "Number of categories: 740\n",
      "Restaurants, American (New)\n",
      "American (Traditional), Bars, Nightlife, Sandwiches, Restaurants, Burgers\n",
      "American (Traditional), Bars, Nightlife, Sandwiches, Restaurants, Burgers\n",
      "American (New), Bars, Venues & Event Spaces, Nightlife, Event Planning & Services, Restaurants\n",
      "American (New), Bars, Venues & Event Spaces, Nightlife, Event Planning & Services, Restaurants\n",
      "American (New), Bars, Venues & Event Spaces, Nightlife, Event Planning & Services, Restaurants\n",
      "American (New), Bars, Venues & Event Spaces, Nightlife, Event Planning & Services, Restaurants\n",
      "American (New), Bars, Venues & Event Spaces, Nightlife, Event Planning & Services, Restaurants\n",
      "Shipping Centers, Local Services, Post Offices, Public Services & Government\n",
      "Food, Restaurants, Burgers, Fast Food, Hot Dogs\n"
     ]
    }
   ],
   "source": [
    "# Restaurant categories (UNINFORMATIVE)\n",
    "print('Number of categories:', len(review_data['categories'].unique()))\n",
    "for i in range(10):\n",
    "    print(review_data['categories'][i])"
   ]
  },
  {
   "cell_type": "code",
   "execution_count": 903,
   "metadata": {},
   "outputs": [
    {
     "data": {
      "text/plain": [
       "[\"Our first visit here and probably won't be back.  Everything had a very unusual taste. The fried cauliflower was sour as though it was seasoned with vinegar. I ordered nachos....also sour. The chicken was peppery.  Not my fav.\",\n",
       " \"I would give it 3 stars for food and 4 for drinks. I went for happy hour and the drinks were cheap and yummy. The food was okay but nothing special. It was packed during happy hour and there was one bartender. She held her own but that's a lot of people for just her. Also, after it died down I was just hanging with friends and you had to flag down someone for just water even though it was empty\\nand not much to do. \\nI definitely would come back for drinks and even food but I would never pay full price.\",\n",
       " \"Went to landmark for my boyfriend's birthday for Game of Thrones trivia. I work in a restaurant, so i know it's hectic but our service was god awful. Our waitress came over and gave us menus and our friend ordered an app right away and we ordered drinks. Naturally you'd think the drinks would come out first, i saw them sitting on the bar, but the server waited 25 minutes until the food came out. We had decided about five minutes after we ordered the drinks what we wanted to eat but our server didnt come back over til she brought those apps. I actually had to call after her when she set them down because she didnt ask if we wanted anything else. Our food took forever to come out then and a food runner brought it and forgot part of the meal. The food runner ran off quickly before we could say anything and again we didnt see or waitress for another 25 minutes to tell her we were missing part of her meal. By the time it came out, trivia was over and we were ready to leave. I could tell our server didnt even have many tables, as it wasnt that packed. Trivia was bad, service was bad,  drinks were poorly made, and the food was overpriced for what we got. Overall awful experience that was supposed to be a good birthday night.\",\n",
       " 'We had a great burger here. Juicy, thick and wonderfully tasty. Nice atmosphere. Attentive staff. Appetizers were so yummy! Cheese curds and nachos were satisfying and filling. Will return !',\n",
       " 'Terrible food that is overpriced and takes forever to come out.  There are several better options in west chester than this.',\n",
       " 'Casual and good food. One of my favorite places in West Chester to eat!',\n",
       " 'Came in specifically for the late night menu. I called ahead to make sure they participated in the late night menu like the other locations in the city--as I have just moved to west Chester and was unsure. Got the green light so I drive there and sit at the bar to order to go and the bartender tried to deny me the menu as if I was making it up and she had never heard of it before. I asked her if she was sure that they didn\\'t have since I called ahead of time and she said no we do not do that here. I was getting ready to leave and she \"went to check\" (literally walked away for 0.2 micro seconds and came back to the bar and gave me the menu which was next to her POS). I understand that the kitchen was closing at 11 and I got there after 10 pm, but customer service shouldn\\'t have been this horrible--especially since I was ordering take out. Will not be returning to this location. The other locations in the city are wonderful!!',\n",
       " \"This concept is incomprehensible. I'm not sure what they want to be? A sports bar? Family restaurant? A college hangout? Bro Bar? The food is less then stellar . I've had the burgers and fish , wings and multiple salad. All were perfectly ok. I'd rather pay $3 more and have something great. Yes the staff is very pretty but that doesn't mean you don't need to train them. The management needs to reach expectations!\",\n",
       " 'Polite staff and I personally like the new menu! The autumn market salad is light and refreshing. Wings are always great. Will be back!',\n",
       " \"Tried going here for their Harry Potter trivia. They said they were completely booked, though the restaurant wasn't completely crowded. There was nothing on the website that said they required reservations, nor even anywhere where to do so. Apparently, I was just supposed to have known to have made one. \\n\\nSo, I had to give one star, because I had a bad experience from not even getting beyond the hostess stand.\",\n",
       " 'We had a reservation for 5 for dinner, We were seated at a booth for 4 near the bar with broken seat- we asked to be re-seated but were told all other tables were reserved (there were open tables the entire time we were there)- the only option was for two of us to sit in aisle near bar which was full. \\nWe never were given plates for our appetizers, we had to ask for limes in our Gin and Tonics, had to ask for extra napkins, and we weren\\'t offered water. Food was ok, but service was just bad. The manager stopped to check on our evening and only offered an insincere  \"sorry about your evening\" \\nOk for a quick drink at the bar for happy hour but skip dinner. Too many other places to go with better service.']"
      ]
     },
     "execution_count": 903,
     "metadata": {},
     "output_type": "execute_result"
    }
   ],
   "source": [
    "# Restaurant reviews (SENTIMENT ANALYSIS WITH BERT)\n",
    "review_data['reviews'] = review_data['reviews'].apply(ast.literal_eval)\n",
    "review_data['reviews'][0]"
   ]
  },
  {
   "cell_type": "code",
   "execution_count": 911,
   "metadata": {},
   "outputs": [
    {
     "data": {
      "text/plain": [
       "{'RestaurantsPriceRange2': '2',\n",
       " 'RestaurantsAttire': \"u'casual'\",\n",
       " 'BusinessAcceptsCreditCards': 'True',\n",
       " 'OutdoorSeating': 'True',\n",
       " 'RestaurantsTakeOut': 'True',\n",
       " 'HasTV': 'True',\n",
       " 'RestaurantsGoodForGroups': 'True',\n",
       " 'RestaurantsReservations': 'True',\n",
       " 'NoiseLevel': \"u'average'\",\n",
       " 'BikeParking': 'True',\n",
       " 'RestaurantsDelivery': 'False',\n",
       " 'WiFi': \"u'free'\",\n",
       " 'Alcohol': \"u'full_bar'\",\n",
       " 'HappyHour': 'True',\n",
       " 'Caters': 'False',\n",
       " 'GoodForKids': 'True',\n",
       " 'GoodForMeal': \"{'dessert': False, 'latenight': True, 'lunch': False, 'dinner': True, 'brunch': False, 'breakfast': False}\",\n",
       " 'Ambience': \"{'romantic': False, 'intimate': False, 'touristy': False, 'hipster': False, 'divey': False, 'classy': False, 'trendy': False, 'upscale': False, 'casual': True}\",\n",
       " 'BusinessParking': \"{'garage': True, 'street': True, 'validated': False, 'lot': False, 'valet': False}\"}"
      ]
     },
     "execution_count": 911,
     "metadata": {},
     "output_type": "execute_result"
    }
   ],
   "source": [
    "# Restaurant attributes\n",
    "# review_data['attributes'] = review_data['attributes'].apply(ast.literal_eval)\n",
    "review_data['attributes'][0]"
   ]
  }
 ],
 "metadata": {
  "kernelspec": {
   "display_name": "advml",
   "language": "python",
   "name": "python3"
  },
  "language_info": {
   "codemirror_mode": {
    "name": "ipython",
    "version": 3
   },
   "file_extension": ".py",
   "mimetype": "text/x-python",
   "name": "python",
   "nbconvert_exporter": "python",
   "pygments_lexer": "ipython3",
   "version": "3.10.8"
  }
 },
 "nbformat": 4,
 "nbformat_minor": 2
}
