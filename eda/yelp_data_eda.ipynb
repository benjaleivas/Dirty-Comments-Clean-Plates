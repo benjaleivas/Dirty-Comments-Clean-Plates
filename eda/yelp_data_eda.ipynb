{
 "cells": [
  {
   "cell_type": "code",
   "execution_count": 4,
   "metadata": {},
   "outputs": [],
   "source": [
    "import pandas as pd\n",
    "import polars as pl\n",
    "import os"
   ]
  },
  {
   "cell_type": "code",
   "execution_count": 5,
   "metadata": {},
   "outputs": [
    {
     "data": {
      "text/plain": [
       "'/Users/claireboyd/courses/advanced_ml/dirty_comments_and_clean_plates'"
      ]
     },
     "execution_count": 5,
     "metadata": {},
     "output_type": "execute_result"
    }
   ],
   "source": [
    "#ONLY RUN THIS ONCE\n",
    "os.chdir(\"..\")\n",
    "os.path.abspath(os.curdir)"
   ]
  },
  {
   "cell_type": "code",
   "execution_count": 21,
   "metadata": {},
   "outputs": [],
   "source": [
    "all_reviews = pl.scan_ndjson(\"data/yelp_dataset/yelp_academic_dataset_review.json\")"
   ]
  },
  {
   "cell_type": "code",
   "execution_count": 22,
   "metadata": {},
   "outputs": [
    {
     "data": {
      "text/plain": [
       "OrderedDict([('review_id', String),\n",
       "             ('user_id', String),\n",
       "             ('business_id', String),\n",
       "             ('stars', Float64),\n",
       "             ('useful', Int64),\n",
       "             ('funny', Int64),\n",
       "             ('cool', Int64),\n",
       "             ('text', String),\n",
       "             ('date', String)])"
      ]
     },
     "execution_count": 22,
     "metadata": {},
     "output_type": "execute_result"
    }
   ],
   "source": [
    "all_reviews.schema"
   ]
  },
  {
   "cell_type": "code",
   "execution_count": 9,
   "metadata": {},
   "outputs": [
    {
     "data": {
      "text/html": [
       "<div><style>\n",
       ".dataframe > thead > tr,\n",
       ".dataframe > tbody > tr {\n",
       "  text-align: right;\n",
       "  white-space: pre-wrap;\n",
       "}\n",
       "</style>\n",
       "<small>shape: (1, 9)</small><table border=\"1\" class=\"dataframe\"><thead><tr><th>review_id</th><th>user_id</th><th>business_id</th><th>stars</th><th>useful</th><th>funny</th><th>cool</th><th>text</th><th>date</th></tr><tr><td>u32</td><td>u32</td><td>u32</td><td>u32</td><td>u32</td><td>u32</td><td>u32</td><td>u32</td><td>u32</td></tr></thead><tbody><tr><td>6990280</td><td>6990280</td><td>6990280</td><td>6990280</td><td>6990280</td><td>6990280</td><td>6990280</td><td>6990280</td><td>6990280</td></tr></tbody></table></div>"
      ],
      "text/plain": [
       "shape: (1, 9)\n",
       "┌───────────┬─────────┬─────────────┬─────────┬───┬─────────┬─────────┬─────────┬─────────┐\n",
       "│ review_id ┆ user_id ┆ business_id ┆ stars   ┆ … ┆ funny   ┆ cool    ┆ text    ┆ date    │\n",
       "│ ---       ┆ ---     ┆ ---         ┆ ---     ┆   ┆ ---     ┆ ---     ┆ ---     ┆ ---     │\n",
       "│ u32       ┆ u32     ┆ u32         ┆ u32     ┆   ┆ u32     ┆ u32     ┆ u32     ┆ u32     │\n",
       "╞═══════════╪═════════╪═════════════╪═════════╪═══╪═════════╪═════════╪═════════╪═════════╡\n",
       "│ 6990280   ┆ 6990280 ┆ 6990280     ┆ 6990280 ┆ … ┆ 6990280 ┆ 6990280 ┆ 6990280 ┆ 6990280 │\n",
       "└───────────┴─────────┴─────────────┴─────────┴───┴─────────┴─────────┴─────────┴─────────┘"
      ]
     },
     "execution_count": 9,
     "metadata": {},
     "output_type": "execute_result"
    }
   ],
   "source": [
    "all_reviews.count().collect(streaming=True)"
   ]
  },
  {
   "cell_type": "code",
   "execution_count": 16,
   "metadata": {},
   "outputs": [],
   "source": [
    "all_businesses = pl.scan_ndjson(\"data/yelp_dataset/yelp_academic_dataset_business.json\")"
   ]
  },
  {
   "cell_type": "code",
   "execution_count": 17,
   "metadata": {},
   "outputs": [
    {
     "data": {
      "text/html": [
       "<div><style>\n",
       ".dataframe > thead > tr,\n",
       ".dataframe > tbody > tr {\n",
       "  text-align: right;\n",
       "  white-space: pre-wrap;\n",
       "}\n",
       "</style>\n",
       "<small>shape: (1, 14)</small><table border=\"1\" class=\"dataframe\"><thead><tr><th>business_id</th><th>name</th><th>address</th><th>city</th><th>state</th><th>postal_code</th><th>latitude</th><th>longitude</th><th>stars</th><th>review_count</th><th>is_open</th><th>attributes</th><th>categories</th><th>hours</th></tr><tr><td>u32</td><td>u32</td><td>u32</td><td>u32</td><td>u32</td><td>u32</td><td>u32</td><td>u32</td><td>u32</td><td>u32</td><td>u32</td><td>u32</td><td>u32</td><td>u32</td></tr></thead><tbody><tr><td>150346</td><td>150346</td><td>150346</td><td>150346</td><td>150346</td><td>150346</td><td>150346</td><td>150346</td><td>150346</td><td>150346</td><td>150346</td><td>136602</td><td>150243</td><td>127123</td></tr></tbody></table></div>"
      ],
      "text/plain": [
       "shape: (1, 14)\n",
       "┌─────────────┬────────┬─────────┬────────┬───┬─────────┬────────────┬────────────┬────────┐\n",
       "│ business_id ┆ name   ┆ address ┆ city   ┆ … ┆ is_open ┆ attributes ┆ categories ┆ hours  │\n",
       "│ ---         ┆ ---    ┆ ---     ┆ ---    ┆   ┆ ---     ┆ ---        ┆ ---        ┆ ---    │\n",
       "│ u32         ┆ u32    ┆ u32     ┆ u32    ┆   ┆ u32     ┆ u32        ┆ u32        ┆ u32    │\n",
       "╞═════════════╪════════╪═════════╪════════╪═══╪═════════╪════════════╪════════════╪════════╡\n",
       "│ 150346      ┆ 150346 ┆ 150346  ┆ 150346 ┆ … ┆ 150346  ┆ 136602     ┆ 150243     ┆ 127123 │\n",
       "└─────────────┴────────┴─────────┴────────┴───┴─────────┴────────────┴────────────┴────────┘"
      ]
     },
     "execution_count": 17,
     "metadata": {},
     "output_type": "execute_result"
    }
   ],
   "source": [
    "all_businesses.count().collect(streaming=True)"
   ]
  },
  {
   "cell_type": "code",
   "execution_count": 31,
   "metadata": {},
   "outputs": [],
   "source": [
    "df = all_reviews.select([\"user_id\", \"text\", \"date\"]).collect(streaming=True)"
   ]
  },
  {
   "cell_type": "code",
   "execution_count": 32,
   "metadata": {},
   "outputs": [
    {
     "data": {
      "text/html": [
       "<div><style>\n",
       ".dataframe > thead > tr,\n",
       ".dataframe > tbody > tr {\n",
       "  text-align: right;\n",
       "  white-space: pre-wrap;\n",
       "}\n",
       "</style>\n",
       "<small>shape: (5, 3)</small><table border=\"1\" class=\"dataframe\"><thead><tr><th>user_id</th><th>text</th><th>date</th></tr><tr><td>str</td><td>str</td><td>str</td></tr></thead><tbody><tr><td>&quot;mh_-eMZ6K5RLWh…</td><td>&quot;If you decide …</td><td>&quot;2018-07-07 22:…</td></tr><tr><td>&quot;OyoGAe7OKpv6Sy…</td><td>&quot;I&#x27;ve taken a l…</td><td>&quot;2012-01-03 15:…</td></tr><tr><td>&quot;8g_iMtfSiwikVn…</td><td>&quot;Family diner. …</td><td>&quot;2014-02-05 20:…</td></tr><tr><td>&quot;_7bHUi9Uuf5__H…</td><td>&quot;Wow!  Yummy, d…</td><td>&quot;2015-01-04 00:…</td></tr><tr><td>&quot;bcjbaE6dDog4jk…</td><td>&quot;Cute interior …</td><td>&quot;2017-01-14 20:…</td></tr></tbody></table></div>"
      ],
      "text/plain": [
       "shape: (5, 3)\n",
       "┌────────────────────────┬───────────────────────────────────┬─────────────────────┐\n",
       "│ user_id                ┆ text                              ┆ date                │\n",
       "│ ---                    ┆ ---                               ┆ ---                 │\n",
       "│ str                    ┆ str                               ┆ str                 │\n",
       "╞════════════════════════╪═══════════════════════════════════╪═════════════════════╡\n",
       "│ mh_-eMZ6K5RLWhZyISBhwA ┆ If you decide to eat here, just … ┆ 2018-07-07 22:09:11 │\n",
       "│ OyoGAe7OKpv6SyGZT5g77Q ┆ I've taken a lot of spin classes… ┆ 2012-01-03 15:28:18 │\n",
       "│ 8g_iMtfSiwikVnbP2etR0A ┆ Family diner. Had the buffet. Ec… ┆ 2014-02-05 20:30:30 │\n",
       "│ _7bHUi9Uuf5__HHc_Q8guQ ┆ Wow!  Yummy, different,  delicio… ┆ 2015-01-04 00:01:03 │\n",
       "│ bcjbaE6dDog4jkNY91ncLQ ┆ Cute interior and owner (?) gave… ┆ 2017-01-14 20:54:15 │\n",
       "└────────────────────────┴───────────────────────────────────┴─────────────────────┘"
      ]
     },
     "execution_count": 32,
     "metadata": {},
     "output_type": "execute_result"
    }
   ],
   "source": [
    "df.head()"
   ]
  },
  {
   "cell_type": "code",
   "execution_count": 6,
   "metadata": {},
   "outputs": [],
   "source": [
    "all_users = pl.scan_ndjson(\"data/yelp_dataset/yelp_academic_dataset_user.json\")"
   ]
  },
  {
   "cell_type": "code",
   "execution_count": 7,
   "metadata": {},
   "outputs": [
    {
     "data": {
      "text/plain": [
       "OrderedDict([('user_id', String),\n",
       "             ('name', String),\n",
       "             ('review_count', Int64),\n",
       "             ('yelping_since', String),\n",
       "             ('useful', Int64),\n",
       "             ('funny', Int64),\n",
       "             ('cool', Int64),\n",
       "             ('elite', String),\n",
       "             ('friends', String),\n",
       "             ('fans', Int64),\n",
       "             ('average_stars', Float64),\n",
       "             ('compliment_hot', Int64),\n",
       "             ('compliment_more', Int64),\n",
       "             ('compliment_profile', Int64),\n",
       "             ('compliment_cute', Int64),\n",
       "             ('compliment_list', Int64),\n",
       "             ('compliment_note', Int64),\n",
       "             ('compliment_plain', Int64),\n",
       "             ('compliment_cool', Int64),\n",
       "             ('compliment_funny', Int64),\n",
       "             ('compliment_writer', Int64),\n",
       "             ('compliment_photos', Int64)])"
      ]
     },
     "execution_count": 7,
     "metadata": {},
     "output_type": "execute_result"
    }
   ],
   "source": [
    "all_users.schema"
   ]
  },
  {
   "cell_type": "code",
   "execution_count": 8,
   "metadata": {},
   "outputs": [
    {
     "ename": "KeyboardInterrupt",
     "evalue": "",
     "output_type": "error",
     "traceback": [
      "\u001b[0;31m---------------------------------------------------------------------------\u001b[0m",
      "\u001b[0;31mKeyboardInterrupt\u001b[0m                         Traceback (most recent call last)",
      "Cell \u001b[0;32mIn[8], line 1\u001b[0m\n\u001b[0;32m----> 1\u001b[0m all_users\u001b[39m.\u001b[39;49mcollect(streaming\u001b[39m=\u001b[39;49m\u001b[39mTrue\u001b[39;49;00m)\u001b[39m.\u001b[39mhead()\n",
      "File \u001b[0;32m~/courses/advanced_ml/dirty_comments_and_clean_plates/.venv/lib/python3.10/site-packages/polars/lazyframe/frame.py:1937\u001b[0m, in \u001b[0;36mLazyFrame.collect\u001b[0;34m(self, type_coercion, predicate_pushdown, projection_pushdown, simplify_expression, slice_pushdown, comm_subplan_elim, comm_subexpr_elim, no_optimization, streaming, background, _eager)\u001b[0m\n\u001b[1;32m   1934\u001b[0m \u001b[39mif\u001b[39;00m background:\n\u001b[1;32m   1935\u001b[0m     \u001b[39mreturn\u001b[39;00m InProcessQuery(ldf\u001b[39m.\u001b[39mcollect_concurrently())\n\u001b[0;32m-> 1937\u001b[0m \u001b[39mreturn\u001b[39;00m wrap_df(ldf\u001b[39m.\u001b[39;49mcollect())\n",
      "\u001b[0;31mKeyboardInterrupt\u001b[0m: "
     ]
    }
   ],
   "source": [
    "all_users.collect(streaming=True).head()"
   ]
  },
  {
   "cell_type": "code",
   "execution_count": 14,
   "metadata": {},
   "outputs": [
    {
     "data": {
      "text/html": [
       "<div><style>\n",
       ".dataframe > thead > tr,\n",
       ".dataframe > tbody > tr {\n",
       "  text-align: right;\n",
       "  white-space: pre-wrap;\n",
       "}\n",
       "</style>\n",
       "<small>shape: (5, 9)</small><table border=\"1\" class=\"dataframe\"><thead><tr><th>review_id</th><th>user_id</th><th>business_id</th><th>stars</th><th>useful</th><th>funny</th><th>cool</th><th>text</th><th>date</th></tr><tr><td>str</td><td>str</td><td>str</td><td>f64</td><td>i64</td><td>i64</td><td>i64</td><td>str</td><td>str</td></tr></thead><tbody><tr><td>&quot;KU_O5udG6zpxOg…</td><td>&quot;mh_-eMZ6K5RLWh…</td><td>&quot;XQfwVwDr-v0ZS3…</td><td>3.0</td><td>0</td><td>0</td><td>0</td><td>&quot;If you decide …</td><td>&quot;2018-07-07 22:…</td></tr><tr><td>&quot;BiTunyQ73aT9WB…</td><td>&quot;OyoGAe7OKpv6Sy…</td><td>&quot;7ATYjTIgM3jUlt…</td><td>5.0</td><td>1</td><td>0</td><td>1</td><td>&quot;I&#x27;ve taken a l…</td><td>&quot;2012-01-03 15:…</td></tr><tr><td>&quot;saUsX_uimxRlCV…</td><td>&quot;8g_iMtfSiwikVn…</td><td>&quot;YjUWPpI6HXG530…</td><td>3.0</td><td>0</td><td>0</td><td>0</td><td>&quot;Family diner. …</td><td>&quot;2014-02-05 20:…</td></tr><tr><td>&quot;AqPFMleE6RsU23…</td><td>&quot;_7bHUi9Uuf5__H…</td><td>&quot;kxX2SOes4o-D3Z…</td><td>5.0</td><td>1</td><td>0</td><td>1</td><td>&quot;Wow!  Yummy, d…</td><td>&quot;2015-01-04 00:…</td></tr><tr><td>&quot;Sx8TMOWLNuJBWe…</td><td>&quot;bcjbaE6dDog4jk…</td><td>&quot;e4Vwtrqf-wpJfw…</td><td>4.0</td><td>1</td><td>0</td><td>1</td><td>&quot;Cute interior …</td><td>&quot;2017-01-14 20:…</td></tr></tbody></table></div>"
      ],
      "text/plain": [
       "shape: (5, 9)\n",
       "┌──────────────┬──────────────┬─────────────┬───────┬───┬───────┬──────┬─────────────┬─────────────┐\n",
       "│ review_id    ┆ user_id      ┆ business_id ┆ stars ┆ … ┆ funny ┆ cool ┆ text        ┆ date        │\n",
       "│ ---          ┆ ---          ┆ ---         ┆ ---   ┆   ┆ ---   ┆ ---  ┆ ---         ┆ ---         │\n",
       "│ str          ┆ str          ┆ str         ┆ f64   ┆   ┆ i64   ┆ i64  ┆ str         ┆ str         │\n",
       "╞══════════════╪══════════════╪═════════════╪═══════╪═══╪═══════╪══════╪═════════════╪═════════════╡\n",
       "│ KU_O5udG6zpx ┆ mh_-eMZ6K5RL ┆ XQfwVwDr-v0 ┆ 3.0   ┆ … ┆ 0     ┆ 0    ┆ If you      ┆ 2018-07-07  │\n",
       "│ Og-VcAEodg   ┆ WhZyISBhwA   ┆ ZS3_CbbE5Xw ┆       ┆   ┆       ┆      ┆ decide to   ┆ 22:09:11    │\n",
       "│              ┆              ┆             ┆       ┆   ┆       ┆      ┆ eat here,   ┆             │\n",
       "│              ┆              ┆             ┆       ┆   ┆       ┆      ┆ just …      ┆             │\n",
       "│ BiTunyQ73aT9 ┆ OyoGAe7OKpv6 ┆ 7ATYjTIgM3j ┆ 5.0   ┆ … ┆ 0     ┆ 1    ┆ I've taken  ┆ 2012-01-03  │\n",
       "│ WBnpR9DZGw   ┆ SyGZT5g77Q   ┆ Ult4UM3IypQ ┆       ┆   ┆       ┆      ┆ a lot of    ┆ 15:28:18    │\n",
       "│              ┆              ┆             ┆       ┆   ┆       ┆      ┆ spin        ┆             │\n",
       "│              ┆              ┆             ┆       ┆   ┆       ┆      ┆ classes…    ┆             │\n",
       "│ saUsX_uimxRl ┆ 8g_iMtfSiwik ┆ YjUWPpI6HXG ┆ 3.0   ┆ … ┆ 0     ┆ 0    ┆ Family      ┆ 2014-02-05  │\n",
       "│ CVr67Z4Jig   ┆ VnbP2etR0A   ┆ 530lwP-fb2A ┆       ┆   ┆       ┆      ┆ diner. Had  ┆ 20:30:30    │\n",
       "│              ┆              ┆             ┆       ┆   ┆       ┆      ┆ the buffet. ┆             │\n",
       "│              ┆              ┆             ┆       ┆   ┆       ┆      ┆ Ec…         ┆             │\n",
       "│ AqPFMleE6RsU ┆ _7bHUi9Uuf5_ ┆ kxX2SOes4o- ┆ 5.0   ┆ … ┆ 0     ┆ 1    ┆ Wow!        ┆ 2015-01-04  │\n",
       "│ 23_auESxiA   ┆ _HHc_Q8guQ   ┆ D3ZQBkiMRfA ┆       ┆   ┆       ┆      ┆ Yummy,      ┆ 00:01:03    │\n",
       "│              ┆              ┆             ┆       ┆   ┆       ┆      ┆ different,  ┆             │\n",
       "│              ┆              ┆             ┆       ┆   ┆       ┆      ┆ delicio…    ┆             │\n",
       "│ Sx8TMOWLNuJB ┆ bcjbaE6dDog4 ┆ e4Vwtrqf-wp ┆ 4.0   ┆ … ┆ 0     ┆ 1    ┆ Cute        ┆ 2017-01-14  │\n",
       "│ Wer-0pcmoA   ┆ jkNY91ncLQ   ┆ JfwesgvdgxQ ┆       ┆   ┆       ┆      ┆ interior    ┆ 20:54:15    │\n",
       "│              ┆              ┆             ┆       ┆   ┆       ┆      ┆ and owner   ┆             │\n",
       "│              ┆              ┆             ┆       ┆   ┆       ┆      ┆ (?) gave…   ┆             │\n",
       "└──────────────┴──────────────┴─────────────┴───────┴───┴───────┴──────┴─────────────┴─────────────┘"
      ]
     },
     "execution_count": 14,
     "metadata": {},
     "output_type": "execute_result"
    }
   ],
   "source": [
    "all_reviews.head(5).collect()"
   ]
  },
  {
   "cell_type": "code",
   "execution_count": 34,
   "metadata": {},
   "outputs": [
    {
     "data": {
      "text/html": [
       "<div><style>\n",
       ".dataframe > thead > tr,\n",
       ".dataframe > tbody > tr {\n",
       "  text-align: right;\n",
       "  white-space: pre-wrap;\n",
       "}\n",
       "</style>\n",
       "<small>shape: (2_165, 34)</small><table border=\"1\" class=\"dataframe\"><thead><tr><th></th><th>Organization Name</th><th>Active Indicator</th><th>Public Facility Name</th><th>Program Group Type</th><th>Address</th><th>City</th><th>County Name</th><th>Zip Code</th><th>State</th><th>Inspection Date</th><th>Inspection Reason Type</th><th>Overall Compliance</th><th>Georeferenced Latitude and Longitude</th><th>business_id</th><th>name</th><th>address</th><th>city</th><th>state</th><th>postal_code</th><th>latitude</th><th>longitude</th><th>stars</th><th>review_count</th><th>is_open</th><th>attributes</th><th>categories</th><th>hours</th><th>prev_date</th><th>prev_date_with_nulls</th><th>reviews</th><th>ratings</th><th>n_reviews</th><th>avg_rating</th></tr><tr><td>i64</td><td>str</td><td>str</td><td>str</td><td>str</td><td>str</td><td>str</td><td>str</td><td>f64</td><td>str</td><td>str</td><td>str</td><td>str</td><td>str</td><td>str</td><td>str</td><td>str</td><td>str</td><td>str</td><td>i64</td><td>f64</td><td>f64</td><td>f64</td><td>f64</td><td>f64</td><td>str</td><td>str</td><td>str</td><td>str</td><td>str</td><td>str</td><td>str</td><td>i64</td><td>f64</td></tr></thead><tbody><tr><td>10735</td><td>&quot;Chester County…</td><td>&quot;Yes&quot;</td><td>&quot;158 LICENSE, L…</td><td>&quot;ChesterCountyF…</td><td>&quot;158 W GAY ST&quot;</td><td>&quot;West Chester&quot;</td><td>&quot;Chester&quot;</td><td>19380.0</td><td>&quot;PA&quot;</td><td>&quot;2019-03-20 00:…</td><td>&quot;Opening&quot;</td><td>&quot;Yes&quot;</td><td>&quot;POINT (-75.607…</td><td>&quot;qV325HCv3cZKgd…</td><td>&quot;Landmark Ameri…</td><td>&quot;158 W GAY ST&quot;</td><td>&quot;West Chester&quot;</td><td>&quot;PA&quot;</td><td>19380</td><td>39.959266</td><td>-75.607422</td><td>2.5</td><td>116.0</td><td>0.0</td><td>&quot;{&#x27;RestaurantsP…</td><td>&quot;Restaurants, A…</td><td>&quot;{&#x27;Monday&#x27;: &#x27;11…</td><td>null</td><td>&quot;2018-03-25 00:…</td><td>&quot;[&quot;Our first vi…</td><td>&quot;[1.0, 3.0, 1.0…</td><td>11</td><td>2.454545</td></tr><tr><td>56848</td><td>&quot;PENNSYLVANIA D…</td><td>&quot;Yes&quot;</td><td>&quot;3 B&#x27;S LOUNGE&quot;</td><td>&quot;Food&quot;</td><td>&quot;309 S MAIN ST&quot;</td><td>&quot;ZELIENOPLE&quot;</td><td>&quot;Butler&quot;</td><td>16063.0</td><td>&quot;PA&quot;</td><td>&quot;2018-05-16 00:…</td><td>&quot;Regular&quot;</td><td>&quot;Yes&quot;</td><td>&quot;POINT (-80.136…</td><td>&quot;19EuqHznljFunk…</td><td>&quot;J.T. Bankers&quot;</td><td>&quot;309 S MAIN ST&quot;</td><td>&quot;Sellersville&quot;</td><td>&quot;PA&quot;</td><td>18960</td><td>40.353414</td><td>-75.305458</td><td>4.0</td><td>29.0</td><td>1.0</td><td>&quot;{&#x27;RestaurantsG…</td><td>&quot;American (Trad…</td><td>&quot;{&#x27;Monday&#x27;: &#x27;11…</td><td>null</td><td>&quot;2017-05-21 00:…</td><td>&quot;[&#x27;Stopped in f…</td><td>&quot;[4.0, 5.0]&quot;</td><td>2</td><td>4.5</td></tr><tr><td>72731</td><td>&quot;PENNSYLVANIA D…</td><td>&quot;Yes&quot;</td><td>&quot;3 B&#x27;S LOUNGE&quot;</td><td>&quot;Food&quot;</td><td>&quot;309 S MAIN ST&quot;</td><td>&quot;ZELIENOPLE&quot;</td><td>&quot;Butler&quot;</td><td>16063.0</td><td>&quot;PA&quot;</td><td>&quot;2019-06-03 00:…</td><td>&quot;Regular&quot;</td><td>&quot;Yes&quot;</td><td>&quot;POINT (-80.136…</td><td>&quot;19EuqHznljFunk…</td><td>&quot;J.T. Bankers&quot;</td><td>&quot;309 S MAIN ST&quot;</td><td>&quot;Sellersville&quot;</td><td>&quot;PA&quot;</td><td>18960</td><td>40.353414</td><td>-75.305458</td><td>4.0</td><td>29.0</td><td>1.0</td><td>&quot;{&#x27;RestaurantsG…</td><td>&quot;American (Trad…</td><td>&quot;{&#x27;Monday&#x27;: &#x27;11…</td><td>&quot;2018-05-16 00:…</td><td>&quot;2018-05-16 00:…</td><td>&quot;[&#x27;Six of us we…</td><td>&quot;[5.0, 1.0, 4.0…</td><td>7</td><td>3.571429</td></tr><tr><td>289</td><td>&quot;Chester County…</td><td>&quot;Yes&quot;</td><td>&quot;30 MAIN&quot;</td><td>&quot;ChesterCountyF…</td><td>&quot;660 LANCASTER …</td><td>&quot;Berwyn&quot;</td><td>&quot;Chester&quot;</td><td>19312.0</td><td>&quot;PA&quot;</td><td>&quot;2018-05-03 00:…</td><td>&quot;Follow-up&quot;</td><td>&quot;Yes&quot;</td><td>&quot;POINT (-75.442…</td><td>&quot;ypEtkQK37INcwF…</td><td>&quot;30 Main&quot;</td><td>&quot;660 LANCASTER …</td><td>&quot;Berwyn&quot;</td><td>&quot;PA&quot;</td><td>19312</td><td>40.047585</td><td>-75.442132</td><td>4.0</td><td>54.0</td><td>1.0</td><td>&quot;{&#x27;RestaurantsP…</td><td>&quot;American (New)…</td><td>&quot;{&#x27;Tuesday&#x27;: &#x27;1…</td><td>null</td><td>&quot;2017-05-08 00:…</td><td>&quot;[&quot;So I read al…</td><td>&quot;[2.0, 5.0, 5.0…</td><td>11</td><td>3.363636</td></tr><tr><td>15080</td><td>&quot;Chester County…</td><td>&quot;Yes&quot;</td><td>&quot;30 MAIN&quot;</td><td>&quot;ChesterCountyF…</td><td>&quot;660 LANCASTER …</td><td>&quot;Berwyn&quot;</td><td>&quot;Chester&quot;</td><td>19312.0</td><td>&quot;PA&quot;</td><td>&quot;2018-05-22 00:…</td><td>&quot;Complaint&quot;</td><td>&quot;Yes&quot;</td><td>&quot;POINT (-75.442…</td><td>&quot;ypEtkQK37INcwF…</td><td>&quot;30 Main&quot;</td><td>&quot;660 LANCASTER …</td><td>&quot;Berwyn&quot;</td><td>&quot;PA&quot;</td><td>19312</td><td>40.047585</td><td>-75.442132</td><td>4.0</td><td>54.0</td><td>1.0</td><td>&quot;{&#x27;RestaurantsP…</td><td>&quot;American (New)…</td><td>&quot;{&#x27;Tuesday&#x27;: &#x27;1…</td><td>&quot;2018-05-03 00:…</td><td>&quot;2018-05-03 00:…</td><td>&quot;[&#x27;Ordered thro…</td><td>&quot;[1.0, 2.0, 5.0…</td><td>5</td><td>2.2</td></tr><tr><td>12444</td><td>&quot;Chester County…</td><td>&quot;Yes&quot;</td><td>&quot;30 MAIN&quot;</td><td>&quot;ChesterCountyF…</td><td>&quot;660 LANCASTER …</td><td>&quot;Berwyn&quot;</td><td>&quot;Chester&quot;</td><td>19312.0</td><td>&quot;PA&quot;</td><td>&quot;2019-02-28 00:…</td><td>&quot;Regular&quot;</td><td>&quot;Yes&quot;</td><td>&quot;POINT (-75.442…</td><td>&quot;ypEtkQK37INcwF…</td><td>&quot;30 Main&quot;</td><td>&quot;660 LANCASTER …</td><td>&quot;Berwyn&quot;</td><td>&quot;PA&quot;</td><td>19312</td><td>40.047585</td><td>-75.442132</td><td>4.0</td><td>54.0</td><td>1.0</td><td>&quot;{&#x27;RestaurantsP…</td><td>&quot;American (New)…</td><td>&quot;{&#x27;Tuesday&#x27;: &#x27;1…</td><td>&quot;2018-05-22 00:…</td><td>&quot;2018-05-22 00:…</td><td>&quot;[&#x27;I had dinner…</td><td>&quot;[4.0, 5.0, 5.0…</td><td>8</td><td>3.75</td></tr><tr><td>7468</td><td>&quot;Chester County…</td><td>&quot;Yes&quot;</td><td>&quot;30 MAIN&quot;</td><td>&quot;ChesterCountyF…</td><td>&quot;660 LANCASTER …</td><td>&quot;Berwyn&quot;</td><td>&quot;Chester&quot;</td><td>19312.0</td><td>&quot;PA&quot;</td><td>&quot;2020-02-07 00:…</td><td>&quot;Regular&quot;</td><td>&quot;Yes&quot;</td><td>&quot;POINT (-75.442…</td><td>&quot;ypEtkQK37INcwF…</td><td>&quot;30 Main&quot;</td><td>&quot;660 LANCASTER …</td><td>&quot;Berwyn&quot;</td><td>&quot;PA&quot;</td><td>19312</td><td>40.047585</td><td>-75.442132</td><td>4.0</td><td>54.0</td><td>1.0</td><td>&quot;{&#x27;RestaurantsP…</td><td>&quot;American (New)…</td><td>&quot;{&#x27;Tuesday&#x27;: &#x27;1…</td><td>&quot;2019-02-28 00:…</td><td>&quot;2019-02-28 00:…</td><td>&quot;[&#x27;Went with my…</td><td>&quot;[5.0, 1.0, 5.0…</td><td>5</td><td>2.8</td></tr><tr><td>1278</td><td>&quot;Chester County…</td><td>&quot;Yes&quot;</td><td>&quot;30 MAIN&quot;</td><td>&quot;ChesterCountyF…</td><td>&quot;660 LANCASTER …</td><td>&quot;Berwyn&quot;</td><td>&quot;Chester&quot;</td><td>19312.0</td><td>&quot;PA&quot;</td><td>&quot;2020-02-19 00:…</td><td>&quot;Follow-up&quot;</td><td>&quot;Yes&quot;</td><td>&quot;POINT (-75.442…</td><td>&quot;ypEtkQK37INcwF…</td><td>&quot;30 Main&quot;</td><td>&quot;660 LANCASTER …</td><td>&quot;Berwyn&quot;</td><td>&quot;PA&quot;</td><td>19312</td><td>40.047585</td><td>-75.442132</td><td>4.0</td><td>54.0</td><td>1.0</td><td>&quot;{&#x27;RestaurantsP…</td><td>&quot;American (New)…</td><td>&quot;{&#x27;Tuesday&#x27;: &#x27;1…</td><td>&quot;2020-02-07 00:…</td><td>&quot;2020-02-07 00:…</td><td>&quot;[&quot;Really fun b…</td><td>&quot;[5.0]&quot;</td><td>1</td><td>5.0</td></tr><tr><td>35481</td><td>&quot;PENNSYLVANIA D…</td><td>&quot;No&quot;</td><td>&quot;4TH AND MARKET…</td><td>&quot;Food&quot;</td><td>&quot;316 MARKET ST&quot;</td><td>&quot;Port Royal&quot;</td><td>&quot;Juniata&quot;</td><td>17082.0</td><td>&quot;PA&quot;</td><td>&quot;2018-07-10 00:…</td><td>&quot;Change of Owne…</td><td>&quot;Yes&quot;</td><td>&quot;POINT (-77.386…</td><td>&quot;8NbOKCqw_sgx1N…</td><td>&quot;US Post Office…</td><td>&quot;316 MARKET ST&quot;</td><td>&quot;Philadelphia&quot;</td><td>&quot;PA&quot;</td><td>19106</td><td>39.950084</td><td>-75.146532</td><td>3.5</td><td>76.0</td><td>1.0</td><td>&quot;{&#x27;BusinessAcce…</td><td>&quot;Shipping Cente…</td><td>&quot;{&#x27;Monday&#x27;: &#x27;9:…</td><td>null</td><td>&quot;2017-07-15 00:…</td><td>&quot;[&#x27;Never though…</td><td>&quot;[5.0, 1.0]&quot;</td><td>2</td><td>3.0</td></tr><tr><td>6756</td><td>&quot;Chester County…</td><td>&quot;Yes&quot;</td><td>&quot;5 GUYS BURGERS…</td><td>&quot;ChesterCountyF…</td><td>&quot;253 E SWEDESFO…</td><td>&quot;Wayne&quot;</td><td>&quot;Chester&quot;</td><td>19087.0</td><td>&quot;PA&quot;</td><td>&quot;2018-10-05 00:…</td><td>&quot;Emergency Resp…</td><td>&quot;Yes&quot;</td><td>&quot;POINT (-75.428…</td><td>&quot;3GjYa0zpRfNXSc…</td><td>&quot;Five Guys&quot;</td><td>&quot;253 E SWEDESFO…</td><td>&quot;Wayne&quot;</td><td>&quot;PA&quot;</td><td>19087</td><td>40.074167</td><td>-75.431497</td><td>3.5</td><td>84.0</td><td>1.0</td><td>&quot;{&#x27;RestaurantsR…</td><td>&quot;Food, Restaura…</td><td>&quot;{&#x27;Monday&#x27;: &#x27;0:…</td><td>&quot;2018-04-03 00:…</td><td>&quot;2018-04-03 00:…</td><td>&quot;[&#x27;This is the …</td><td>&quot;[5.0, 1.0]&quot;</td><td>2</td><td>3.0</td></tr><tr><td>30016</td><td>&quot;Haverford Town…</td><td>&quot;Yes&quot;</td><td>&quot;7-ELEVEN&quot;</td><td>&quot;Food&quot;</td><td>&quot;2606 HAVERFORD…</td><td>&quot;Ardmore&quot;</td><td>&quot;Delaware&quot;</td><td>19003.0</td><td>&quot;PA&quot;</td><td>&quot;2018-11-07 00:…</td><td>&quot;Regular&quot;</td><td>&quot;Yes&quot;</td><td>&quot;POINT (-75.302…</td><td>&quot;GhLCh9fL9Nc8c3…</td><td>&quot;7-Eleven&quot;</td><td>&quot;2606 HAVERFORD…</td><td>&quot;Ardmore&quot;</td><td>&quot;PA&quot;</td><td>19003</td><td>39.995949</td><td>-75.302455</td><td>2.5</td><td>8.0</td><td>1.0</td><td>&quot;{&#x27;Ambience&#x27;: &quot;…</td><td>&quot;Convenience St…</td><td>&quot;{&#x27;Monday&#x27;: &#x27;0:…</td><td>null</td><td>&quot;2017-11-12 00:…</td><td>&quot;[&#x27;Been a fan o…</td><td>&quot;[5.0]&quot;</td><td>1</td><td>5.0</td></tr><tr><td>31465</td><td>&quot;Haverford Town…</td><td>&quot;Yes&quot;</td><td>&quot;7-ELEVEN&quot;</td><td>&quot;Food&quot;</td><td>&quot;2606 HAVERFORD…</td><td>&quot;Ardmore&quot;</td><td>&quot;Delaware&quot;</td><td>19003.0</td><td>&quot;PA&quot;</td><td>&quot;2019-12-02 00:…</td><td>&quot;Regular&quot;</td><td>&quot;Yes&quot;</td><td>&quot;POINT (-75.302…</td><td>&quot;GhLCh9fL9Nc8c3…</td><td>&quot;7-Eleven&quot;</td><td>&quot;2606 HAVERFORD…</td><td>&quot;Ardmore&quot;</td><td>&quot;PA&quot;</td><td>19003</td><td>39.995949</td><td>-75.302455</td><td>2.5</td><td>8.0</td><td>1.0</td><td>&quot;{&#x27;Ambience&#x27;: &quot;…</td><td>&quot;Convenience St…</td><td>&quot;{&#x27;Monday&#x27;: &#x27;0:…</td><td>&quot;2018-11-07 00:…</td><td>&quot;2018-11-07 00:…</td><td>&quot;[&#x27;I am not and…</td><td>&quot;[2.0, 4.0]&quot;</td><td>2</td><td>3.0</td></tr><tr><td>&hellip;</td><td>&hellip;</td><td>&hellip;</td><td>&hellip;</td><td>&hellip;</td><td>&hellip;</td><td>&hellip;</td><td>&hellip;</td><td>&hellip;</td><td>&hellip;</td><td>&hellip;</td><td>&hellip;</td><td>&hellip;</td><td>&hellip;</td><td>&hellip;</td><td>&hellip;</td><td>&hellip;</td><td>&hellip;</td><td>&hellip;</td><td>&hellip;</td><td>&hellip;</td><td>&hellip;</td><td>&hellip;</td><td>&hellip;</td><td>&hellip;</td><td>&hellip;</td><td>&hellip;</td><td>&hellip;</td><td>&hellip;</td><td>&hellip;</td><td>&hellip;</td><td>&hellip;</td><td>&hellip;</td><td>&hellip;</td></tr><tr><td>15903</td><td>&quot;Chester County…</td><td>&quot;Yes&quot;</td><td>&quot;WORRELL&#x27;S BUTC…</td><td>&quot;ChesterCountyF…</td><td>&quot;111 W KING ST&quot;</td><td>&quot;Malvern&quot;</td><td>&quot;Chester&quot;</td><td>19355.0</td><td>&quot;PA&quot;</td><td>&quot;2019-12-06 00:…</td><td>&quot;Regular&quot;</td><td>&quot;Yes&quot;</td><td>&quot;POINT (-75.516…</td><td>&quot;ROBCisESMiWmMO…</td><td>&quot;Worrell&#x27;s Butc…</td><td>&quot;111 W KING ST&quot;</td><td>&quot;Malvern&quot;</td><td>&quot;PA&quot;</td><td>19355</td><td>40.035724</td><td>-75.516463</td><td>5.0</td><td>25.0</td><td>1.0</td><td>&quot;{&#x27;BusinessAcce…</td><td>&quot;Seafood Market…</td><td>&quot;{&#x27;Monday&#x27;: &#x27;9:…</td><td>&quot;2018-12-05 00:…</td><td>&quot;2018-12-05 00:…</td><td>&quot;[&#x27;This a full …</td><td>&quot;[5.0]&quot;</td><td>1</td><td>5.0</td></tr><tr><td>15512</td><td>&quot;Brookhaven Bor…</td><td>&quot;Yes&quot;</td><td>&quot;WaWa Store 804…</td><td>&quot;Food&quot;</td><td>&quot;4703 EDGEMONT …</td><td>&quot;Brookhaven, Pa…</td><td>&quot;Delaware&quot;</td><td>19015.0</td><td>&quot;PA&quot;</td><td>&quot;2019-09-05 00:…</td><td>&quot;Regular&quot;</td><td>&quot;Yes&quot;</td><td>&quot;POINT (-75.394…</td><td>&quot;Q5jjv62ck52e9A…</td><td>&quot;Wawa&quot;</td><td>&quot;4703 EDGEMONT …</td><td>&quot;Brookhaven&quot;</td><td>&quot;PA&quot;</td><td>19015</td><td>39.87646</td><td>-75.393377</td><td>3.0</td><td>14.0</td><td>1.0</td><td>&quot;{&#x27;RestaurantsT…</td><td>&quot;Restaurants, A…</td><td>&quot;{&#x27;Monday&#x27;: &#x27;0:…</td><td>null</td><td>&quot;2018-09-10 00:…</td><td>&quot;[&quot;I gave this …</td><td>&quot;[2.0]&quot;</td><td>1</td><td>2.0</td></tr><tr><td>10456</td><td>&quot;Chester County…</td><td>&quot;No&quot;</td><td>&quot;XPRESS PIZZA &amp;…</td><td>&quot;ChesterCountyF…</td><td>&quot;217 BRIDGE ST&quot;</td><td>&quot;Phoenixville&quot;</td><td>&quot;Chester&quot;</td><td>19460.0</td><td>&quot;PA&quot;</td><td>&quot;2018-10-18 00:…</td><td>&quot;Regular&quot;</td><td>&quot;Yes&quot;</td><td>&quot;POINT (-75.516…</td><td>&quot;e9XOlcuSFkD_NY…</td><td>&quot;Guatemalan Kit…</td><td>&quot;217 BRIDGE ST&quot;</td><td>&quot;Phoenixville&quot;</td><td>&quot;PA&quot;</td><td>19460</td><td>40.134063</td><td>-75.516957</td><td>4.5</td><td>66.0</td><td>1.0</td><td>&quot;{&#x27;BikeParking&#x27;…</td><td>&quot;Restaurants, M…</td><td>&quot;{&#x27;Monday&#x27;: &#x27;11…</td><td>null</td><td>&quot;2017-10-23 00:…</td><td>&quot;[&quot;This tiny ho…</td><td>&quot;[5.0, 5.0, 5.0…</td><td>12</td><td>4.75</td></tr><tr><td>28157</td><td>&quot;PENNSYLVANIA D…</td><td>&quot;No&quot;</td><td>&quot;XPRESSO CAFE&quot;</td><td>&quot;Food&quot;</td><td>&quot;52 S MAIN ST&quot;</td><td>&quot;Nazareth&quot;</td><td>&quot;Northampton&quot;</td><td>18064.0</td><td>&quot;PA&quot;</td><td>&quot;2018-07-25 00:…</td><td>&quot;Change of Owne…</td><td>&quot;Yes&quot;</td><td>&quot;POINT (-75.311…</td><td>&quot;OUncADoYFGjgNG…</td><td>&quot;Celt-Iberia Tr…</td><td>&quot;52 S MAIN ST&quot;</td><td>&quot;New Hope&quot;</td><td>&quot;PA&quot;</td><td>18938</td><td>40.362597</td><td>-74.950766</td><td>3.0</td><td>30.0</td><td>0.0</td><td>&quot;{&#x27;BusinessAcce…</td><td>&quot;Home &amp; Garden,…</td><td>&quot;{&#x27;Monday&#x27;: &#x27;11…</td><td>null</td><td>&quot;2017-07-30 00:…</td><td>&quot;[&quot;I don&#x27;t even…</td><td>&quot;[1.0]&quot;</td><td>1</td><td>1.0</td></tr><tr><td>14461</td><td>&quot;Chester County…</td><td>&quot;Yes&quot;</td><td>&quot;YOGORINO&quot;</td><td>&quot;ChesterCountyF…</td><td>&quot;233 W LANCASTE…</td><td>&quot;Paoli&quot;</td><td>&quot;Chester&quot;</td><td>19301.0</td><td>&quot;PA&quot;</td><td>&quot;2018-03-26 00:…</td><td>&quot;Regular&quot;</td><td>&quot;Yes&quot;</td><td>&quot;POINT (-75.494…</td><td>&quot;pFwBaG-6kvrGgS…</td><td>&quot;Yogorino&quot;</td><td>&quot;233 W LANCASTE…</td><td>&quot;Paoli&quot;</td><td>&quot;PA&quot;</td><td>19301</td><td>40.041742</td><td>-75.494522</td><td>4.5</td><td>37.0</td><td>1.0</td><td>&quot;{&#x27;BusinessAcce…</td><td>&quot;Restaurants, I…</td><td>&quot;{&#x27;Monday&#x27;: &#x27;0:…</td><td>null</td><td>&quot;2017-03-31 00:…</td><td>&quot;[&quot;This place i…</td><td>&quot;[5.0]&quot;</td><td>1</td><td>5.0</td></tr><tr><td>10603</td><td>&quot;Chester County…</td><td>&quot;Yes&quot;</td><td>&quot;YOGORINO&quot;</td><td>&quot;ChesterCountyF…</td><td>&quot;233 W LANCASTE…</td><td>&quot;Paoli&quot;</td><td>&quot;Chester&quot;</td><td>19301.0</td><td>&quot;PA&quot;</td><td>&quot;2019-04-17 00:…</td><td>&quot;Regular&quot;</td><td>&quot;Yes&quot;</td><td>&quot;POINT (-75.494…</td><td>&quot;pFwBaG-6kvrGgS…</td><td>&quot;Yogorino&quot;</td><td>&quot;233 W LANCASTE…</td><td>&quot;Paoli&quot;</td><td>&quot;PA&quot;</td><td>19301</td><td>40.041742</td><td>-75.494522</td><td>4.5</td><td>37.0</td><td>1.0</td><td>&quot;{&#x27;BusinessAcce…</td><td>&quot;Restaurants, I…</td><td>&quot;{&#x27;Monday&#x27;: &#x27;0:…</td><td>&quot;2018-03-26 00:…</td><td>&quot;2018-03-26 00:…</td><td>&quot;[&#x27;The yogurt i…</td><td>&quot;[5.0, 5.0, 5.0…</td><td>6</td><td>3.833333</td></tr><tr><td>1721</td><td>&quot;Chester County…</td><td>&quot;Yes&quot;</td><td>&quot;YOKOHAMA JAPAN…</td><td>&quot;ChesterCountyF…</td><td>&quot;10 MARCHWOOD R…</td><td>&quot;Exton&quot;</td><td>&quot;Chester&quot;</td><td>19341.0</td><td>&quot;PA&quot;</td><td>&quot;2018-10-16 00:…</td><td>&quot;Regular&quot;</td><td>&quot;Yes&quot;</td><td>&quot;POINT (-75.637…</td><td>&quot;K3ImsdOnY29hfD…</td><td>&quot;Yokohama Japan…</td><td>&quot;10 MARCHWOOD R…</td><td>&quot;Exton&quot;</td><td>&quot;PA&quot;</td><td>19341</td><td>40.048418</td><td>-75.637134</td><td>3.5</td><td>36.0</td><td>1.0</td><td>&quot;{&#x27;RestaurantsD…</td><td>&quot;Restaurants, S…</td><td>&quot;{&#x27;Tuesday&#x27;: &#x27;1…</td><td>null</td><td>&quot;2017-10-21 00:…</td><td>&quot;[&quot;My family ha…</td><td>&quot;[5.0, 5.0, 5.0…</td><td>6</td><td>3.833333</td></tr><tr><td>12653</td><td>&quot;Chester County…</td><td>&quot;Yes&quot;</td><td>&quot;YOKOHAMA JAPAN…</td><td>&quot;ChesterCountyF…</td><td>&quot;10 MARCHWOOD R…</td><td>&quot;Exton&quot;</td><td>&quot;Chester&quot;</td><td>19341.0</td><td>&quot;PA&quot;</td><td>&quot;2019-10-24 00:…</td><td>&quot;Regular&quot;</td><td>&quot;Yes&quot;</td><td>&quot;POINT (-75.637…</td><td>&quot;K3ImsdOnY29hfD…</td><td>&quot;Yokohama Japan…</td><td>&quot;10 MARCHWOOD R…</td><td>&quot;Exton&quot;</td><td>&quot;PA&quot;</td><td>19341</td><td>40.048418</td><td>-75.637134</td><td>3.5</td><td>36.0</td><td>1.0</td><td>&quot;{&#x27;RestaurantsD…</td><td>&quot;Restaurants, S…</td><td>&quot;{&#x27;Tuesday&#x27;: &#x27;1…</td><td>&quot;2018-11-01 00:…</td><td>&quot;2018-11-01 00:…</td><td>&quot;[&#x27;Decent Japan…</td><td>&quot;[5.0, 5.0, 2.0…</td><td>4</td><td>4.25</td></tr><tr><td>7367</td><td>&quot;Chester County…</td><td>&quot;Yes&quot;</td><td>&quot;YORI&#x27;S CHURCH …</td><td>&quot;ChesterCountyF…</td><td>&quot;15 N CHURCH ST…</td><td>&quot;West Chester&quot;</td><td>&quot;Chester&quot;</td><td>19380.0</td><td>&quot;PA&quot;</td><td>&quot;2018-06-28 00:…</td><td>&quot;Regular&quot;</td><td>&quot;Yes&quot;</td><td>&quot;POINT (-75.605…</td><td>&quot;Ah7mpTWpdflSaC…</td><td>&quot;Yori&#x27;s Church …</td><td>&quot;15 N CHURCH ST…</td><td>&quot;West Chester&quot;</td><td>&quot;PA&quot;</td><td>19380</td><td>39.95954</td><td>-75.605789</td><td>4.5</td><td>86.0</td><td>1.0</td><td>&quot;{&#x27;BusinessAcce…</td><td>&quot;Restaurants, B…</td><td>&quot;{&#x27;Monday&#x27;: &#x27;7:…</td><td>null</td><td>&quot;2017-07-03 00:…</td><td>&quot;[&quot;Always smell…</td><td>&quot;[4.0, 5.0, 5.0…</td><td>6</td><td>4.833333</td></tr><tr><td>4300</td><td>&quot;Chester County…</td><td>&quot;Yes&quot;</td><td>&quot;YORI&#x27;S CHURCH …</td><td>&quot;ChesterCountyF…</td><td>&quot;15 N CHURCH ST…</td><td>&quot;West Chester&quot;</td><td>&quot;Chester&quot;</td><td>19380.0</td><td>&quot;PA&quot;</td><td>&quot;2019-07-01 00:…</td><td>&quot;Regular&quot;</td><td>&quot;Yes&quot;</td><td>&quot;POINT (-75.605…</td><td>&quot;Ah7mpTWpdflSaC…</td><td>&quot;Yori&#x27;s Church …</td><td>&quot;15 N CHURCH ST…</td><td>&quot;West Chester&quot;</td><td>&quot;PA&quot;</td><td>19380</td><td>39.95954</td><td>-75.605789</td><td>4.5</td><td>86.0</td><td>1.0</td><td>&quot;{&#x27;BusinessAcce…</td><td>&quot;Restaurants, B…</td><td>&quot;{&#x27;Monday&#x27;: &#x27;7:…</td><td>&quot;2018-06-28 00:…</td><td>&quot;2018-06-28 00:…</td><td>&quot;[&#x27;Ordered thre…</td><td>&quot;[5.0, 5.0, 5.0…</td><td>6</td><td>5.0</td></tr><tr><td>10912</td><td>&quot;Chester County…</td><td>&quot;Yes&quot;</td><td>&quot;ZWEI RESTAURAN…</td><td>&quot;ChesterCountyF…</td><td>&quot;163 W LINCOLN …</td><td>&quot;Exton&quot;</td><td>&quot;Chester&quot;</td><td>19341.0</td><td>&quot;PA&quot;</td><td>&quot;2018-08-07 00:…</td><td>&quot;Regular&quot;</td><td>&quot;No&quot;</td><td>&quot;POINT (-75.631…</td><td>&quot;-THauPUGjEYdwU…</td><td>&quot;Z Wei Restaura…</td><td>&quot;163 W LINCOLN …</td><td>&quot;Exton&quot;</td><td>&quot;PA&quot;</td><td>19341</td><td>40.030649</td><td>-75.631668</td><td>3.5</td><td>72.0</td><td>1.0</td><td>&quot;{&#x27;Alcohol&#x27;: &quot;u…</td><td>&quot;Sushi Bars, Re…</td><td>&quot;{&#x27;Monday&#x27;: &#x27;11…</td><td>null</td><td>&quot;2017-08-12 00:…</td><td>&quot;[&#x27;I have been …</td><td>&quot;[2.0, 5.0, 3.0…</td><td>6</td><td>2.666667</td></tr><tr><td>7720</td><td>&quot;Chester County…</td><td>&quot;Yes&quot;</td><td>&quot;ZWEI RESTAURAN…</td><td>&quot;ChesterCountyF…</td><td>&quot;163 W LINCOLN …</td><td>&quot;Exton&quot;</td><td>&quot;Chester&quot;</td><td>19341.0</td><td>&quot;PA&quot;</td><td>&quot;2019-07-22 00:…</td><td>&quot;Follow-up&quot;</td><td>&quot;Yes&quot;</td><td>&quot;POINT (-75.631…</td><td>&quot;-THauPUGjEYdwU…</td><td>&quot;Z Wei Restaura…</td><td>&quot;163 W LINCOLN …</td><td>&quot;Exton&quot;</td><td>&quot;PA&quot;</td><td>19341</td><td>40.030649</td><td>-75.631668</td><td>3.5</td><td>72.0</td><td>1.0</td><td>&quot;{&#x27;Alcohol&#x27;: &quot;u…</td><td>&quot;Sushi Bars, Re…</td><td>&quot;{&#x27;Monday&#x27;: &#x27;11…</td><td>&quot;2018-08-23 00:…</td><td>&quot;2018-08-23 00:…</td><td>&quot;[&quot;I&#x27;ve eaten s…</td><td>&quot;[4.0, 2.0, 4.0…</td><td>7</td><td>2.285714</td></tr></tbody></table></div>"
      ],
      "text/plain": [
       "shape: (2_165, 34)\n",
       "┌───────┬────────────┬────────────┬────────────┬───┬───────────┬───────────┬───────────┬───────────┐\n",
       "│       ┆ Organizati ┆ Active     ┆ Public     ┆ … ┆ reviews   ┆ ratings   ┆ n_reviews ┆ avg_ratin │\n",
       "│ ---   ┆ on Name    ┆ Indicator  ┆ Facility   ┆   ┆ ---       ┆ ---       ┆ ---       ┆ g         │\n",
       "│ i64   ┆ ---        ┆ ---        ┆ Name       ┆   ┆ str       ┆ str       ┆ i64       ┆ ---       │\n",
       "│       ┆ str        ┆ str        ┆ ---        ┆   ┆           ┆           ┆           ┆ f64       │\n",
       "│       ┆            ┆            ┆ str        ┆   ┆           ┆           ┆           ┆           │\n",
       "╞═══════╪════════════╪════════════╪════════════╪═══╪═══════════╪═══════════╪═══════════╪═══════════╡\n",
       "│ 10735 ┆ Chester    ┆ Yes        ┆ 158        ┆ … ┆ [\"Our     ┆ [1.0,     ┆ 11        ┆ 2.454545  │\n",
       "│       ┆ County     ┆            ┆ LICENSE,   ┆   ┆ first     ┆ 3.0, 1.0, ┆           ┆           │\n",
       "│       ┆ Health     ┆            ┆ LLC        ┆   ┆ visit     ┆ 5.0, 1.0, ┆           ┆           │\n",
       "│       ┆ Department ┆            ┆            ┆   ┆ here and  ┆ 5.0, 1…   ┆           ┆           │\n",
       "│       ┆            ┆            ┆            ┆   ┆ proba…    ┆           ┆           ┆           │\n",
       "│ 56848 ┆ PENNSYLVAN ┆ Yes        ┆ 3 B'S      ┆ … ┆ ['Stopped ┆ [4.0,     ┆ 2         ┆ 4.5       │\n",
       "│       ┆ IA         ┆            ┆ LOUNGE     ┆   ┆ in for    ┆ 5.0]      ┆           ┆           │\n",
       "│       ┆ DEPARTMENT ┆            ┆            ┆   ┆ happy     ┆           ┆           ┆           │\n",
       "│       ┆ OF AGRIC…  ┆            ┆            ┆   ┆ hour      ┆           ┆           ┆           │\n",
       "│       ┆            ┆            ┆            ┆   ┆ last…     ┆           ┆           ┆           │\n",
       "│ 72731 ┆ PENNSYLVAN ┆ Yes        ┆ 3 B'S      ┆ … ┆ ['Six of  ┆ [5.0,     ┆ 7         ┆ 3.571429  │\n",
       "│       ┆ IA         ┆            ┆ LOUNGE     ┆   ┆ us went   ┆ 1.0, 4.0, ┆           ┆           │\n",
       "│       ┆ DEPARTMENT ┆            ┆            ┆   ┆ here for  ┆ 5.0, 1.0, ┆           ┆           │\n",
       "│       ┆ OF AGRIC…  ┆            ┆            ┆   ┆ an ear…   ┆ 5.0, 4…   ┆           ┆           │\n",
       "│ 289   ┆ Chester    ┆ Yes        ┆ 30 MAIN    ┆ … ┆ [\"So I    ┆ [2.0,     ┆ 11        ┆ 3.363636  │\n",
       "│       ┆ County     ┆            ┆            ┆   ┆ read all  ┆ 5.0, 5.0, ┆           ┆           │\n",
       "│       ┆ Health     ┆            ┆            ┆   ┆ the       ┆ 3.0, 4.0, ┆           ┆           │\n",
       "│       ┆ Department ┆            ┆            ┆   ┆ reviews   ┆ 2.0, 1…   ┆           ┆           │\n",
       "│       ┆            ┆            ┆            ┆   ┆ and …     ┆           ┆           ┆           │\n",
       "│ 15080 ┆ Chester    ┆ Yes        ┆ 30 MAIN    ┆ … ┆ ['Ordered ┆ [1.0,     ┆ 5         ┆ 2.2       │\n",
       "│       ┆ County     ┆            ┆            ┆   ┆ through   ┆ 2.0, 5.0, ┆           ┆           │\n",
       "│       ┆ Health     ┆            ┆            ┆   ┆ Grub Hub, ┆ 2.0, 1.0] ┆           ┆           │\n",
       "│       ┆ Department ┆            ┆            ┆   ┆ and …     ┆           ┆           ┆           │\n",
       "│ …     ┆ …          ┆ …          ┆ …          ┆ … ┆ …         ┆ …         ┆ …         ┆ …         │\n",
       "│ 12653 ┆ Chester    ┆ Yes        ┆ YOKOHAMA   ┆ … ┆ ['Decent  ┆ [5.0,     ┆ 4         ┆ 4.25      │\n",
       "│       ┆ County     ┆            ┆ JAPANESE   ┆   ┆ Japanese  ┆ 5.0, 2.0, ┆           ┆           │\n",
       "│       ┆ Health     ┆            ┆ RESTAURANT ┆   ┆ food with ┆ 5.0]      ┆           ┆           │\n",
       "│       ┆ Department ┆            ┆            ┆   ┆ a go…     ┆           ┆           ┆           │\n",
       "│ 7367  ┆ Chester    ┆ Yes        ┆ YORI'S     ┆ … ┆ [\"Always  ┆ [4.0,     ┆ 6         ┆ 4.833333  │\n",
       "│       ┆ County     ┆            ┆ CHURCH     ┆   ┆ smells    ┆ 5.0, 5.0, ┆           ┆           │\n",
       "│       ┆ Health     ┆            ┆ STREET     ┆   ┆ delicious ┆ 5.0, 5.0, ┆           ┆           │\n",
       "│       ┆ Department ┆            ┆ BAKERY     ┆   ┆ when y…   ┆ 5.0]      ┆           ┆           │\n",
       "│ 4300  ┆ Chester    ┆ Yes        ┆ YORI'S     ┆ … ┆ ['Ordered ┆ [5.0,     ┆ 6         ┆ 5.0       │\n",
       "│       ┆ County     ┆            ┆ CHURCH     ┆   ┆ three     ┆ 5.0, 5.0, ┆           ┆           │\n",
       "│       ┆ Health     ┆            ┆ STREET     ┆   ┆ dozen     ┆ 5.0, 5.0, ┆           ┆           │\n",
       "│       ┆ Department ┆            ┆ BAKERY     ┆   ┆ custom    ┆ 5.0]      ┆           ┆           │\n",
       "│       ┆            ┆            ┆            ┆   ┆ coo…      ┆           ┆           ┆           │\n",
       "│ 10912 ┆ Chester    ┆ Yes        ┆ ZWEI       ┆ … ┆ ['I have  ┆ [2.0,     ┆ 6         ┆ 2.666667  │\n",
       "│       ┆ County     ┆            ┆ RESTAURANT ┆   ┆ been to   ┆ 5.0, 3.0, ┆           ┆           │\n",
       "│       ┆ Health     ┆            ┆ LLC        ┆   ┆ this rest ┆ 3.0, 2.0, ┆           ┆           │\n",
       "│       ┆ Department ┆            ┆            ┆   ┆ aurant…   ┆ 1.0]      ┆           ┆           │\n",
       "│ 7720  ┆ Chester    ┆ Yes        ┆ ZWEI       ┆ … ┆ [\"I've    ┆ [4.0,     ┆ 7         ┆ 2.285714  │\n",
       "│       ┆ County     ┆            ┆ RESTAURANT ┆   ┆ eaten sus ┆ 2.0, 4.0, ┆           ┆           │\n",
       "│       ┆ Health     ┆            ┆ LLC        ┆   ┆ hi/sashim ┆ 2.0, 2.0, ┆           ┆           │\n",
       "│       ┆ Department ┆            ┆            ┆   ┆ i all a…  ┆ 1.0, 1…   ┆           ┆           │\n",
       "└───────┴────────────┴────────────┴────────────┴───┴───────────┴───────────┴───────────┴───────────┘"
      ]
     },
     "execution_count": 34,
     "metadata": {},
     "output_type": "execute_result"
    }
   ],
   "source": [
    "pl.read_csv(\"data/phila/labeled_inspections_with_reviews.csv\")"
   ]
  }
 ],
 "metadata": {
  "kernelspec": {
   "display_name": ".venv",
   "language": "python",
   "name": "python3"
  },
  "language_info": {
   "codemirror_mode": {
    "name": "ipython",
    "version": 3
   },
   "file_extension": ".py",
   "mimetype": "text/x-python",
   "name": "python",
   "nbconvert_exporter": "python",
   "pygments_lexer": "ipython3",
   "version": "3.10.8"
  },
  "orig_nbformat": 4
 },
 "nbformat": 4,
 "nbformat_minor": 2
}
