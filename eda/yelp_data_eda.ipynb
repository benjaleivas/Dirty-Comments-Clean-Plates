{
 "cells": [
  {
   "cell_type": "code",
   "execution_count": 1,
   "metadata": {},
   "outputs": [],
   "source": [
    "import pandas as pd\n",
    "import polars as pl\n",
    "import os"
   ]
  },
  {
   "cell_type": "code",
   "execution_count": 3,
   "metadata": {},
   "outputs": [
    {
     "data": {
      "text/plain": [
       "'/Users/claireboyd/courses/advanced_ml/dirty_comments_and_clean_plates'"
      ]
     },
     "execution_count": 3,
     "metadata": {},
     "output_type": "execute_result"
    }
   ],
   "source": [
    "#ONLY RUN THIS ONCE\n",
    "os.chdir(\"..\")\n",
    "os.path.abspath(os.curdir)"
   ]
  },
  {
   "cell_type": "code",
   "execution_count": 4,
   "metadata": {},
   "outputs": [],
   "source": [
    "all_reviews = pl.scan_ndjson(\"data/yelp_dataset/yelp_academic_dataset_review.json\")"
   ]
  },
  {
   "cell_type": "code",
   "execution_count": 5,
   "metadata": {},
   "outputs": [
    {
     "data": {
      "text/plain": [
       "OrderedDict([('review_id', String),\n",
       "             ('user_id', String),\n",
       "             ('business_id', String),\n",
       "             ('stars', Float64),\n",
       "             ('useful', Int64),\n",
       "             ('funny', Int64),\n",
       "             ('cool', Int64),\n",
       "             ('text', String),\n",
       "             ('date', String)])"
      ]
     },
     "execution_count": 5,
     "metadata": {},
     "output_type": "execute_result"
    }
   ],
   "source": [
    "all_reviews.schema"
   ]
  },
  {
   "cell_type": "code",
   "execution_count": 9,
   "metadata": {},
   "outputs": [
    {
     "data": {
      "text/html": [
       "<div><style>\n",
       ".dataframe > thead > tr,\n",
       ".dataframe > tbody > tr {\n",
       "  text-align: right;\n",
       "  white-space: pre-wrap;\n",
       "}\n",
       "</style>\n",
       "<small>shape: (1, 9)</small><table border=\"1\" class=\"dataframe\"><thead><tr><th>review_id</th><th>user_id</th><th>business_id</th><th>stars</th><th>useful</th><th>funny</th><th>cool</th><th>text</th><th>date</th></tr><tr><td>u32</td><td>u32</td><td>u32</td><td>u32</td><td>u32</td><td>u32</td><td>u32</td><td>u32</td><td>u32</td></tr></thead><tbody><tr><td>6990280</td><td>6990280</td><td>6990280</td><td>6990280</td><td>6990280</td><td>6990280</td><td>6990280</td><td>6990280</td><td>6990280</td></tr></tbody></table></div>"
      ],
      "text/plain": [
       "shape: (1, 9)\n",
       "┌───────────┬─────────┬─────────────┬─────────┬───┬─────────┬─────────┬─────────┬─────────┐\n",
       "│ review_id ┆ user_id ┆ business_id ┆ stars   ┆ … ┆ funny   ┆ cool    ┆ text    ┆ date    │\n",
       "│ ---       ┆ ---     ┆ ---         ┆ ---     ┆   ┆ ---     ┆ ---     ┆ ---     ┆ ---     │\n",
       "│ u32       ┆ u32     ┆ u32         ┆ u32     ┆   ┆ u32     ┆ u32     ┆ u32     ┆ u32     │\n",
       "╞═══════════╪═════════╪═════════════╪═════════╪═══╪═════════╪═════════╪═════════╪═════════╡\n",
       "│ 6990280   ┆ 6990280 ┆ 6990280     ┆ 6990280 ┆ … ┆ 6990280 ┆ 6990280 ┆ 6990280 ┆ 6990280 │\n",
       "└───────────┴─────────┴─────────────┴─────────┴───┴─────────┴─────────┴─────────┴─────────┘"
      ]
     },
     "execution_count": 9,
     "metadata": {},
     "output_type": "execute_result"
    }
   ],
   "source": [
    "all_reviews.count().collect(streaming=True)"
   ]
  },
  {
   "cell_type": "code",
   "execution_count": 13,
   "metadata": {},
   "outputs": [],
   "source": [
    "all_businesses = pl.scan_ndjson(\"data/yelp_dataset/yelp_academic_dataset_business.json\")"
   ]
  },
  {
   "cell_type": "code",
   "execution_count": 14,
   "metadata": {},
   "outputs": [
    {
     "data": {
      "text/html": [
       "<div><style>\n",
       ".dataframe > thead > tr,\n",
       ".dataframe > tbody > tr {\n",
       "  text-align: right;\n",
       "  white-space: pre-wrap;\n",
       "}\n",
       "</style>\n",
       "<small>shape: (1, 14)</small><table border=\"1\" class=\"dataframe\"><thead><tr><th>business_id</th><th>name</th><th>address</th><th>city</th><th>state</th><th>postal_code</th><th>latitude</th><th>longitude</th><th>stars</th><th>review_count</th><th>is_open</th><th>attributes</th><th>categories</th><th>hours</th></tr><tr><td>u32</td><td>u32</td><td>u32</td><td>u32</td><td>u32</td><td>u32</td><td>u32</td><td>u32</td><td>u32</td><td>u32</td><td>u32</td><td>u32</td><td>u32</td><td>u32</td></tr></thead><tbody><tr><td>150346</td><td>150346</td><td>150346</td><td>150346</td><td>150346</td><td>150346</td><td>150346</td><td>150346</td><td>150346</td><td>150346</td><td>150346</td><td>136602</td><td>150243</td><td>127123</td></tr></tbody></table></div>"
      ],
      "text/plain": [
       "shape: (1, 14)\n",
       "┌─────────────┬────────┬─────────┬────────┬───┬─────────┬────────────┬────────────┬────────┐\n",
       "│ business_id ┆ name   ┆ address ┆ city   ┆ … ┆ is_open ┆ attributes ┆ categories ┆ hours  │\n",
       "│ ---         ┆ ---    ┆ ---     ┆ ---    ┆   ┆ ---     ┆ ---        ┆ ---        ┆ ---    │\n",
       "│ u32         ┆ u32    ┆ u32     ┆ u32    ┆   ┆ u32     ┆ u32        ┆ u32        ┆ u32    │\n",
       "╞═════════════╪════════╪═════════╪════════╪═══╪═════════╪════════════╪════════════╪════════╡\n",
       "│ 150346      ┆ 150346 ┆ 150346  ┆ 150346 ┆ … ┆ 150346  ┆ 136602     ┆ 150243     ┆ 127123 │\n",
       "└─────────────┴────────┴─────────┴────────┴───┴─────────┴────────────┴────────────┴────────┘"
      ]
     },
     "execution_count": 14,
     "metadata": {},
     "output_type": "execute_result"
    }
   ],
   "source": [
    "all_businesses.count().collect(streaming=True)"
   ]
  },
  {
   "cell_type": "code",
   "execution_count": 15,
   "metadata": {},
   "outputs": [],
   "source": [
    "all_users = pl.scan_ndjson(\"data/yelp_dataset/yelp_academic_dataset_user.json\")"
   ]
  },
  {
   "cell_type": "code",
   "execution_count": 17,
   "metadata": {},
   "outputs": [
    {
     "data": {
      "text/html": [
       "<div><style>\n",
       ".dataframe > thead > tr,\n",
       ".dataframe > tbody > tr {\n",
       "  text-align: right;\n",
       "  white-space: pre-wrap;\n",
       "}\n",
       "</style>\n",
       "<small>shape: (1, 22)</small><table border=\"1\" class=\"dataframe\"><thead><tr><th>user_id</th><th>name</th><th>review_count</th><th>yelping_since</th><th>useful</th><th>funny</th><th>cool</th><th>elite</th><th>friends</th><th>fans</th><th>average_stars</th><th>compliment_hot</th><th>compliment_more</th><th>compliment_profile</th><th>compliment_cute</th><th>compliment_list</th><th>compliment_note</th><th>compliment_plain</th><th>compliment_cool</th><th>compliment_funny</th><th>compliment_writer</th><th>compliment_photos</th></tr><tr><td>u32</td><td>u32</td><td>u32</td><td>u32</td><td>u32</td><td>u32</td><td>u32</td><td>u32</td><td>u32</td><td>u32</td><td>u32</td><td>u32</td><td>u32</td><td>u32</td><td>u32</td><td>u32</td><td>u32</td><td>u32</td><td>u32</td><td>u32</td><td>u32</td><td>u32</td></tr></thead><tbody><tr><td>1987897</td><td>1987897</td><td>1987897</td><td>1987897</td><td>1987897</td><td>1987897</td><td>1987897</td><td>1987897</td><td>1987897</td><td>1987897</td><td>1987897</td><td>1987897</td><td>1987897</td><td>1987897</td><td>1987897</td><td>1987897</td><td>1987897</td><td>1987897</td><td>1987897</td><td>1987897</td><td>1987897</td><td>1987897</td></tr></tbody></table></div>"
      ],
      "text/plain": [
       "shape: (1, 22)\n",
       "┌─────────┬─────────┬────────────┬────────────┬───┬────────────┬───────────┬───────────┬───────────┐\n",
       "│ user_id ┆ name    ┆ review_cou ┆ yelping_si ┆ … ┆ compliment ┆ complimen ┆ complimen ┆ complimen │\n",
       "│ ---     ┆ ---     ┆ nt         ┆ nce        ┆   ┆ _cool      ┆ t_funny   ┆ t_writer  ┆ t_photos  │\n",
       "│ u32     ┆ u32     ┆ ---        ┆ ---        ┆   ┆ ---        ┆ ---       ┆ ---       ┆ ---       │\n",
       "│         ┆         ┆ u32        ┆ u32        ┆   ┆ u32        ┆ u32       ┆ u32       ┆ u32       │\n",
       "╞═════════╪═════════╪════════════╪════════════╪═══╪════════════╪═══════════╪═══════════╪═══════════╡\n",
       "│ 1987897 ┆ 1987897 ┆ 1987897    ┆ 1987897    ┆ … ┆ 1987897    ┆ 1987897   ┆ 1987897   ┆ 1987897   │\n",
       "└─────────┴─────────┴────────────┴────────────┴───┴────────────┴───────────┴───────────┴───────────┘"
      ]
     },
     "execution_count": 17,
     "metadata": {},
     "output_type": "execute_result"
    }
   ],
   "source": [
    "all_users.count().collect(streaming=True)"
   ]
  }
 ],
 "metadata": {
  "kernelspec": {
   "display_name": ".venv",
   "language": "python",
   "name": "python3"
  },
  "language_info": {
   "codemirror_mode": {
    "name": "ipython",
    "version": 3
   },
   "file_extension": ".py",
   "mimetype": "text/x-python",
   "name": "python",
   "nbconvert_exporter": "python",
   "pygments_lexer": "ipython3",
   "version": "3.10.8"
  },
  "orig_nbformat": 4
 },
 "nbformat": 4,
 "nbformat_minor": 2
}
